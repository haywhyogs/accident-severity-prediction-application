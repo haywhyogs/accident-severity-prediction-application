{
 "cells": [
  {
   "cell_type": "code",
   "execution_count": 1,
   "id": "3c031d93",
   "metadata": {},
   "outputs": [],
   "source": [
    "#import necessary libraries\n",
    "import pandas as pd\n",
    "import numpy as np\n",
    "import matplotlib.pyplot as plt\n",
    "import seaborn as sns\n",
    "%matplotlib inline"
   ]
  },
  {
   "cell_type": "code",
   "execution_count": 2,
   "id": "e4c724d9",
   "metadata": {},
   "outputs": [
    {
     "name": "stderr",
     "output_type": "stream",
     "text": [
      "C:\\Users\\Haywh\\Anaconda3\\lib\\site-packages\\IPython\\core\\interactiveshell.py:3444: DtypeWarning: Columns (1,3,25,28) have mixed types.Specify dtype option on import or set low_memory=False.\n",
      "  exec(code_obj, self.user_global_ns, self.user_ns)\n"
     ]
    },
    {
     "data": {
      "text/html": [
       "<div>\n",
       "<style scoped>\n",
       "    .dataframe tbody tr th:only-of-type {\n",
       "        vertical-align: middle;\n",
       "    }\n",
       "\n",
       "    .dataframe tbody tr th {\n",
       "        vertical-align: top;\n",
       "    }\n",
       "\n",
       "    .dataframe thead th {\n",
       "        text-align: right;\n",
       "    }\n",
       "</style>\n",
       "<table border=\"1\" class=\"dataframe\">\n",
       "  <thead>\n",
       "    <tr style=\"text-align: right;\">\n",
       "      <th></th>\n",
       "      <th>Unnamed: 0</th>\n",
       "      <th>accident_index</th>\n",
       "      <th>accident_year</th>\n",
       "      <th>accident_reference</th>\n",
       "      <th>vehicle_reference</th>\n",
       "      <th>vehicle_type</th>\n",
       "      <th>towing_and_articulation</th>\n",
       "      <th>vehicle_manoeuvre</th>\n",
       "      <th>vehicle_direction_from</th>\n",
       "      <th>vehicle_direction_to</th>\n",
       "      <th>...</th>\n",
       "      <th>sex_of_driver</th>\n",
       "      <th>age_of_driver</th>\n",
       "      <th>age_band_of_driver</th>\n",
       "      <th>engine_capacity_cc</th>\n",
       "      <th>propulsion_code</th>\n",
       "      <th>age_of_vehicle</th>\n",
       "      <th>generic_make_model</th>\n",
       "      <th>driver_imd_decile</th>\n",
       "      <th>driver_home_area_type</th>\n",
       "      <th>lsoa_of_driver</th>\n",
       "    </tr>\n",
       "  </thead>\n",
       "  <tbody>\n",
       "    <tr>\n",
       "      <th>0</th>\n",
       "      <td>12641520</td>\n",
       "      <td>201001BS70003</td>\n",
       "      <td>2010</td>\n",
       "      <td>01BS70003</td>\n",
       "      <td>1</td>\n",
       "      <td>19</td>\n",
       "      <td>0</td>\n",
       "      <td>9</td>\n",
       "      <td>2</td>\n",
       "      <td>8</td>\n",
       "      <td>...</td>\n",
       "      <td>2</td>\n",
       "      <td>44</td>\n",
       "      <td>7</td>\n",
       "      <td>1360</td>\n",
       "      <td>1</td>\n",
       "      <td>1</td>\n",
       "      <td>-1</td>\n",
       "      <td>-1</td>\n",
       "      <td>1</td>\n",
       "      <td>E01004040</td>\n",
       "    </tr>\n",
       "    <tr>\n",
       "      <th>1</th>\n",
       "      <td>12641521</td>\n",
       "      <td>201001BS70003</td>\n",
       "      <td>2010</td>\n",
       "      <td>01BS70003</td>\n",
       "      <td>2</td>\n",
       "      <td>1</td>\n",
       "      <td>0</td>\n",
       "      <td>7</td>\n",
       "      <td>6</td>\n",
       "      <td>8</td>\n",
       "      <td>...</td>\n",
       "      <td>1</td>\n",
       "      <td>26</td>\n",
       "      <td>6</td>\n",
       "      <td>-1</td>\n",
       "      <td>-1</td>\n",
       "      <td>-1</td>\n",
       "      <td>-1</td>\n",
       "      <td>-1</td>\n",
       "      <td>1</td>\n",
       "      <td>E01002911</td>\n",
       "    </tr>\n",
       "    <tr>\n",
       "      <th>2</th>\n",
       "      <td>12641522</td>\n",
       "      <td>201001BS70004</td>\n",
       "      <td>2010</td>\n",
       "      <td>01BS70004</td>\n",
       "      <td>1</td>\n",
       "      <td>9</td>\n",
       "      <td>0</td>\n",
       "      <td>18</td>\n",
       "      <td>2</td>\n",
       "      <td>6</td>\n",
       "      <td>...</td>\n",
       "      <td>1</td>\n",
       "      <td>48</td>\n",
       "      <td>8</td>\n",
       "      <td>1870</td>\n",
       "      <td>2</td>\n",
       "      <td>3</td>\n",
       "      <td>-1</td>\n",
       "      <td>-1</td>\n",
       "      <td>1</td>\n",
       "      <td>E01002692</td>\n",
       "    </tr>\n",
       "    <tr>\n",
       "      <th>3</th>\n",
       "      <td>12641523</td>\n",
       "      <td>201001BS70006</td>\n",
       "      <td>2010</td>\n",
       "      <td>01BS70006</td>\n",
       "      <td>1</td>\n",
       "      <td>20</td>\n",
       "      <td>0</td>\n",
       "      <td>7</td>\n",
       "      <td>6</td>\n",
       "      <td>8</td>\n",
       "      <td>...</td>\n",
       "      <td>1</td>\n",
       "      <td>42</td>\n",
       "      <td>7</td>\n",
       "      <td>3920</td>\n",
       "      <td>2</td>\n",
       "      <td>8</td>\n",
       "      <td>-1</td>\n",
       "      <td>-1</td>\n",
       "      <td>1</td>\n",
       "      <td>E01000050</td>\n",
       "    </tr>\n",
       "    <tr>\n",
       "      <th>4</th>\n",
       "      <td>12641524</td>\n",
       "      <td>201001BS70006</td>\n",
       "      <td>2010</td>\n",
       "      <td>01BS70006</td>\n",
       "      <td>2</td>\n",
       "      <td>1</td>\n",
       "      <td>0</td>\n",
       "      <td>15</td>\n",
       "      <td>6</td>\n",
       "      <td>2</td>\n",
       "      <td>...</td>\n",
       "      <td>1</td>\n",
       "      <td>33</td>\n",
       "      <td>6</td>\n",
       "      <td>-1</td>\n",
       "      <td>-1</td>\n",
       "      <td>-1</td>\n",
       "      <td>-1</td>\n",
       "      <td>-1</td>\n",
       "      <td>1</td>\n",
       "      <td>E01001374</td>\n",
       "    </tr>\n",
       "    <tr>\n",
       "      <th>5</th>\n",
       "      <td>12641525</td>\n",
       "      <td>201001BS70007</td>\n",
       "      <td>2010</td>\n",
       "      <td>01BS70007</td>\n",
       "      <td>1</td>\n",
       "      <td>9</td>\n",
       "      <td>0</td>\n",
       "      <td>17</td>\n",
       "      <td>4</td>\n",
       "      <td>1</td>\n",
       "      <td>...</td>\n",
       "      <td>2</td>\n",
       "      <td>24</td>\n",
       "      <td>5</td>\n",
       "      <td>1998</td>\n",
       "      <td>1</td>\n",
       "      <td>7</td>\n",
       "      <td>-1</td>\n",
       "      <td>-1</td>\n",
       "      <td>1</td>\n",
       "      <td>E01002829</td>\n",
       "    </tr>\n",
       "    <tr>\n",
       "      <th>6</th>\n",
       "      <td>12641526</td>\n",
       "      <td>201001BS70007</td>\n",
       "      <td>2010</td>\n",
       "      <td>01BS70007</td>\n",
       "      <td>2</td>\n",
       "      <td>9</td>\n",
       "      <td>0</td>\n",
       "      <td>18</td>\n",
       "      <td>6</td>\n",
       "      <td>2</td>\n",
       "      <td>...</td>\n",
       "      <td>2</td>\n",
       "      <td>36</td>\n",
       "      <td>7</td>\n",
       "      <td>1397</td>\n",
       "      <td>1</td>\n",
       "      <td>11</td>\n",
       "      <td>-1</td>\n",
       "      <td>-1</td>\n",
       "      <td>3</td>\n",
       "      <td>E01022202</td>\n",
       "    </tr>\n",
       "    <tr>\n",
       "      <th>7</th>\n",
       "      <td>12641527</td>\n",
       "      <td>201001BS70008</td>\n",
       "      <td>2010</td>\n",
       "      <td>01BS70008</td>\n",
       "      <td>1</td>\n",
       "      <td>8</td>\n",
       "      <td>0</td>\n",
       "      <td>9</td>\n",
       "      <td>6</td>\n",
       "      <td>4</td>\n",
       "      <td>...</td>\n",
       "      <td>1</td>\n",
       "      <td>55</td>\n",
       "      <td>8</td>\n",
       "      <td>1995</td>\n",
       "      <td>2</td>\n",
       "      <td>8</td>\n",
       "      <td>-1</td>\n",
       "      <td>-1</td>\n",
       "      <td>1</td>\n",
       "      <td>E01001191</td>\n",
       "    </tr>\n",
       "    <tr>\n",
       "      <th>8</th>\n",
       "      <td>12641528</td>\n",
       "      <td>201001BS70008</td>\n",
       "      <td>2010</td>\n",
       "      <td>01BS70008</td>\n",
       "      <td>2</td>\n",
       "      <td>5</td>\n",
       "      <td>0</td>\n",
       "      <td>18</td>\n",
       "      <td>2</td>\n",
       "      <td>6</td>\n",
       "      <td>...</td>\n",
       "      <td>1</td>\n",
       "      <td>27</td>\n",
       "      <td>6</td>\n",
       "      <td>749</td>\n",
       "      <td>1</td>\n",
       "      <td>4</td>\n",
       "      <td>-1</td>\n",
       "      <td>-1</td>\n",
       "      <td>1</td>\n",
       "      <td>E01017203</td>\n",
       "    </tr>\n",
       "    <tr>\n",
       "      <th>9</th>\n",
       "      <td>12641529</td>\n",
       "      <td>201001BS70009</td>\n",
       "      <td>2010</td>\n",
       "      <td>01BS70009</td>\n",
       "      <td>1</td>\n",
       "      <td>9</td>\n",
       "      <td>0</td>\n",
       "      <td>18</td>\n",
       "      <td>3</td>\n",
       "      <td>7</td>\n",
       "      <td>...</td>\n",
       "      <td>1</td>\n",
       "      <td>28</td>\n",
       "      <td>6</td>\n",
       "      <td>1781</td>\n",
       "      <td>1</td>\n",
       "      <td>11</td>\n",
       "      <td>-1</td>\n",
       "      <td>-1</td>\n",
       "      <td>-1</td>\n",
       "      <td>-1</td>\n",
       "    </tr>\n",
       "  </tbody>\n",
       "</table>\n",
       "<p>10 rows × 29 columns</p>\n",
       "</div>"
      ],
      "text/plain": [
       "   Unnamed: 0 accident_index  accident_year accident_reference  \\\n",
       "0    12641520  201001BS70003           2010          01BS70003   \n",
       "1    12641521  201001BS70003           2010          01BS70003   \n",
       "2    12641522  201001BS70004           2010          01BS70004   \n",
       "3    12641523  201001BS70006           2010          01BS70006   \n",
       "4    12641524  201001BS70006           2010          01BS70006   \n",
       "5    12641525  201001BS70007           2010          01BS70007   \n",
       "6    12641526  201001BS70007           2010          01BS70007   \n",
       "7    12641527  201001BS70008           2010          01BS70008   \n",
       "8    12641528  201001BS70008           2010          01BS70008   \n",
       "9    12641529  201001BS70009           2010          01BS70009   \n",
       "\n",
       "   vehicle_reference  vehicle_type  towing_and_articulation  \\\n",
       "0                  1            19                        0   \n",
       "1                  2             1                        0   \n",
       "2                  1             9                        0   \n",
       "3                  1            20                        0   \n",
       "4                  2             1                        0   \n",
       "5                  1             9                        0   \n",
       "6                  2             9                        0   \n",
       "7                  1             8                        0   \n",
       "8                  2             5                        0   \n",
       "9                  1             9                        0   \n",
       "\n",
       "   vehicle_manoeuvre  vehicle_direction_from  vehicle_direction_to  ...  \\\n",
       "0                  9                       2                     8  ...   \n",
       "1                  7                       6                     8  ...   \n",
       "2                 18                       2                     6  ...   \n",
       "3                  7                       6                     8  ...   \n",
       "4                 15                       6                     2  ...   \n",
       "5                 17                       4                     1  ...   \n",
       "6                 18                       6                     2  ...   \n",
       "7                  9                       6                     4  ...   \n",
       "8                 18                       2                     6  ...   \n",
       "9                 18                       3                     7  ...   \n",
       "\n",
       "   sex_of_driver  age_of_driver  age_band_of_driver  engine_capacity_cc  \\\n",
       "0              2             44                   7                1360   \n",
       "1              1             26                   6                  -1   \n",
       "2              1             48                   8                1870   \n",
       "3              1             42                   7                3920   \n",
       "4              1             33                   6                  -1   \n",
       "5              2             24                   5                1998   \n",
       "6              2             36                   7                1397   \n",
       "7              1             55                   8                1995   \n",
       "8              1             27                   6                 749   \n",
       "9              1             28                   6                1781   \n",
       "\n",
       "   propulsion_code  age_of_vehicle  generic_make_model  driver_imd_decile  \\\n",
       "0                1               1                  -1                 -1   \n",
       "1               -1              -1                  -1                 -1   \n",
       "2                2               3                  -1                 -1   \n",
       "3                2               8                  -1                 -1   \n",
       "4               -1              -1                  -1                 -1   \n",
       "5                1               7                  -1                 -1   \n",
       "6                1              11                  -1                 -1   \n",
       "7                2               8                  -1                 -1   \n",
       "8                1               4                  -1                 -1   \n",
       "9                1              11                  -1                 -1   \n",
       "\n",
       "   driver_home_area_type  lsoa_of_driver  \n",
       "0                      1       E01004040  \n",
       "1                      1       E01002911  \n",
       "2                      1       E01002692  \n",
       "3                      1       E01000050  \n",
       "4                      1       E01001374  \n",
       "5                      1       E01002829  \n",
       "6                      3       E01022202  \n",
       "7                      1       E01001191  \n",
       "8                      1       E01017203  \n",
       "9                     -1              -1  \n",
       "\n",
       "[10 rows x 29 columns]"
      ]
     },
     "execution_count": 2,
     "metadata": {},
     "output_type": "execute_result"
    }
   ],
   "source": [
    "#read vehicle data using pandas\n",
    "dfv = pd.read_csv('dft-road-casualty-statistics-vehicle-2010-2021.csv')\n",
    "dfv.head(10)"
   ]
  },
  {
   "cell_type": "markdown",
   "id": "9da14ae5",
   "metadata": {},
   "source": [
    "## Data Wrangling\n",
    "\n",
    "Check for properties"
   ]
  },
  {
   "cell_type": "code",
   "execution_count": 3,
   "id": "df9292e6",
   "metadata": {},
   "outputs": [
    {
     "data": {
      "text/plain": [
       "(2890752, 29)"
      ]
     },
     "execution_count": 3,
     "metadata": {},
     "output_type": "execute_result"
    }
   ],
   "source": [
    "dfv.shape"
   ]
  },
  {
   "cell_type": "code",
   "execution_count": 4,
   "id": "947e992a",
   "metadata": {},
   "outputs": [
    {
     "data": {
      "text/html": [
       "<div>\n",
       "<style scoped>\n",
       "    .dataframe tbody tr th:only-of-type {\n",
       "        vertical-align: middle;\n",
       "    }\n",
       "\n",
       "    .dataframe tbody tr th {\n",
       "        vertical-align: top;\n",
       "    }\n",
       "\n",
       "    .dataframe thead th {\n",
       "        text-align: right;\n",
       "    }\n",
       "</style>\n",
       "<table border=\"1\" class=\"dataframe\">\n",
       "  <thead>\n",
       "    <tr style=\"text-align: right;\">\n",
       "      <th></th>\n",
       "      <th>Unnamed: 0</th>\n",
       "      <th>accident_year</th>\n",
       "      <th>vehicle_reference</th>\n",
       "      <th>vehicle_type</th>\n",
       "      <th>towing_and_articulation</th>\n",
       "      <th>vehicle_manoeuvre</th>\n",
       "      <th>vehicle_direction_from</th>\n",
       "      <th>vehicle_direction_to</th>\n",
       "      <th>vehicle_location_restricted_lane</th>\n",
       "      <th>junction_location</th>\n",
       "      <th>...</th>\n",
       "      <th>vehicle_left_hand_drive</th>\n",
       "      <th>journey_purpose_of_driver</th>\n",
       "      <th>sex_of_driver</th>\n",
       "      <th>age_of_driver</th>\n",
       "      <th>age_band_of_driver</th>\n",
       "      <th>engine_capacity_cc</th>\n",
       "      <th>propulsion_code</th>\n",
       "      <th>age_of_vehicle</th>\n",
       "      <th>driver_imd_decile</th>\n",
       "      <th>driver_home_area_type</th>\n",
       "    </tr>\n",
       "  </thead>\n",
       "  <tbody>\n",
       "    <tr>\n",
       "      <th>count</th>\n",
       "      <td>2.890752e+06</td>\n",
       "      <td>2.890752e+06</td>\n",
       "      <td>2.890752e+06</td>\n",
       "      <td>2.890752e+06</td>\n",
       "      <td>2.890752e+06</td>\n",
       "      <td>2.890752e+06</td>\n",
       "      <td>2.890752e+06</td>\n",
       "      <td>2.890752e+06</td>\n",
       "      <td>2.890752e+06</td>\n",
       "      <td>2.890752e+06</td>\n",
       "      <td>...</td>\n",
       "      <td>2.890752e+06</td>\n",
       "      <td>2.890752e+06</td>\n",
       "      <td>2.890752e+06</td>\n",
       "      <td>2.890752e+06</td>\n",
       "      <td>2.890752e+06</td>\n",
       "      <td>2.890752e+06</td>\n",
       "      <td>2.890752e+06</td>\n",
       "      <td>2.890752e+06</td>\n",
       "      <td>2.890752e+06</td>\n",
       "      <td>2.890752e+06</td>\n",
       "    </tr>\n",
       "    <tr>\n",
       "      <th>mean</th>\n",
       "      <td>1.408690e+07</td>\n",
       "      <td>2.015051e+03</td>\n",
       "      <td>1.555090e+00</td>\n",
       "      <td>9.719228e+00</td>\n",
       "      <td>9.125549e-02</td>\n",
       "      <td>1.429193e+01</td>\n",
       "      <td>4.241941e+00</td>\n",
       "      <td>4.230748e+00</td>\n",
       "      <td>1.971099e+00</td>\n",
       "      <td>2.623784e+00</td>\n",
       "      <td>...</td>\n",
       "      <td>1.133416e+00</td>\n",
       "      <td>5.341372e+00</td>\n",
       "      <td>1.431421e+00</td>\n",
       "      <td>3.523801e+01</td>\n",
       "      <td>5.929176e+00</td>\n",
       "      <td>1.406875e+03</td>\n",
       "      <td>8.847452e-01</td>\n",
       "      <td>5.488575e+00</td>\n",
       "      <td>1.161717e+00</td>\n",
       "      <td>8.818688e-01</td>\n",
       "    </tr>\n",
       "    <tr>\n",
       "      <th>std</th>\n",
       "      <td>8.344884e+05</td>\n",
       "      <td>3.364526e+00</td>\n",
       "      <td>1.137195e+00</td>\n",
       "      <td>9.566937e+00</td>\n",
       "      <td>8.050621e-01</td>\n",
       "      <td>1.326644e+01</td>\n",
       "      <td>2.509817e+00</td>\n",
       "      <td>2.514469e+00</td>\n",
       "      <td>1.330820e+01</td>\n",
       "      <td>3.230532e+00</td>\n",
       "      <td>...</td>\n",
       "      <td>1.015217e+00</td>\n",
       "      <td>3.311988e+00</td>\n",
       "      <td>6.320003e-01</td>\n",
       "      <td>2.020109e+01</td>\n",
       "      <td>3.034290e+00</td>\n",
       "      <td>1.636860e+03</td>\n",
       "      <td>1.354366e+00</td>\n",
       "      <td>5.824942e+00</td>\n",
       "      <td>3.364437e+00</td>\n",
       "      <td>1.094905e+00</td>\n",
       "    </tr>\n",
       "    <tr>\n",
       "      <th>min</th>\n",
       "      <td>1.264152e+07</td>\n",
       "      <td>2.010000e+03</td>\n",
       "      <td>1.000000e+00</td>\n",
       "      <td>-1.000000e+00</td>\n",
       "      <td>-1.000000e+00</td>\n",
       "      <td>-1.000000e+00</td>\n",
       "      <td>-1.000000e+00</td>\n",
       "      <td>-1.000000e+00</td>\n",
       "      <td>-1.000000e+00</td>\n",
       "      <td>-1.000000e+00</td>\n",
       "      <td>...</td>\n",
       "      <td>-1.000000e+00</td>\n",
       "      <td>-1.000000e+00</td>\n",
       "      <td>-1.000000e+00</td>\n",
       "      <td>-1.000000e+00</td>\n",
       "      <td>-1.000000e+00</td>\n",
       "      <td>-1.000000e+00</td>\n",
       "      <td>-1.000000e+00</td>\n",
       "      <td>-1.000000e+00</td>\n",
       "      <td>-1.000000e+00</td>\n",
       "      <td>-1.000000e+00</td>\n",
       "    </tr>\n",
       "    <tr>\n",
       "      <th>25%</th>\n",
       "      <td>1.336421e+07</td>\n",
       "      <td>2.012000e+03</td>\n",
       "      <td>1.000000e+00</td>\n",
       "      <td>9.000000e+00</td>\n",
       "      <td>0.000000e+00</td>\n",
       "      <td>7.000000e+00</td>\n",
       "      <td>2.000000e+00</td>\n",
       "      <td>2.000000e+00</td>\n",
       "      <td>0.000000e+00</td>\n",
       "      <td>0.000000e+00</td>\n",
       "      <td>...</td>\n",
       "      <td>1.000000e+00</td>\n",
       "      <td>2.000000e+00</td>\n",
       "      <td>1.000000e+00</td>\n",
       "      <td>2.300000e+01</td>\n",
       "      <td>5.000000e+00</td>\n",
       "      <td>-1.000000e+00</td>\n",
       "      <td>1.000000e+00</td>\n",
       "      <td>0.000000e+00</td>\n",
       "      <td>-1.000000e+00</td>\n",
       "      <td>1.000000e+00</td>\n",
       "    </tr>\n",
       "    <tr>\n",
       "      <th>50%</th>\n",
       "      <td>1.408690e+07</td>\n",
       "      <td>2.015000e+03</td>\n",
       "      <td>1.000000e+00</td>\n",
       "      <td>9.000000e+00</td>\n",
       "      <td>0.000000e+00</td>\n",
       "      <td>1.700000e+01</td>\n",
       "      <td>4.000000e+00</td>\n",
       "      <td>4.000000e+00</td>\n",
       "      <td>0.000000e+00</td>\n",
       "      <td>1.000000e+00</td>\n",
       "      <td>...</td>\n",
       "      <td>1.000000e+00</td>\n",
       "      <td>6.000000e+00</td>\n",
       "      <td>1.000000e+00</td>\n",
       "      <td>3.500000e+01</td>\n",
       "      <td>6.000000e+00</td>\n",
       "      <td>1.390000e+03</td>\n",
       "      <td>1.000000e+00</td>\n",
       "      <td>5.000000e+00</td>\n",
       "      <td>-1.000000e+00</td>\n",
       "      <td>1.000000e+00</td>\n",
       "    </tr>\n",
       "    <tr>\n",
       "      <th>75%</th>\n",
       "      <td>1.480958e+07</td>\n",
       "      <td>2.018000e+03</td>\n",
       "      <td>2.000000e+00</td>\n",
       "      <td>9.000000e+00</td>\n",
       "      <td>0.000000e+00</td>\n",
       "      <td>1.800000e+01</td>\n",
       "      <td>6.000000e+00</td>\n",
       "      <td>6.000000e+00</td>\n",
       "      <td>0.000000e+00</td>\n",
       "      <td>6.000000e+00</td>\n",
       "      <td>...</td>\n",
       "      <td>1.000000e+00</td>\n",
       "      <td>6.000000e+00</td>\n",
       "      <td>2.000000e+00</td>\n",
       "      <td>4.900000e+01</td>\n",
       "      <td>8.000000e+00</td>\n",
       "      <td>1.896000e+03</td>\n",
       "      <td>2.000000e+00</td>\n",
       "      <td>1.000000e+01</td>\n",
       "      <td>3.000000e+00</td>\n",
       "      <td>1.000000e+00</td>\n",
       "    </tr>\n",
       "    <tr>\n",
       "      <th>max</th>\n",
       "      <td>1.553227e+07</td>\n",
       "      <td>2.021000e+03</td>\n",
       "      <td>9.990000e+02</td>\n",
       "      <td>9.900000e+01</td>\n",
       "      <td>9.000000e+00</td>\n",
       "      <td>9.900000e+01</td>\n",
       "      <td>9.000000e+00</td>\n",
       "      <td>9.000000e+00</td>\n",
       "      <td>9.900000e+01</td>\n",
       "      <td>9.000000e+00</td>\n",
       "      <td>...</td>\n",
       "      <td>9.000000e+00</td>\n",
       "      <td>1.500000e+01</td>\n",
       "      <td>3.000000e+00</td>\n",
       "      <td>1.020000e+02</td>\n",
       "      <td>1.100000e+01</td>\n",
       "      <td>9.999900e+04</td>\n",
       "      <td>1.200000e+01</td>\n",
       "      <td>1.110000e+02</td>\n",
       "      <td>1.000000e+01</td>\n",
       "      <td>3.000000e+00</td>\n",
       "    </tr>\n",
       "  </tbody>\n",
       "</table>\n",
       "<p>8 rows × 25 columns</p>\n",
       "</div>"
      ],
      "text/plain": [
       "         Unnamed: 0  accident_year  vehicle_reference  vehicle_type  \\\n",
       "count  2.890752e+06   2.890752e+06       2.890752e+06  2.890752e+06   \n",
       "mean   1.408690e+07   2.015051e+03       1.555090e+00  9.719228e+00   \n",
       "std    8.344884e+05   3.364526e+00       1.137195e+00  9.566937e+00   \n",
       "min    1.264152e+07   2.010000e+03       1.000000e+00 -1.000000e+00   \n",
       "25%    1.336421e+07   2.012000e+03       1.000000e+00  9.000000e+00   \n",
       "50%    1.408690e+07   2.015000e+03       1.000000e+00  9.000000e+00   \n",
       "75%    1.480958e+07   2.018000e+03       2.000000e+00  9.000000e+00   \n",
       "max    1.553227e+07   2.021000e+03       9.990000e+02  9.900000e+01   \n",
       "\n",
       "       towing_and_articulation  vehicle_manoeuvre  vehicle_direction_from  \\\n",
       "count             2.890752e+06       2.890752e+06            2.890752e+06   \n",
       "mean              9.125549e-02       1.429193e+01            4.241941e+00   \n",
       "std               8.050621e-01       1.326644e+01            2.509817e+00   \n",
       "min              -1.000000e+00      -1.000000e+00           -1.000000e+00   \n",
       "25%               0.000000e+00       7.000000e+00            2.000000e+00   \n",
       "50%               0.000000e+00       1.700000e+01            4.000000e+00   \n",
       "75%               0.000000e+00       1.800000e+01            6.000000e+00   \n",
       "max               9.000000e+00       9.900000e+01            9.000000e+00   \n",
       "\n",
       "       vehicle_direction_to  vehicle_location_restricted_lane  \\\n",
       "count          2.890752e+06                      2.890752e+06   \n",
       "mean           4.230748e+00                      1.971099e+00   \n",
       "std            2.514469e+00                      1.330820e+01   \n",
       "min           -1.000000e+00                     -1.000000e+00   \n",
       "25%            2.000000e+00                      0.000000e+00   \n",
       "50%            4.000000e+00                      0.000000e+00   \n",
       "75%            6.000000e+00                      0.000000e+00   \n",
       "max            9.000000e+00                      9.900000e+01   \n",
       "\n",
       "       junction_location  ...  vehicle_left_hand_drive  \\\n",
       "count       2.890752e+06  ...             2.890752e+06   \n",
       "mean        2.623784e+00  ...             1.133416e+00   \n",
       "std         3.230532e+00  ...             1.015217e+00   \n",
       "min        -1.000000e+00  ...            -1.000000e+00   \n",
       "25%         0.000000e+00  ...             1.000000e+00   \n",
       "50%         1.000000e+00  ...             1.000000e+00   \n",
       "75%         6.000000e+00  ...             1.000000e+00   \n",
       "max         9.000000e+00  ...             9.000000e+00   \n",
       "\n",
       "       journey_purpose_of_driver  sex_of_driver  age_of_driver  \\\n",
       "count               2.890752e+06   2.890752e+06   2.890752e+06   \n",
       "mean                5.341372e+00   1.431421e+00   3.523801e+01   \n",
       "std                 3.311988e+00   6.320003e-01   2.020109e+01   \n",
       "min                -1.000000e+00  -1.000000e+00  -1.000000e+00   \n",
       "25%                 2.000000e+00   1.000000e+00   2.300000e+01   \n",
       "50%                 6.000000e+00   1.000000e+00   3.500000e+01   \n",
       "75%                 6.000000e+00   2.000000e+00   4.900000e+01   \n",
       "max                 1.500000e+01   3.000000e+00   1.020000e+02   \n",
       "\n",
       "       age_band_of_driver  engine_capacity_cc  propulsion_code  \\\n",
       "count        2.890752e+06        2.890752e+06     2.890752e+06   \n",
       "mean         5.929176e+00        1.406875e+03     8.847452e-01   \n",
       "std          3.034290e+00        1.636860e+03     1.354366e+00   \n",
       "min         -1.000000e+00       -1.000000e+00    -1.000000e+00   \n",
       "25%          5.000000e+00       -1.000000e+00     1.000000e+00   \n",
       "50%          6.000000e+00        1.390000e+03     1.000000e+00   \n",
       "75%          8.000000e+00        1.896000e+03     2.000000e+00   \n",
       "max          1.100000e+01        9.999900e+04     1.200000e+01   \n",
       "\n",
       "       age_of_vehicle  driver_imd_decile  driver_home_area_type  \n",
       "count    2.890752e+06       2.890752e+06           2.890752e+06  \n",
       "mean     5.488575e+00       1.161717e+00           8.818688e-01  \n",
       "std      5.824942e+00       3.364437e+00           1.094905e+00  \n",
       "min     -1.000000e+00      -1.000000e+00          -1.000000e+00  \n",
       "25%      0.000000e+00      -1.000000e+00           1.000000e+00  \n",
       "50%      5.000000e+00      -1.000000e+00           1.000000e+00  \n",
       "75%      1.000000e+01       3.000000e+00           1.000000e+00  \n",
       "max      1.110000e+02       1.000000e+01           3.000000e+00  \n",
       "\n",
       "[8 rows x 25 columns]"
      ]
     },
     "execution_count": 4,
     "metadata": {},
     "output_type": "execute_result"
    }
   ],
   "source": [
    "dfv.describe()"
   ]
  },
  {
   "cell_type": "code",
   "execution_count": 5,
   "id": "d16cccb0",
   "metadata": {},
   "outputs": [
    {
     "name": "stdout",
     "output_type": "stream",
     "text": [
      "<class 'pandas.core.frame.DataFrame'>\n",
      "RangeIndex: 2890752 entries, 0 to 2890751\n",
      "Data columns (total 29 columns):\n",
      " #   Column                            Dtype \n",
      "---  ------                            ----- \n",
      " 0   Unnamed: 0                        int64 \n",
      " 1   accident_index                    object\n",
      " 2   accident_year                     int64 \n",
      " 3   accident_reference                object\n",
      " 4   vehicle_reference                 int64 \n",
      " 5   vehicle_type                      int64 \n",
      " 6   towing_and_articulation           int64 \n",
      " 7   vehicle_manoeuvre                 int64 \n",
      " 8   vehicle_direction_from            int64 \n",
      " 9   vehicle_direction_to              int64 \n",
      " 10  vehicle_location_restricted_lane  int64 \n",
      " 11  junction_location                 int64 \n",
      " 12  skidding_and_overturning          int64 \n",
      " 13  hit_object_in_carriageway         int64 \n",
      " 14  vehicle_leaving_carriageway       int64 \n",
      " 15  hit_object_off_carriageway        int64 \n",
      " 16  first_point_of_impact             int64 \n",
      " 17  vehicle_left_hand_drive           int64 \n",
      " 18  journey_purpose_of_driver         int64 \n",
      " 19  sex_of_driver                     int64 \n",
      " 20  age_of_driver                     int64 \n",
      " 21  age_band_of_driver                int64 \n",
      " 22  engine_capacity_cc                int64 \n",
      " 23  propulsion_code                   int64 \n",
      " 24  age_of_vehicle                    int64 \n",
      " 25  generic_make_model                object\n",
      " 26  driver_imd_decile                 int64 \n",
      " 27  driver_home_area_type             int64 \n",
      " 28  lsoa_of_driver                    object\n",
      "dtypes: int64(25), object(4)\n",
      "memory usage: 639.6+ MB\n"
     ]
    }
   ],
   "source": [
    "dfv.info()"
   ]
  },
  {
   "cell_type": "code",
   "execution_count": 6,
   "id": "4d9a5841",
   "metadata": {},
   "outputs": [
    {
     "data": {
      "text/plain": [
       "Unnamed: 0                           int64\n",
       "accident_index                      object\n",
       "accident_year                        int64\n",
       "accident_reference                  object\n",
       "vehicle_reference                    int64\n",
       "vehicle_type                         int64\n",
       "towing_and_articulation              int64\n",
       "vehicle_manoeuvre                    int64\n",
       "vehicle_direction_from               int64\n",
       "vehicle_direction_to                 int64\n",
       "vehicle_location_restricted_lane     int64\n",
       "junction_location                    int64\n",
       "skidding_and_overturning             int64\n",
       "hit_object_in_carriageway            int64\n",
       "vehicle_leaving_carriageway          int64\n",
       "hit_object_off_carriageway           int64\n",
       "first_point_of_impact                int64\n",
       "vehicle_left_hand_drive              int64\n",
       "journey_purpose_of_driver            int64\n",
       "sex_of_driver                        int64\n",
       "age_of_driver                        int64\n",
       "age_band_of_driver                   int64\n",
       "engine_capacity_cc                   int64\n",
       "propulsion_code                      int64\n",
       "age_of_vehicle                       int64\n",
       "generic_make_model                  object\n",
       "driver_imd_decile                    int64\n",
       "driver_home_area_type                int64\n",
       "lsoa_of_driver                      object\n",
       "dtype: object"
      ]
     },
     "execution_count": 6,
     "metadata": {},
     "output_type": "execute_result"
    }
   ],
   "source": [
    "dfv.dtypes"
   ]
  },
  {
   "cell_type": "code",
   "execution_count": 7,
   "id": "6b087604",
   "metadata": {},
   "outputs": [
    {
     "data": {
      "text/plain": [
       "0"
      ]
     },
     "execution_count": 7,
     "metadata": {},
     "output_type": "execute_result"
    }
   ],
   "source": [
    "dfv.duplicated().sum()"
   ]
  },
  {
   "cell_type": "code",
   "execution_count": 8,
   "id": "97290c51",
   "metadata": {},
   "outputs": [
    {
     "data": {
      "text/plain": [
       "Unnamed: 0                          0\n",
       "accident_index                      0\n",
       "accident_year                       0\n",
       "accident_reference                  0\n",
       "vehicle_reference                   0\n",
       "vehicle_type                        0\n",
       "towing_and_articulation             0\n",
       "vehicle_manoeuvre                   0\n",
       "vehicle_direction_from              0\n",
       "vehicle_direction_to                0\n",
       "vehicle_location_restricted_lane    0\n",
       "junction_location                   0\n",
       "skidding_and_overturning            0\n",
       "hit_object_in_carriageway           0\n",
       "vehicle_leaving_carriageway         0\n",
       "hit_object_off_carriageway          0\n",
       "first_point_of_impact               0\n",
       "vehicle_left_hand_drive             0\n",
       "journey_purpose_of_driver           0\n",
       "sex_of_driver                       0\n",
       "age_of_driver                       0\n",
       "age_band_of_driver                  0\n",
       "engine_capacity_cc                  0\n",
       "propulsion_code                     0\n",
       "age_of_vehicle                      0\n",
       "generic_make_model                  0\n",
       "driver_imd_decile                   0\n",
       "driver_home_area_type               0\n",
       "lsoa_of_driver                      0\n",
       "dtype: int64"
      ]
     },
     "execution_count": 8,
     "metadata": {},
     "output_type": "execute_result"
    }
   ],
   "source": [
    "dfv.isna().sum()"
   ]
  },
  {
   "cell_type": "markdown",
   "id": "b4679bdd",
   "metadata": {},
   "source": [
    "### Brief summary of above analysis\n",
    "\n",
    "- There are 2890752 rows and 29 columns\n",
    "- There are no null and duplicate values\n",
    "\n",
    "- Columns will be analysed and columns that won't be used will be dropped"
   ]
  },
  {
   "cell_type": "markdown",
   "id": "3e7a26ed",
   "metadata": {},
   "source": [
    "## Cleaning\n"
   ]
  },
  {
   "cell_type": "markdown",
   "id": "36eb0be0",
   "metadata": {},
   "source": [
    "Extract cars data"
   ]
  },
  {
   "cell_type": "code",
   "execution_count": 9,
   "id": "afec654a",
   "metadata": {},
   "outputs": [
    {
     "data": {
      "text/plain": [
       " 9     2050265\n",
       " 1      226300\n",
       " 19     151978\n",
       " 3       96476\n",
       " 5       76584\n",
       " 11      61751\n",
       " 8       57229\n",
       " 21      50778\n",
       " 4       26580\n",
       " 2       26100\n",
       " 90      20649\n",
       " 20      17545\n",
       " 98       7464\n",
       " 17       6167\n",
       " 10       6118\n",
       " 97       3031\n",
       " 22       2165\n",
       "-1        1375\n",
       " 16       1281\n",
       " 23        568\n",
       " 18        244\n",
       " 99        104\n",
       "Name: vehicle_type, dtype: int64"
      ]
     },
     "execution_count": 9,
     "metadata": {},
     "output_type": "execute_result"
    }
   ],
   "source": [
    "#count the values of vehicles involved\n",
    "dfv.vehicle_type.value_counts()"
   ]
  },
  {
   "cell_type": "code",
   "execution_count": 10,
   "id": "30e30145",
   "metadata": {},
   "outputs": [
    {
     "data": {
      "text/plain": [
       "9     2050265\n",
       "1      226300\n",
       "19     151978\n",
       "3       96476\n",
       "5       76584\n",
       "11      61751\n",
       "8       57229\n",
       "21      50778\n",
       "4       26580\n",
       "2       26100\n",
       "Name: vehicle_type, dtype: int64"
      ]
     },
     "execution_count": 10,
     "metadata": {},
     "output_type": "execute_result"
    }
   ],
   "source": [
    "#get the top 10 vehicles that were in accidents frequently\n",
    "top10 = dfv.vehicle_type.value_counts().head(10)\n",
    "top10"
   ]
  },
  {
   "cell_type": "markdown",
   "id": "f0cd9243",
   "metadata": {},
   "source": [
    "Interpretation of the Vehicle type values\n",
    "\n",
    "9 - Car\n",
    "\n",
    "1 - Pedal cycle\n",
    "\n",
    "19 - Van / Goods 3.5 tonnes mgw or under\n",
    "\n",
    "3 - Motorcycle 125cc and under\n",
    "\n",
    "5 - Motorcycle over 500cc \n",
    "\n",
    "11 - Bus or coach (17 or more pass seats)\n",
    "\n",
    "8 - Taxi/Private hire car\n",
    "\n",
    "21 - Goods 7.5 tonnes mgw and over\n",
    "\n",
    "4 - Motorcycle over 125cc and up to 500cc\n",
    "\n",
    "2 - Motorcycle 50cc and under\n"
   ]
  },
  {
   "cell_type": "markdown",
   "id": "ac8d8bf7",
   "metadata": {},
   "source": [
    "For majority of car accidents cars are mostly involved, with a count of 2050265 accidents in the time frame of 12 years.\n",
    "\n",
    "Pedal cycles and van/goods are in the top 3, they both have accident counts of 226300 and 151978 respectively"
   ]
  },
  {
   "cell_type": "markdown",
   "id": "60708269",
   "metadata": {},
   "source": [
    "#### Which vehicle had towing and articulation?"
   ]
  },
  {
   "cell_type": "code",
   "execution_count": 11,
   "id": "9bcb60ae",
   "metadata": {
    "scrolled": true
   },
   "outputs": [
    {
     "data": {
      "text/html": [
       "<div>\n",
       "<style scoped>\n",
       "    .dataframe tbody tr th:only-of-type {\n",
       "        vertical-align: middle;\n",
       "    }\n",
       "\n",
       "    .dataframe tbody tr th {\n",
       "        vertical-align: top;\n",
       "    }\n",
       "\n",
       "    .dataframe thead th {\n",
       "        text-align: right;\n",
       "    }\n",
       "</style>\n",
       "<table border=\"1\" class=\"dataframe\">\n",
       "  <thead>\n",
       "    <tr style=\"text-align: right;\">\n",
       "      <th></th>\n",
       "      <th>Unnamed: 0</th>\n",
       "      <th>accident_index</th>\n",
       "      <th>accident_year</th>\n",
       "      <th>accident_reference</th>\n",
       "      <th>vehicle_reference</th>\n",
       "      <th>vehicle_type</th>\n",
       "      <th>towing_and_articulation</th>\n",
       "      <th>vehicle_manoeuvre</th>\n",
       "      <th>vehicle_direction_from</th>\n",
       "      <th>vehicle_direction_to</th>\n",
       "      <th>...</th>\n",
       "      <th>sex_of_driver</th>\n",
       "      <th>age_of_driver</th>\n",
       "      <th>age_band_of_driver</th>\n",
       "      <th>engine_capacity_cc</th>\n",
       "      <th>propulsion_code</th>\n",
       "      <th>age_of_vehicle</th>\n",
       "      <th>generic_make_model</th>\n",
       "      <th>driver_imd_decile</th>\n",
       "      <th>driver_home_area_type</th>\n",
       "      <th>lsoa_of_driver</th>\n",
       "    </tr>\n",
       "  </thead>\n",
       "  <tbody>\n",
       "    <tr>\n",
       "      <th>2</th>\n",
       "      <td>12641522</td>\n",
       "      <td>201001BS70004</td>\n",
       "      <td>2010</td>\n",
       "      <td>01BS70004</td>\n",
       "      <td>1</td>\n",
       "      <td>9</td>\n",
       "      <td>0</td>\n",
       "      <td>18</td>\n",
       "      <td>2</td>\n",
       "      <td>6</td>\n",
       "      <td>...</td>\n",
       "      <td>1</td>\n",
       "      <td>48</td>\n",
       "      <td>8</td>\n",
       "      <td>1870</td>\n",
       "      <td>2</td>\n",
       "      <td>3</td>\n",
       "      <td>-1</td>\n",
       "      <td>-1</td>\n",
       "      <td>1</td>\n",
       "      <td>E01002692</td>\n",
       "    </tr>\n",
       "    <tr>\n",
       "      <th>5</th>\n",
       "      <td>12641525</td>\n",
       "      <td>201001BS70007</td>\n",
       "      <td>2010</td>\n",
       "      <td>01BS70007</td>\n",
       "      <td>1</td>\n",
       "      <td>9</td>\n",
       "      <td>0</td>\n",
       "      <td>17</td>\n",
       "      <td>4</td>\n",
       "      <td>1</td>\n",
       "      <td>...</td>\n",
       "      <td>2</td>\n",
       "      <td>24</td>\n",
       "      <td>5</td>\n",
       "      <td>1998</td>\n",
       "      <td>1</td>\n",
       "      <td>7</td>\n",
       "      <td>-1</td>\n",
       "      <td>-1</td>\n",
       "      <td>1</td>\n",
       "      <td>E01002829</td>\n",
       "    </tr>\n",
       "    <tr>\n",
       "      <th>6</th>\n",
       "      <td>12641526</td>\n",
       "      <td>201001BS70007</td>\n",
       "      <td>2010</td>\n",
       "      <td>01BS70007</td>\n",
       "      <td>2</td>\n",
       "      <td>9</td>\n",
       "      <td>0</td>\n",
       "      <td>18</td>\n",
       "      <td>6</td>\n",
       "      <td>2</td>\n",
       "      <td>...</td>\n",
       "      <td>2</td>\n",
       "      <td>36</td>\n",
       "      <td>7</td>\n",
       "      <td>1397</td>\n",
       "      <td>1</td>\n",
       "      <td>11</td>\n",
       "      <td>-1</td>\n",
       "      <td>-1</td>\n",
       "      <td>3</td>\n",
       "      <td>E01022202</td>\n",
       "    </tr>\n",
       "    <tr>\n",
       "      <th>7</th>\n",
       "      <td>12641527</td>\n",
       "      <td>201001BS70008</td>\n",
       "      <td>2010</td>\n",
       "      <td>01BS70008</td>\n",
       "      <td>1</td>\n",
       "      <td>8</td>\n",
       "      <td>0</td>\n",
       "      <td>9</td>\n",
       "      <td>6</td>\n",
       "      <td>4</td>\n",
       "      <td>...</td>\n",
       "      <td>1</td>\n",
       "      <td>55</td>\n",
       "      <td>8</td>\n",
       "      <td>1995</td>\n",
       "      <td>2</td>\n",
       "      <td>8</td>\n",
       "      <td>-1</td>\n",
       "      <td>-1</td>\n",
       "      <td>1</td>\n",
       "      <td>E01001191</td>\n",
       "    </tr>\n",
       "    <tr>\n",
       "      <th>9</th>\n",
       "      <td>12641529</td>\n",
       "      <td>201001BS70009</td>\n",
       "      <td>2010</td>\n",
       "      <td>01BS70009</td>\n",
       "      <td>1</td>\n",
       "      <td>9</td>\n",
       "      <td>0</td>\n",
       "      <td>18</td>\n",
       "      <td>3</td>\n",
       "      <td>7</td>\n",
       "      <td>...</td>\n",
       "      <td>1</td>\n",
       "      <td>28</td>\n",
       "      <td>6</td>\n",
       "      <td>1781</td>\n",
       "      <td>1</td>\n",
       "      <td>11</td>\n",
       "      <td>-1</td>\n",
       "      <td>-1</td>\n",
       "      <td>-1</td>\n",
       "      <td>-1</td>\n",
       "    </tr>\n",
       "    <tr>\n",
       "      <th>...</th>\n",
       "      <td>...</td>\n",
       "      <td>...</td>\n",
       "      <td>...</td>\n",
       "      <td>...</td>\n",
       "      <td>...</td>\n",
       "      <td>...</td>\n",
       "      <td>...</td>\n",
       "      <td>...</td>\n",
       "      <td>...</td>\n",
       "      <td>...</td>\n",
       "      <td>...</td>\n",
       "      <td>...</td>\n",
       "      <td>...</td>\n",
       "      <td>...</td>\n",
       "      <td>...</td>\n",
       "      <td>...</td>\n",
       "      <td>...</td>\n",
       "      <td>...</td>\n",
       "      <td>...</td>\n",
       "      <td>...</td>\n",
       "      <td>...</td>\n",
       "    </tr>\n",
       "    <tr>\n",
       "      <th>2890746</th>\n",
       "      <td>15532266</td>\n",
       "      <td>2021991196607</td>\n",
       "      <td>2021</td>\n",
       "      <td>991196607</td>\n",
       "      <td>1</td>\n",
       "      <td>9</td>\n",
       "      <td>0</td>\n",
       "      <td>18</td>\n",
       "      <td>5</td>\n",
       "      <td>1</td>\n",
       "      <td>...</td>\n",
       "      <td>1</td>\n",
       "      <td>38</td>\n",
       "      <td>7</td>\n",
       "      <td>-1</td>\n",
       "      <td>-1</td>\n",
       "      <td>-1</td>\n",
       "      <td>-1</td>\n",
       "      <td>5</td>\n",
       "      <td>2</td>\n",
       "      <td>-1</td>\n",
       "    </tr>\n",
       "    <tr>\n",
       "      <th>2890747</th>\n",
       "      <td>15532267</td>\n",
       "      <td>2021991196607</td>\n",
       "      <td>2021</td>\n",
       "      <td>991196607</td>\n",
       "      <td>2</td>\n",
       "      <td>9</td>\n",
       "      <td>0</td>\n",
       "      <td>18</td>\n",
       "      <td>1</td>\n",
       "      <td>5</td>\n",
       "      <td>...</td>\n",
       "      <td>1</td>\n",
       "      <td>61</td>\n",
       "      <td>9</td>\n",
       "      <td>-1</td>\n",
       "      <td>-1</td>\n",
       "      <td>-1</td>\n",
       "      <td>-1</td>\n",
       "      <td>9</td>\n",
       "      <td>2</td>\n",
       "      <td>-1</td>\n",
       "    </tr>\n",
       "    <tr>\n",
       "      <th>2890748</th>\n",
       "      <td>15532268</td>\n",
       "      <td>2021991197944</td>\n",
       "      <td>2021</td>\n",
       "      <td>991197944</td>\n",
       "      <td>1</td>\n",
       "      <td>9</td>\n",
       "      <td>0</td>\n",
       "      <td>18</td>\n",
       "      <td>3</td>\n",
       "      <td>7</td>\n",
       "      <td>...</td>\n",
       "      <td>2</td>\n",
       "      <td>51</td>\n",
       "      <td>8</td>\n",
       "      <td>-1</td>\n",
       "      <td>-1</td>\n",
       "      <td>-1</td>\n",
       "      <td>-1</td>\n",
       "      <td>5</td>\n",
       "      <td>3</td>\n",
       "      <td>-1</td>\n",
       "    </tr>\n",
       "    <tr>\n",
       "      <th>2890749</th>\n",
       "      <td>15532269</td>\n",
       "      <td>2021991200639</td>\n",
       "      <td>2021</td>\n",
       "      <td>991200639</td>\n",
       "      <td>1</td>\n",
       "      <td>9</td>\n",
       "      <td>0</td>\n",
       "      <td>18</td>\n",
       "      <td>4</td>\n",
       "      <td>8</td>\n",
       "      <td>...</td>\n",
       "      <td>2</td>\n",
       "      <td>24</td>\n",
       "      <td>5</td>\n",
       "      <td>-1</td>\n",
       "      <td>-1</td>\n",
       "      <td>-1</td>\n",
       "      <td>-1</td>\n",
       "      <td>4</td>\n",
       "      <td>1</td>\n",
       "      <td>-1</td>\n",
       "    </tr>\n",
       "    <tr>\n",
       "      <th>2890750</th>\n",
       "      <td>15532270</td>\n",
       "      <td>2021991201030</td>\n",
       "      <td>2021</td>\n",
       "      <td>991201030</td>\n",
       "      <td>1</td>\n",
       "      <td>9</td>\n",
       "      <td>0</td>\n",
       "      <td>18</td>\n",
       "      <td>2</td>\n",
       "      <td>6</td>\n",
       "      <td>...</td>\n",
       "      <td>1</td>\n",
       "      <td>28</td>\n",
       "      <td>6</td>\n",
       "      <td>-1</td>\n",
       "      <td>-1</td>\n",
       "      <td>-1</td>\n",
       "      <td>-1</td>\n",
       "      <td>5</td>\n",
       "      <td>2</td>\n",
       "      <td>-1</td>\n",
       "    </tr>\n",
       "  </tbody>\n",
       "</table>\n",
       "<p>2107494 rows × 29 columns</p>\n",
       "</div>"
      ],
      "text/plain": [
       "         Unnamed: 0 accident_index  accident_year accident_reference  \\\n",
       "2          12641522  201001BS70004           2010          01BS70004   \n",
       "5          12641525  201001BS70007           2010          01BS70007   \n",
       "6          12641526  201001BS70007           2010          01BS70007   \n",
       "7          12641527  201001BS70008           2010          01BS70008   \n",
       "9          12641529  201001BS70009           2010          01BS70009   \n",
       "...             ...            ...            ...                ...   \n",
       "2890746    15532266  2021991196607           2021          991196607   \n",
       "2890747    15532267  2021991196607           2021          991196607   \n",
       "2890748    15532268  2021991197944           2021          991197944   \n",
       "2890749    15532269  2021991200639           2021          991200639   \n",
       "2890750    15532270  2021991201030           2021          991201030   \n",
       "\n",
       "         vehicle_reference  vehicle_type  towing_and_articulation  \\\n",
       "2                        1             9                        0   \n",
       "5                        1             9                        0   \n",
       "6                        2             9                        0   \n",
       "7                        1             8                        0   \n",
       "9                        1             9                        0   \n",
       "...                    ...           ...                      ...   \n",
       "2890746                  1             9                        0   \n",
       "2890747                  2             9                        0   \n",
       "2890748                  1             9                        0   \n",
       "2890749                  1             9                        0   \n",
       "2890750                  1             9                        0   \n",
       "\n",
       "         vehicle_manoeuvre  vehicle_direction_from  vehicle_direction_to  ...  \\\n",
       "2                       18                       2                     6  ...   \n",
       "5                       17                       4                     1  ...   \n",
       "6                       18                       6                     2  ...   \n",
       "7                        9                       6                     4  ...   \n",
       "9                       18                       3                     7  ...   \n",
       "...                    ...                     ...                   ...  ...   \n",
       "2890746                 18                       5                     1  ...   \n",
       "2890747                 18                       1                     5  ...   \n",
       "2890748                 18                       3                     7  ...   \n",
       "2890749                 18                       4                     8  ...   \n",
       "2890750                 18                       2                     6  ...   \n",
       "\n",
       "         sex_of_driver  age_of_driver  age_band_of_driver  engine_capacity_cc  \\\n",
       "2                    1             48                   8                1870   \n",
       "5                    2             24                   5                1998   \n",
       "6                    2             36                   7                1397   \n",
       "7                    1             55                   8                1995   \n",
       "9                    1             28                   6                1781   \n",
       "...                ...            ...                 ...                 ...   \n",
       "2890746              1             38                   7                  -1   \n",
       "2890747              1             61                   9                  -1   \n",
       "2890748              2             51                   8                  -1   \n",
       "2890749              2             24                   5                  -1   \n",
       "2890750              1             28                   6                  -1   \n",
       "\n",
       "         propulsion_code  age_of_vehicle  generic_make_model  \\\n",
       "2                      2               3                  -1   \n",
       "5                      1               7                  -1   \n",
       "6                      1              11                  -1   \n",
       "7                      2               8                  -1   \n",
       "9                      1              11                  -1   \n",
       "...                  ...             ...                 ...   \n",
       "2890746               -1              -1                  -1   \n",
       "2890747               -1              -1                  -1   \n",
       "2890748               -1              -1                  -1   \n",
       "2890749               -1              -1                  -1   \n",
       "2890750               -1              -1                  -1   \n",
       "\n",
       "         driver_imd_decile  driver_home_area_type  lsoa_of_driver  \n",
       "2                       -1                      1       E01002692  \n",
       "5                       -1                      1       E01002829  \n",
       "6                       -1                      3       E01022202  \n",
       "7                       -1                      1       E01001191  \n",
       "9                       -1                     -1              -1  \n",
       "...                    ...                    ...             ...  \n",
       "2890746                  5                      2              -1  \n",
       "2890747                  9                      2              -1  \n",
       "2890748                  5                      3              -1  \n",
       "2890749                  4                      1              -1  \n",
       "2890750                  5                      2              -1  \n",
       "\n",
       "[2107494 rows x 29 columns]"
      ]
     },
     "execution_count": 11,
     "metadata": {},
     "output_type": "execute_result"
    }
   ],
   "source": [
    "# separate the vehicle type column into buses and cars\n",
    "\n",
    "cars = dfv[(dfv['vehicle_type'] == 8) | (dfv['vehicle_type'] == 9)]\n",
    "cars"
   ]
  },
  {
   "cell_type": "code",
   "execution_count": 12,
   "id": "1d0cf2fc",
   "metadata": {},
   "outputs": [
    {
     "data": {
      "text/plain": [
       "array([9, 8], dtype=int64)"
      ]
     },
     "execution_count": 12,
     "metadata": {},
     "output_type": "execute_result"
    }
   ],
   "source": [
    "cars.vehicle_type.unique()"
   ]
  },
  {
   "cell_type": "code",
   "execution_count": 13,
   "id": "ec1502a3",
   "metadata": {},
   "outputs": [
    {
     "data": {
      "text/html": [
       "<div>\n",
       "<style scoped>\n",
       "    .dataframe tbody tr th:only-of-type {\n",
       "        vertical-align: middle;\n",
       "    }\n",
       "\n",
       "    .dataframe tbody tr th {\n",
       "        vertical-align: top;\n",
       "    }\n",
       "\n",
       "    .dataframe thead th {\n",
       "        text-align: right;\n",
       "    }\n",
       "</style>\n",
       "<table border=\"1\" class=\"dataframe\">\n",
       "  <thead>\n",
       "    <tr style=\"text-align: right;\">\n",
       "      <th></th>\n",
       "      <th>Unnamed: 0</th>\n",
       "      <th>accident_index</th>\n",
       "      <th>accident_year</th>\n",
       "      <th>accident_reference</th>\n",
       "      <th>vehicle_reference</th>\n",
       "      <th>vehicle_type</th>\n",
       "      <th>towing_and_articulation</th>\n",
       "      <th>vehicle_manoeuvre</th>\n",
       "      <th>vehicle_direction_from</th>\n",
       "      <th>vehicle_direction_to</th>\n",
       "      <th>...</th>\n",
       "      <th>sex_of_driver</th>\n",
       "      <th>age_of_driver</th>\n",
       "      <th>age_band_of_driver</th>\n",
       "      <th>engine_capacity_cc</th>\n",
       "      <th>propulsion_code</th>\n",
       "      <th>age_of_vehicle</th>\n",
       "      <th>generic_make_model</th>\n",
       "      <th>driver_imd_decile</th>\n",
       "      <th>driver_home_area_type</th>\n",
       "      <th>lsoa_of_driver</th>\n",
       "    </tr>\n",
       "  </thead>\n",
       "  <tbody>\n",
       "    <tr>\n",
       "      <th>0</th>\n",
       "      <td>12641520</td>\n",
       "      <td>201001BS70003</td>\n",
       "      <td>2010</td>\n",
       "      <td>01BS70003</td>\n",
       "      <td>1</td>\n",
       "      <td>19</td>\n",
       "      <td>0</td>\n",
       "      <td>9</td>\n",
       "      <td>2</td>\n",
       "      <td>8</td>\n",
       "      <td>...</td>\n",
       "      <td>2</td>\n",
       "      <td>44</td>\n",
       "      <td>7</td>\n",
       "      <td>1360</td>\n",
       "      <td>1</td>\n",
       "      <td>1</td>\n",
       "      <td>-1</td>\n",
       "      <td>-1</td>\n",
       "      <td>1</td>\n",
       "      <td>E01004040</td>\n",
       "    </tr>\n",
       "    <tr>\n",
       "      <th>15</th>\n",
       "      <td>12641535</td>\n",
       "      <td>201001BS70012</td>\n",
       "      <td>2010</td>\n",
       "      <td>01BS70012</td>\n",
       "      <td>1</td>\n",
       "      <td>19</td>\n",
       "      <td>0</td>\n",
       "      <td>9</td>\n",
       "      <td>2</td>\n",
       "      <td>8</td>\n",
       "      <td>...</td>\n",
       "      <td>1</td>\n",
       "      <td>31</td>\n",
       "      <td>6</td>\n",
       "      <td>1753</td>\n",
       "      <td>2</td>\n",
       "      <td>11</td>\n",
       "      <td>-1</td>\n",
       "      <td>-1</td>\n",
       "      <td>1</td>\n",
       "      <td>E01002873</td>\n",
       "    </tr>\n",
       "    <tr>\n",
       "      <th>17</th>\n",
       "      <td>12641537</td>\n",
       "      <td>201001BS70013</td>\n",
       "      <td>2010</td>\n",
       "      <td>01BS70013</td>\n",
       "      <td>1</td>\n",
       "      <td>11</td>\n",
       "      <td>0</td>\n",
       "      <td>7</td>\n",
       "      <td>2</td>\n",
       "      <td>4</td>\n",
       "      <td>...</td>\n",
       "      <td>1</td>\n",
       "      <td>36</td>\n",
       "      <td>7</td>\n",
       "      <td>9000</td>\n",
       "      <td>2</td>\n",
       "      <td>2</td>\n",
       "      <td>-1</td>\n",
       "      <td>-1</td>\n",
       "      <td>1</td>\n",
       "      <td>E01003876</td>\n",
       "    </tr>\n",
       "    <tr>\n",
       "      <th>38</th>\n",
       "      <td>12641558</td>\n",
       "      <td>201001BS70028</td>\n",
       "      <td>2010</td>\n",
       "      <td>01BS70028</td>\n",
       "      <td>1</td>\n",
       "      <td>11</td>\n",
       "      <td>0</td>\n",
       "      <td>4</td>\n",
       "      <td>6</td>\n",
       "      <td>2</td>\n",
       "      <td>...</td>\n",
       "      <td>1</td>\n",
       "      <td>-1</td>\n",
       "      <td>-1</td>\n",
       "      <td>7300</td>\n",
       "      <td>2</td>\n",
       "      <td>5</td>\n",
       "      <td>-1</td>\n",
       "      <td>-1</td>\n",
       "      <td>-1</td>\n",
       "      <td>-1</td>\n",
       "    </tr>\n",
       "    <tr>\n",
       "      <th>40</th>\n",
       "      <td>12641560</td>\n",
       "      <td>201001BS70029</td>\n",
       "      <td>2010</td>\n",
       "      <td>01BS70029</td>\n",
       "      <td>1</td>\n",
       "      <td>10</td>\n",
       "      <td>0</td>\n",
       "      <td>3</td>\n",
       "      <td>3</td>\n",
       "      <td>7</td>\n",
       "      <td>...</td>\n",
       "      <td>1</td>\n",
       "      <td>58</td>\n",
       "      <td>9</td>\n",
       "      <td>-1</td>\n",
       "      <td>-1</td>\n",
       "      <td>-1</td>\n",
       "      <td>-1</td>\n",
       "      <td>-1</td>\n",
       "      <td>1</td>\n",
       "      <td>E01016490</td>\n",
       "    </tr>\n",
       "    <tr>\n",
       "      <th>...</th>\n",
       "      <td>...</td>\n",
       "      <td>...</td>\n",
       "      <td>...</td>\n",
       "      <td>...</td>\n",
       "      <td>...</td>\n",
       "      <td>...</td>\n",
       "      <td>...</td>\n",
       "      <td>...</td>\n",
       "      <td>...</td>\n",
       "      <td>...</td>\n",
       "      <td>...</td>\n",
       "      <td>...</td>\n",
       "      <td>...</td>\n",
       "      <td>...</td>\n",
       "      <td>...</td>\n",
       "      <td>...</td>\n",
       "      <td>...</td>\n",
       "      <td>...</td>\n",
       "      <td>...</td>\n",
       "      <td>...</td>\n",
       "      <td>...</td>\n",
       "    </tr>\n",
       "    <tr>\n",
       "      <th>2890651</th>\n",
       "      <td>15532171</td>\n",
       "      <td>2021991147999</td>\n",
       "      <td>2021</td>\n",
       "      <td>991147999</td>\n",
       "      <td>1</td>\n",
       "      <td>19</td>\n",
       "      <td>0</td>\n",
       "      <td>18</td>\n",
       "      <td>5</td>\n",
       "      <td>1</td>\n",
       "      <td>...</td>\n",
       "      <td>1</td>\n",
       "      <td>26</td>\n",
       "      <td>6</td>\n",
       "      <td>2143</td>\n",
       "      <td>2</td>\n",
       "      <td>2</td>\n",
       "      <td>MERCEDES SPRINTER</td>\n",
       "      <td>5</td>\n",
       "      <td>1</td>\n",
       "      <td>E01026971</td>\n",
       "    </tr>\n",
       "    <tr>\n",
       "      <th>2890681</th>\n",
       "      <td>15532201</td>\n",
       "      <td>2021991160850</td>\n",
       "      <td>2021</td>\n",
       "      <td>991160850</td>\n",
       "      <td>1</td>\n",
       "      <td>19</td>\n",
       "      <td>0</td>\n",
       "      <td>5</td>\n",
       "      <td>7</td>\n",
       "      <td>3</td>\n",
       "      <td>...</td>\n",
       "      <td>1</td>\n",
       "      <td>35</td>\n",
       "      <td>6</td>\n",
       "      <td>2143</td>\n",
       "      <td>2</td>\n",
       "      <td>9</td>\n",
       "      <td>MERCEDES SPRINTER</td>\n",
       "      <td>4</td>\n",
       "      <td>1</td>\n",
       "      <td>-1</td>\n",
       "    </tr>\n",
       "    <tr>\n",
       "      <th>2890699</th>\n",
       "      <td>15532219</td>\n",
       "      <td>2021991168029</td>\n",
       "      <td>2021</td>\n",
       "      <td>991168029</td>\n",
       "      <td>1</td>\n",
       "      <td>11</td>\n",
       "      <td>0</td>\n",
       "      <td>2</td>\n",
       "      <td>0</td>\n",
       "      <td>0</td>\n",
       "      <td>...</td>\n",
       "      <td>1</td>\n",
       "      <td>30</td>\n",
       "      <td>6</td>\n",
       "      <td>9000</td>\n",
       "      <td>2</td>\n",
       "      <td>7</td>\n",
       "      <td>SCANIA MODEL MISSING</td>\n",
       "      <td>5</td>\n",
       "      <td>2</td>\n",
       "      <td>-1</td>\n",
       "    </tr>\n",
       "    <tr>\n",
       "      <th>2890722</th>\n",
       "      <td>15532242</td>\n",
       "      <td>2021991179757</td>\n",
       "      <td>2021</td>\n",
       "      <td>991179757</td>\n",
       "      <td>2</td>\n",
       "      <td>11</td>\n",
       "      <td>0</td>\n",
       "      <td>5</td>\n",
       "      <td>5</td>\n",
       "      <td>1</td>\n",
       "      <td>...</td>\n",
       "      <td>1</td>\n",
       "      <td>45</td>\n",
       "      <td>7</td>\n",
       "      <td>-1</td>\n",
       "      <td>-1</td>\n",
       "      <td>-1</td>\n",
       "      <td>-1</td>\n",
       "      <td>10</td>\n",
       "      <td>2</td>\n",
       "      <td>-1</td>\n",
       "    </tr>\n",
       "    <tr>\n",
       "      <th>2890732</th>\n",
       "      <td>15532252</td>\n",
       "      <td>2021991184515</td>\n",
       "      <td>2021</td>\n",
       "      <td>991184515</td>\n",
       "      <td>1</td>\n",
       "      <td>19</td>\n",
       "      <td>0</td>\n",
       "      <td>18</td>\n",
       "      <td>3</td>\n",
       "      <td>7</td>\n",
       "      <td>...</td>\n",
       "      <td>1</td>\n",
       "      <td>37</td>\n",
       "      <td>7</td>\n",
       "      <td>-1</td>\n",
       "      <td>-1</td>\n",
       "      <td>-1</td>\n",
       "      <td>-1</td>\n",
       "      <td>10</td>\n",
       "      <td>1</td>\n",
       "      <td>-1</td>\n",
       "    </tr>\n",
       "  </tbody>\n",
       "</table>\n",
       "<p>219847 rows × 29 columns</p>\n",
       "</div>"
      ],
      "text/plain": [
       "         Unnamed: 0 accident_index  accident_year accident_reference  \\\n",
       "0          12641520  201001BS70003           2010          01BS70003   \n",
       "15         12641535  201001BS70012           2010          01BS70012   \n",
       "17         12641537  201001BS70013           2010          01BS70013   \n",
       "38         12641558  201001BS70028           2010          01BS70028   \n",
       "40         12641560  201001BS70029           2010          01BS70029   \n",
       "...             ...            ...            ...                ...   \n",
       "2890651    15532171  2021991147999           2021          991147999   \n",
       "2890681    15532201  2021991160850           2021          991160850   \n",
       "2890699    15532219  2021991168029           2021          991168029   \n",
       "2890722    15532242  2021991179757           2021          991179757   \n",
       "2890732    15532252  2021991184515           2021          991184515   \n",
       "\n",
       "         vehicle_reference  vehicle_type  towing_and_articulation  \\\n",
       "0                        1            19                        0   \n",
       "15                       1            19                        0   \n",
       "17                       1            11                        0   \n",
       "38                       1            11                        0   \n",
       "40                       1            10                        0   \n",
       "...                    ...           ...                      ...   \n",
       "2890651                  1            19                        0   \n",
       "2890681                  1            19                        0   \n",
       "2890699                  1            11                        0   \n",
       "2890722                  2            11                        0   \n",
       "2890732                  1            19                        0   \n",
       "\n",
       "         vehicle_manoeuvre  vehicle_direction_from  vehicle_direction_to  ...  \\\n",
       "0                        9                       2                     8  ...   \n",
       "15                       9                       2                     8  ...   \n",
       "17                       7                       2                     4  ...   \n",
       "38                       4                       6                     2  ...   \n",
       "40                       3                       3                     7  ...   \n",
       "...                    ...                     ...                   ...  ...   \n",
       "2890651                 18                       5                     1  ...   \n",
       "2890681                  5                       7                     3  ...   \n",
       "2890699                  2                       0                     0  ...   \n",
       "2890722                  5                       5                     1  ...   \n",
       "2890732                 18                       3                     7  ...   \n",
       "\n",
       "         sex_of_driver  age_of_driver  age_band_of_driver  engine_capacity_cc  \\\n",
       "0                    2             44                   7                1360   \n",
       "15                   1             31                   6                1753   \n",
       "17                   1             36                   7                9000   \n",
       "38                   1             -1                  -1                7300   \n",
       "40                   1             58                   9                  -1   \n",
       "...                ...            ...                 ...                 ...   \n",
       "2890651              1             26                   6                2143   \n",
       "2890681              1             35                   6                2143   \n",
       "2890699              1             30                   6                9000   \n",
       "2890722              1             45                   7                  -1   \n",
       "2890732              1             37                   7                  -1   \n",
       "\n",
       "         propulsion_code  age_of_vehicle    generic_make_model  \\\n",
       "0                      1               1                    -1   \n",
       "15                     2              11                    -1   \n",
       "17                     2               2                    -1   \n",
       "38                     2               5                    -1   \n",
       "40                    -1              -1                    -1   \n",
       "...                  ...             ...                   ...   \n",
       "2890651                2               2     MERCEDES SPRINTER   \n",
       "2890681                2               9     MERCEDES SPRINTER   \n",
       "2890699                2               7  SCANIA MODEL MISSING   \n",
       "2890722               -1              -1                    -1   \n",
       "2890732               -1              -1                    -1   \n",
       "\n",
       "         driver_imd_decile  driver_home_area_type  lsoa_of_driver  \n",
       "0                       -1                      1       E01004040  \n",
       "15                      -1                      1       E01002873  \n",
       "17                      -1                      1       E01003876  \n",
       "38                      -1                     -1              -1  \n",
       "40                      -1                      1       E01016490  \n",
       "...                    ...                    ...             ...  \n",
       "2890651                  5                      1       E01026971  \n",
       "2890681                  4                      1              -1  \n",
       "2890699                  5                      2              -1  \n",
       "2890722                 10                      2              -1  \n",
       "2890732                 10                      1              -1  \n",
       "\n",
       "[219847 rows x 29 columns]"
      ]
     },
     "execution_count": 13,
     "metadata": {},
     "output_type": "execute_result"
    }
   ],
   "source": [
    "buses = dfv[(dfv['vehicle_type'] == 10) | (dfv['vehicle_type'] == 11) | (dfv['vehicle_type'] == 19)]\n",
    "buses"
   ]
  },
  {
   "cell_type": "markdown",
   "id": "e443482c",
   "metadata": {},
   "source": [
    "#### What are the different types of cars and what models were involved in the accidents?\n"
   ]
  },
  {
   "cell_type": "code",
   "execution_count": 14,
   "id": "7f74ab80",
   "metadata": {},
   "outputs": [
    {
     "data": {
      "text/plain": [
       "array([9, 8], dtype=int64)"
      ]
     },
     "execution_count": 14,
     "metadata": {},
     "output_type": "execute_result"
    }
   ],
   "source": [
    "cars.vehicle_type.unique()"
   ]
  },
  {
   "cell_type": "markdown",
   "id": "0e76f9c9",
   "metadata": {},
   "source": [
    "9 - cars\n",
    "8 - Taxi/Private hire car"
   ]
  },
  {
   "cell_type": "code",
   "execution_count": 15,
   "id": "6a0d7f73",
   "metadata": {},
   "outputs": [
    {
     "data": {
      "text/plain": [
       "array([-1, '-1', 'AUDI Q5', 'AUDI A1', 'TOYOTA PRIUS', 'BMW 4 SERIES',\n",
       "       'VOLVO V60', 'MERCEDES C CLASS', 'JAGUAR XF SERIES', 'BMW X5',\n",
       "       'BMW 1 SERIES', 'PORSCHE CAYENNE', 'AUDI A4', 'VOLKSWAGEN CADDY',\n",
       "       'HONDA CRV', 'VAUXHALL CORSA', 'VOLKSWAGEN POLO',\n",
       "       'VOLKSWAGEN GOLF', 'BMW 5 SERIES', 'FIAT 500', 'MAZDA 323',\n",
       "       'HONDA INSIGHT', 'TOYOTA AYGO', 'TOYOTA YARIS', 'JAGUAR X TYPE',\n",
       "       'NISSAN NOTE', 'FORD KA', 'TOYOTA COROLLA', 'TOYOTA Model Missing',\n",
       "       'MITSUBISHI OUTLANDER', 'FORD FOCUS', 'MERCEDES A CLASS',\n",
       "       'SMART FORTWO', 'AUDI A6', 'VAUXHALL MOKKA',\n",
       "       'LAND ROVER RANGE ROVER', 'BMW 6 SERIES', 'FORD FIESTA',\n",
       "       'PEUGEOT 108', 'CITROEN C4', 'BMW M3', 'AUDI A3',\n",
       "       'MERCEDES B CLASS', 'FORD KUGA', 'PEUGEOT 107', 'RENAULT CLIO',\n",
       "       'TOYOTA PREVIA', 'SUZUKI WAGON R+', 'MAZDA 3', 'VOLKSWAGEN TIGUAN',\n",
       "       'KIA SORENTO', 'MERCEDES GLA CLASS', 'TOYOTA MODEL MISSING',\n",
       "       'KIA NIRO', 'SEAT ALHAMBRA', 'BMW 3 SERIES', 'MINI ROADSTER',\n",
       "       'LONDON TAXIS INT. TX4', 'SAAB 9-3', 'MAZDA 2', 'AUDI SQ5',\n",
       "       'VAUXHALL ASTRA', 'SUZUKI SWIFT', 'JAGUAR F-PACE',\n",
       "       'VAUXHALL VECTRA', 'NISSAN Model Missing',\n",
       "       'LAND ROVER RANGE ROVER VELAR', 'MERCEDES GLC CLASS',\n",
       "       'RENAULT MEGANE', 'VOLKSWAGEN UP BY', 'VOLKSWAGEN SHARAN',\n",
       "       'RENAULT SCENIC', 'HYUNDAI SANTA FE', 'MERCEDES E CLASS',\n",
       "       'VOLKSWAGEN TOURAN', 'TOYOTA AURIS', 'FIAT PUNTO',\n",
       "       'VOLKSWAGEN EOS', 'NISSAN X-TRAIL', 'PEUGEOT 208',\n",
       "       'NISSAN QASHQAI', 'SEAT IBIZA', 'RENAULT CAPTUR', 'LEXUS RX400',\n",
       "       'PEUGEOT 207', 'MERCEDES VITO', 'BMW 2 SERIES', 'MINI COOPER',\n",
       "       'LAND ROVER RANGE ROVER SPORT', 'MINI ONE', 'HYUNDAI I30',\n",
       "       'VAUXHALL COMBO', 'MERCEDES ML CLASS', 'LEXUS IS250',\n",
       "       'VAUXHALL INSIGNIA', 'CHEVROLET CAPTIVA', 'ALFA ROMEO GIULIA',\n",
       "       'VOLKSWAGEN UP', 'TOYOTA AVENSIS', 'VAUXHALL ZAFIRA', 'TOYOTA IQ',\n",
       "       'NISSAN JUKE', 'PEUGEOT 2008', 'PEUGEOT 308', 'VAUXHALL ADAM',\n",
       "       'AUDI Q3', 'FORD MONDEO', 'MINI COUNTRYMAN', 'PEUGEOT 206',\n",
       "       'TOYOTA VERSO', 'HONDA CIVIC', 'MERCEDES CLA CLASS',\n",
       "       'NISSAN MICRA', 'BMW X1', 'FORD GALAXY', 'MERCEDES CLS CLASS',\n",
       "       'TOYOTA PRIUS+', 'FORD FUSION', 'MERCEDES R CLASS', 'AUDI A5',\n",
       "       'SKODA YETI', 'VOLKSWAGEN PASSAT', 'CITROEN C1', 'SMART FORFOUR',\n",
       "       'BMW I3', 'KIA CEED', 'BMW M4', 'KIA OPTIMA', 'MAZDA CX5',\n",
       "       'ABARTH 500', 'AUDI TT', 'PORSCHE MACAN', 'HONDA JAZZ',\n",
       "       'FORD Model Missing', 'PORSCHE 911', 'AUDI A8', 'HONDA ACCORD',\n",
       "       'TOYOTA RAV4', 'MERCEDES CLC CLASS', 'BMW X3', 'NISSAN ALMERA',\n",
       "       'SMART CITY', 'DODGE CALIBER', 'AUDI A7', 'ALFA ROMEO GIULIETTA',\n",
       "       'VOLKSWAGEN SCIROCCO', 'MITSUBISHI SHOGUN', 'MERCEDES S CLASS',\n",
       "       'FORD C-MAX', 'LAND ROVER DISCOVERY', 'VOLKSWAGEN URBAN',\n",
       "       'PEUGEOT 407', 'FORD ECOSPORT', 'CHEVROLET MATIZ', 'NISSAN PULSAR',\n",
       "       'BMW 7 SERIES', 'HONDA HR-V', 'AUDI Q2', 'SKODA FABIA',\n",
       "       'SKODA OCTAVIA', 'VOLVO V70', 'JEEP COMPASS',\n",
       "       'VOLKSWAGEN TRANSPORTER', 'PEUGEOT 307', 'LAND ROVER DEFENDER',\n",
       "       'VOLKSWAGEN T-ROC', 'VOLVO XC90', 'SEAT LEON', 'KIA PICANTO',\n",
       "       'MINI PACEMAN', 'KIA SPORTAGE', 'LAND ROVER RANGE ROVER EVOQUE',\n",
       "       'PEUGEOT 5008', 'CITROEN DS5', 'HYUNDAI I10', 'LEVC TX',\n",
       "       'PEUGEOT 3008', 'VOLVO S60', 'HYUNDAI IONIQ', 'FORD TOURNEO',\n",
       "       'TOYOTA C-HR', 'RENAULT KADJAR', 'SKODA CITIGO', 'CITROEN SAXO',\n",
       "       'PORSCHE PANAMERA', 'LAND ROVER FREELANDER', 'VAUXHALL ASTRAVAN',\n",
       "       'CITROEN BERLINGO', 'RENAULT LAGUNA', 'MERCEDES CLK CLASS',\n",
       "       'MINI CLUBMAN', 'LONDON TAXIS INT. TXII', 'AUDI A2',\n",
       "       'VAUXHALL CROSSLAND', 'VAUXHALL AGILA', 'MITSUBISHI ASX',\n",
       "       'VAUXHALL MERIVA', 'KIA SOUL', 'SKODA SUPERB',\n",
       "       'BENTLEY CONTINENTAL', 'ABARTH 595', 'HONDA Model Missing',\n",
       "       'LEXUS IS220', 'NISSAN LEAF', 'DS DS3', 'MINI FIRST',\n",
       "       'JAGUAR I-PACE', 'FORD GRAND C-MAX', 'SUZUKI VITARA',\n",
       "       'CITROEN DS3', 'FORD S-MAX', 'CHEVROLET ORLANDO', 'LEXUS UX 250H',\n",
       "       'JAGUAR S TYPE', 'RENAULT MODUS', 'SEAT TOLEDO', 'BMW X4',\n",
       "       'VOLVO V90', 'LEXUS CT 200', 'AUDI S5', 'SKODA KAROQ',\n",
       "       'CITROEN C2', 'MERCEDES VIANO', 'MAZDA 6', 'PEUGEOT PARTNER',\n",
       "       'PORSCHE BOXSTER', 'LEXUS IS300', 'VOLVO S40', 'MAZDA 5',\n",
       "       'KIA VENGA', 'FIAT PANDA', 'SUZUKI IGNIS', 'HYUNDAI I20',\n",
       "       'VOLVO V40', 'CHEVROLET SPARK', 'HYUNDAI I40',\n",
       "       'MINI JOHN COOPER WORKS', 'RENAULT ZOE', 'CITROEN C3',\n",
       "       'PORSCHE 718', 'MERCEDES GLE CLASS', 'VOLKSWAGEN BEETLE',\n",
       "       'FIAT TIPO', 'MERCEDES Model Missing', 'LEXUS NX300',\n",
       "       'NISSAN PIXO', 'AUDI Q7', 'HONDA FR-V', 'MERCEDES AMG CLASS',\n",
       "       'AUDI S3', 'HYUNDAI IX20', 'VOLVO XC60', 'BMW X6',\n",
       "       'VOLKSWAGEN TOUAREG', 'FIAT DOBLO', 'SEAT ALTEA',\n",
       "       'RENAULT GRAND SCENIC', 'BMW M1', 'VOLVO XC40',\n",
       "       'MITSUBISHI LANCER', 'CITROEN XSARA', 'FORD B-MAX',\n",
       "       'NISSAN PRIMERA', 'JAGUAR XK SERIES', 'LEXUS RX450',\n",
       "       'SKODA KODIAQ', 'SUZUKI SPLASH', 'JAGUAR XE SERIES', 'BMW Z4',\n",
       "       'JEEP CHEROKEE', 'TOYOTA HILUX', 'VOLKSWAGEN JETTA',\n",
       "       'VOLKSWAGEN LUPO', 'KIA SEDONA', 'HYUNDAI TUCSON', 'CITROEN C5',\n",
       "       'KIA RIO', 'SKODA ROOMSTER', 'VOLKSWAGEN BORA', 'KIA PRO CEED',\n",
       "       'CHRYSLER YPSILON', 'MITSUBISHI MIRAGE', 'MERCEDES SLK CLASS',\n",
       "       'TOYOTA MR2', 'LEXUS RX300', 'CHRYSLER VOYAGER',\n",
       "       'MERCEDES V CLASS', 'HYUNDAI GETZ', 'MITSUBISHI COLT',\n",
       "       'NISSAN NV200', 'HYUNDAI MATRIX', 'AUDI RS4', 'DACIA DUSTER',\n",
       "       'VOLVO V50', 'ALFA ROMEO MITO', 'DACIA LOGAN',\n",
       "       'VAUXHALL GRANDLAND', 'SEAT TARRACO', 'LAND ROVER Model Missing',\n",
       "       'SKODA RAPID', 'CHEVROLET CRUZE', 'SSANGYONG RODIUS',\n",
       "       'FORD MUSTANG', 'AUDI S4', 'VOLVO S80', 'JAGUAR E-PACE',\n",
       "       'KIA CARENS', 'JEEP RENEGADE', 'HYUNDAI ACCENT', 'HYUNDAI KONA',\n",
       "       'HONDA CR-V', 'CHEVROLET LACETTI', 'BMW M5', 'KIA STONIC',\n",
       "       'MAZDA CX3', 'SEAT ATECA', 'BMW M2', 'RENAULT TWINGO',\n",
       "       'SUZUKI SX4', 'ALFA ROMEO 147', 'MAZDA MX-5', 'VOLKSWAGEN CC',\n",
       "       'MERCEDES SL CLASS', 'VAUXHALL VIVARO', 'TESLA MODEL 3',\n",
       "       'MAZDA Model Missing', 'HYUNDAI IX35', 'ROVER 25', 'TESLA MODEL S',\n",
       "       'MITSUBISHI Model Missing', 'VAUXHALL VIVA', 'BMW X2',\n",
       "       'VOLKSWAGEN ARTEON', 'PEUGEOT HORIZON', 'FIAT BRAVO', 'VOLVO C 30',\n",
       "       'FORD KA+', 'ALFA ROMEO 159', 'LEXUS IS200', 'VAUXHALL TIGRA',\n",
       "       'CHEVROLET AVEO', 'TOYOTA LANDCRUISER', 'FIAT 500X',\n",
       "       'DACIA SANDERO', 'PEUGEOT 406', 'SUZUKI JIMNY', 'DAIHATSU SIRION',\n",
       "       'LEXUS GS300', 'MITSUBISHI ECLIPSE', 'CHRYSLER 300', 'SUZUKI ALTO',\n",
       "       'VOLKSWAGEN Model Missing', 'RENAULT KANGOO', 'FORD STREETKA',\n",
       "       'DS DS4', 'BMW Z3', 'LEXUS GS 450', 'MITSUBISHI GRANDIS',\n",
       "       'JAGUAR XJ SERIES', 'JEEP GRAND CHEROKEE', 'RENAULT KOLEOS',\n",
       "       'TOYOTA GT86', 'FORD EDGE', 'VOLVO XC70', 'SUBARU IMPREZA',\n",
       "       'ROVER 75', 'VAUXHALL ANTARA', 'ISUZU TROOPER', 'ROVER 45',\n",
       "       'SUZUKI CELERIO', 'AUDI Q8', 'MG XS', 'Honda Model Missing',\n",
       "       'FORD PUMA', 'MCC SMART', 'DAEWOO KALOS', 'FIAT SEICENTO',\n",
       "       'VOLVO S90', 'NISSAN PATHFINDER', 'HYUNDAI COUPE', 'FORD ESCORT',\n",
       "       'SEAT MII', 'AUDI TTS', 'PEUGEOT 106', 'KIA XCEED', 'SEAT ARONA',\n",
       "       'TOYOTA CELICA', 'VOLKSWAGEN T-CROSS', 'PEUGEOT 508',\n",
       "       'JAGUAR F TYPE', 'PEUGEOT 807', 'INFINITI Q30',\n",
       "       'BMW Model Missing', 'SUZUKI BALENO', 'HYUNDAI AMICA',\n",
       "       'JEEP WRANGLER', 'AUDI RS6', 'AUDI RS3', 'TESLA MODEL X',\n",
       "       'CITROEN DS4', 'SAAB 9-5', 'VOLVO C70', 'VOLKSWAGEN FOX',\n",
       "       'TOYOTA STARLET', 'MG ZS', 'SUBARU LEGACY', 'CHRYSLER PT CRUISER',\n",
       "       'MITSUBISHI CARISMA', 'CHEVROLET KALOS', 'PEUGEOT MODEL MISSING',\n",
       "       'HYUNDAI I800', 'RENAULT Model Missing', 'VOLVO Model Missing',\n",
       "       'SUBARU OUTBACK', 'PEUGEOT EXPERT', 'VAUXHALL SIGNUM', 'MAZDA RX8',\n",
       "       'SEAT EXEO', 'MG 3', 'RENAULT TRAFIC', 'SEAT AROSA', 'MG ZR',\n",
       "       'SSANGYONG KORANDO', 'PEUGEOT 306', 'CITROEN C-CROSSER',\n",
       "       'VOLVO MODEL MISSING', 'PEUGEOT Model Missing', 'PEUGEOT RCZ',\n",
       "       'MITSUBISHI SPACE STAR', 'SUBARU FORESTER', 'DAIHATSU TERIOS',\n",
       "       'HYUNDAI VELOSTER', 'NISSAN 350', 'SSANGYONG TIVOLI',\n",
       "       'LAND ROVER MODEL MISSING', 'CHRYSLER 300C', 'LEXUS RX 400',\n",
       "       'LEXUS NX 300', 'FIAT 500L', 'LEXUS IS 220', 'MERCEDES GLS CLASS',\n",
       "       'LEXUS RX 450', 'PORSCHE TAYCAN', 'MERCEDES MODEL MISSING',\n",
       "       'MAZDA CX-5', 'LEXUS IS 250', 'HONDA MODEL MISSING', 'MAZDA CX-3',\n",
       "       'LEXUS UX 250', 'LEXUS IS 300', 'BMW 8 SERIES', 'BMW I8',\n",
       "       'HONDA CR-Z', 'SUZUKI GRAND VITARA', 'MITSUBISHI MODEL MISSING',\n",
       "       'RENAULT MODEL MISSING', 'SSANGYONG REXTON', 'LEXUS RX 300',\n",
       "       'VOLVO C30', 'MERCEDES GLB CLASS', 'MG HS', 'LEXUS IS 200',\n",
       "       'VOLKSWAGEN CADDYMAXI', 'NISSAN MODEL MISSING', 'AUDI S1',\n",
       "       'PEUGEOT PREMIER', 'MERCEDES EQC CLASS', 'MERCEDES GL CLASS',\n",
       "       'FORD MODEL MISSING', 'MAZDA RX-8', 'AUDI R8',\n",
       "       'TOYOTA URBAN CRUISER', 'CHRYSLER GRAND VOYAGER', 'KIA CERATO',\n",
       "       'AUDI SQ7', 'VOLKSWAGEN MODEL MISSING', 'MAZDA MODEL MISSING',\n",
       "       'PORSCHE CAYMAN', 'VOLKSWAGEN ID3', 'AUDI E-TRON', 'JAGUAR F-TYPE',\n",
       "       'LEXUS GS 300', 'SKODA KAMIQ', 'MASERATI GHIBLI',\n",
       "       'BMW MODEL MISSING', 'VOLKSWAGEN CARAVELLE', 'SKODA SCALA',\n",
       "       'MAZDA CX-30', 'LAND ROVER 90', 'AUDI RS5'], dtype=object)"
      ]
     },
     "execution_count": 15,
     "metadata": {},
     "output_type": "execute_result"
    }
   ],
   "source": [
    "#unique values of generic make model\n",
    "cars.generic_make_model.unique()"
   ]
  },
  {
   "cell_type": "code",
   "execution_count": 16,
   "id": "2fac089a",
   "metadata": {},
   "outputs": [
    {
     "data": {
      "text/plain": [
       "9    2050265\n",
       "8      57229\n",
       "Name: vehicle_type, dtype: int64"
      ]
     },
     "execution_count": 16,
     "metadata": {},
     "output_type": "execute_result"
    }
   ],
   "source": [
    "#types of cars involved in accidents\n",
    "cars.vehicle_type.value_counts()"
   ]
  },
  {
   "cell_type": "code",
   "execution_count": 17,
   "id": "180836bc",
   "metadata": {},
   "outputs": [],
   "source": [
    "# what models were mostly involved in the accidents\n",
    "cars9 = cars[cars['vehicle_type'] == 9]\n"
   ]
  },
  {
   "cell_type": "code",
   "execution_count": 18,
   "id": "f263390a",
   "metadata": {
    "scrolled": true
   },
   "outputs": [
    {
     "data": {
      "text/plain": [
       "vehicle_type  generic_make_model\n",
       "9             -1                    1799674\n",
       "              -1                      59905\n",
       "              FORD FIESTA              9531\n",
       "              VAUXHALL CORSA           7808\n",
       "              VOLKSWAGEN GOLF          7212\n",
       "              FORD FOCUS               7208\n",
       "              VAUXHALL ASTRA           6944\n",
       "              BMW 3 SERIES             4932\n",
       "              VOLKSWAGEN POLO          4502\n",
       "              BMW 1 SERIES             3388\n",
       "              AUDI A3                  3328\n",
       "              TOYOTA YARIS             3266\n",
       "              MERCEDES C CLASS         3214\n",
       "              NISSAN QASHQAI           2851\n",
       "              RENAULT CLIO             2737\n",
       "              MERCEDES A CLASS         2412\n",
       "              HONDA CIVIC              2276\n",
       "              BMW 5 SERIES             2168\n",
       "              VAUXHALL ZAFIRA          2145\n",
       "              MINI COOPER              2132\n",
       "Name: generic_make_model, dtype: int64"
      ]
     },
     "execution_count": 18,
     "metadata": {},
     "output_type": "execute_result"
    }
   ],
   "source": [
    "cars9.groupby('vehicle_type')['generic_make_model'].value_counts().head(20)"
   ]
  },
  {
   "cell_type": "code",
   "execution_count": 19,
   "id": "3d41af60",
   "metadata": {},
   "outputs": [
    {
     "data": {
      "text/plain": [
       "vehicle_type  generic_make_model   \n",
       "9             PEUGEOT 807              10\n",
       "              SSANGYONG REXTON         10\n",
       "              PEUGEOT Model Missing     9\n",
       "              VOLVO Model Missing       8\n",
       "              Honda Model Missing       6\n",
       "Name: generic_make_model, dtype: int64"
      ]
     },
     "execution_count": 19,
     "metadata": {},
     "output_type": "execute_result"
    }
   ],
   "source": [
    "cars9.groupby('vehicle_type')['generic_make_model'].value_counts().tail()"
   ]
  },
  {
   "cell_type": "code",
   "execution_count": 20,
   "id": "2f8071b6",
   "metadata": {},
   "outputs": [],
   "source": [
    "cars8 = cars[cars['vehicle_type'] == 8]"
   ]
  },
  {
   "cell_type": "code",
   "execution_count": 21,
   "id": "f5e4cb70",
   "metadata": {
    "scrolled": true
   },
   "outputs": [
    {
     "data": {
      "text/plain": [
       "vehicle_type  generic_make_model   \n",
       "8             -1                       51522\n",
       "              -1                        1962\n",
       "              TOYOTA PRIUS               906\n",
       "              LONDON TAXIS INT. TX4      270\n",
       "              TOYOTA AURIS               239\n",
       "              SKODA OCTAVIA              217\n",
       "              MERCEDES VITO              183\n",
       "              MERCEDES E CLASS           162\n",
       "              LEVC TX                    161\n",
       "              VOLKSWAGEN PASSAT          123\n",
       "              VOLKSWAGEN SHARAN          120\n",
       "              TOYOTA AVENSIS             119\n",
       "              VAUXHALL ZAFIRA             85\n",
       "              FORD MONDEO                 84\n",
       "              FORD GALAXY                 82\n",
       "              SKODA SUPERB                65\n",
       "              TOYOTA PRIUS+               59\n",
       "              MITSUBISHI OUTLANDER        52\n",
       "              NISSAN LEAF                 52\n",
       "              VAUXHALL INSIGNIA           50\n",
       "Name: generic_make_model, dtype: int64"
      ]
     },
     "execution_count": 21,
     "metadata": {},
     "output_type": "execute_result"
    }
   ],
   "source": [
    "cars8.groupby('vehicle_type')['generic_make_model'].value_counts().head(20)"
   ]
  },
  {
   "cell_type": "code",
   "execution_count": 22,
   "id": "841bcae3",
   "metadata": {},
   "outputs": [
    {
     "data": {
      "text/plain": [
       "vehicle_type  generic_make_model  \n",
       "8             TOYOTA Model Missing    15\n",
       "              BMW 3 SERIES            14\n",
       "              BMW 5 SERIES            14\n",
       "              PEUGEOT PREMIER         11\n",
       "              HYUNDAI I40             10\n",
       "Name: generic_make_model, dtype: int64"
      ]
     },
     "execution_count": 22,
     "metadata": {},
     "output_type": "execute_result"
    }
   ],
   "source": [
    "cars8.groupby('vehicle_type')['generic_make_model'].value_counts().tail()"
   ]
  },
  {
   "cell_type": "markdown",
   "id": "1a4f5411",
   "metadata": {},
   "source": [
    "For this dataset, the car types are Cars and taxi/private hire cars\n",
    "\n",
    "Cars  were mostly involved in accidents with a count of 2050265 accidents within the 12 years time frame. Taxi/private hire cars had a total accident count of 57229.\n",
    "\n",
    "For Cars, \n",
    "\n",
    "- 1859579 generic make models were not recorded\n",
    "- FORD FIESTA tops the chart for the car brand that was mostly involved in accidents, it had a count of 9531 total accidents\n",
    "- VAUXHALL CORSA, VOLKSWAGEN GOLF, and FORD FOCUS all got into accidents over 7000 times.\n",
    "- PEUGEOT 807, SSANGYONG REXTON, PEUGEOT (Model Missing), VOLVO (Model Missing) and Honda (Model Missing) all had the lowest accident counts of 10 accidents and less.\n",
    "\n",
    "\n",
    "For Taxi/Private hire cars,\n",
    "\n",
    "- 53484 generic make models were not recorded\n",
    "- TOYOTA PRIUS tops the chart for the car brand that was mostly involved in accidents, it had a count of 906 total accidents\n",
    "- LONDON TAXIS INT. TX4, TOYOTA AURIS, and SKODA OCTAVIA all had accident counts of 270, 239 and 217.\n",
    "- The cars that had the least amount of accidents are TOYOTA (Model Missing), BMW 3 SERIES, BMW 5 SERIES, PEUGEOT PREMIER and HYUNDAI I40 which had count of 15 and less."
   ]
  },
  {
   "cell_type": "markdown",
   "id": "57395cae",
   "metadata": {},
   "source": [
    "#### Which car type had towing and articulation?"
   ]
  },
  {
   "cell_type": "code",
   "execution_count": 23,
   "id": "3e8de6e7",
   "metadata": {},
   "outputs": [
    {
     "data": {
      "text/plain": [
       "array([ 0,  3,  4,  5,  2, -1,  9,  1], dtype=int64)"
      ]
     },
     "execution_count": 23,
     "metadata": {},
     "output_type": "execute_result"
    }
   ],
   "source": [
    "#view the unique values of towing and articulation\n",
    "cars.towing_and_articulation.unique()"
   ]
  },
  {
   "cell_type": "markdown",
   "id": "5c0845c3",
   "metadata": {},
   "source": [
    "Interpretation of values\n",
    "\n",
    "0 - No tow/articulation\n",
    "\n",
    "1 - Articulated vehicle\n",
    "\n",
    "2 - Double or multiple trailer\n",
    "\n",
    "3 - Caravan\n",
    "\n",
    "4 - Single trailer\n",
    "\n",
    "5 - Other tow\n",
    "\n",
    "9 - unknown (self reported)\n",
    "\n",
    "-1 - Data missing or out of range\n"
   ]
  },
  {
   "cell_type": "code",
   "execution_count": 24,
   "id": "c9b5c66b",
   "metadata": {},
   "outputs": [
    {
     "data": {
      "text/plain": [
       " 0    2090239\n",
       " 9       8404\n",
       " 4       3581\n",
       "-1       2337\n",
       " 3       1426\n",
       " 5       1310\n",
       " 2        153\n",
       " 1         44\n",
       "Name: towing_and_articulation, dtype: int64"
      ]
     },
     "execution_count": 24,
     "metadata": {},
     "output_type": "execute_result"
    }
   ],
   "source": [
    "cars.towing_and_articulation.value_counts()"
   ]
  },
  {
   "cell_type": "markdown",
   "id": "6694b62d",
   "metadata": {},
   "source": [
    "Majority of the cars involved in accidents did not have any tow or articulation or have an unknown status"
   ]
  },
  {
   "cell_type": "markdown",
   "id": "3cbc8efd",
   "metadata": {},
   "source": [
    "#### What action were cars taking at the point of accident?"
   ]
  },
  {
   "cell_type": "code",
   "execution_count": 25,
   "id": "47ca6ddd",
   "metadata": {},
   "outputs": [
    {
     "data": {
      "text/plain": [
       "array([18, 17,  9,  4,  6,  5,  7,  2, 12, 10, 16, 14,  8,  3,  1, 15, 13,\n",
       "       11, -1, 99], dtype=int64)"
      ]
     },
     "execution_count": 25,
     "metadata": {},
     "output_type": "execute_result"
    }
   ],
   "source": [
    "#view the unique values\n",
    "cars.vehicle_manoeuvre.unique()"
   ]
  },
  {
   "cell_type": "code",
   "execution_count": 26,
   "id": "0dbc8438",
   "metadata": {},
   "outputs": [
    {
     "data": {
      "text/plain": [
       " 18    926043\n",
       " 9     230482\n",
       " 4     166430\n",
       " 3     144284\n",
       " 2      95888\n",
       " 5      95386\n",
       " 17     77759\n",
       " 7      75249\n",
       " 16     67486\n",
       " 10     36225\n",
       " 99     34835\n",
       " 1      32348\n",
       " 13     31153\n",
       " 6      19042\n",
       " 12     17764\n",
       " 14     16848\n",
       " 11     16703\n",
       " 8      12346\n",
       " 15      8563\n",
       "-1       2660\n",
       "Name: vehicle_manoeuvre, dtype: int64"
      ]
     },
     "execution_count": 26,
     "metadata": {},
     "output_type": "execute_result"
    }
   ],
   "source": [
    "cars.vehicle_manoeuvre.value_counts()"
   ]
  },
  {
   "cell_type": "code",
   "execution_count": 27,
   "id": "b3e64e5a",
   "metadata": {},
   "outputs": [
    {
     "data": {
      "image/png": "[encoded data removed]",
      "text/plain": [
       "<Figure size 1440x2160 with 1 Axes>"
      ]
     },
     "metadata": {
      "needs_background": "light"
     },
     "output_type": "display_data"
    }
   ],
   "source": [
    "#plot using a countplot to see which cars performed each action at the point of accident\n",
    "plt.figure(figsize = (20, 30))\n",
    "sns.countplot(data = cars, x = 'vehicle_manoeuvre', hue = 'vehicle_type')\n",
    "plt.title('Point of Action of Cars before Accident');"
   ]
  },
  {
   "cell_type": "markdown",
   "id": "aaeca393",
   "metadata": {},
   "source": [
    "The top 5 vehicle manoeuvres that caused accidents are \n",
    "\n",
    "18 - Going ahead other\n",
    "\n",
    "9 - Turning right\n",
    " \n",
    "4 - Slowing or stopping\n",
    "\n",
    "3 - Waiting to go - held up\n",
    "\n",
    "2 - Parked\n",
    "\n",
    "\n",
    "\n",
    "Cars(9) accidents have the highest record of going ahead before the accident occured, the second majority is turning right, next is slowing or stopping, waiting to go-held up and Parked. Performing these actions have shown to be linked to accidents.\n",
    "\n",
    "Taxi/Private hire cars(8) have the highest record of going ahead before the accident occured, the second majority of accidents were slowing down just like cars."
   ]
  },
  {
   "cell_type": "markdown",
   "id": "90d8a72d",
   "metadata": {},
   "source": [
    "#### What direction were the cars coming from and going to before the accident?"
   ]
  },
  {
   "cell_type": "code",
   "execution_count": 28,
   "id": "2fb45a2d",
   "metadata": {},
   "outputs": [
    {
     "data": {
      "image/png": "[encoded data removed]",
      "text/plain": [
       "<Figure size 576x576 with 1 Axes>"
      ]
     },
     "metadata": {
      "needs_background": "light"
     },
     "output_type": "display_data"
    }
   ],
   "source": [
    "#plot a bar chart to view the most common direction cars came from \n",
    "cars.vehicle_direction_from.value_counts().plot(kind='bar', figsize=(8,8))\n",
    "plt.xlabel('Direction cars came from')\n",
    "plt.ylabel('Count')\n",
    "plt.title('Direction Cars where coming from');"
   ]
  },
  {
   "cell_type": "markdown",
   "id": "c15e0edc",
   "metadata": {},
   "source": [
    "Interpretation of values\n",
    "\n",
    "1 - North\n",
    "\n",
    "5 - South East\n",
    "\n",
    "3 - East\n",
    "\n",
    "7 - West\n",
    "\n",
    "6 - South West\n",
    "\n",
    "2 - North East\n",
    "\n",
    "4 - South East\n",
    "\n",
    "8 - North West\n",
    "\n",
    "0 - Parked\n",
    "\n",
    "9 - Unknown\n",
    "\n",
    "-1 - \n",
    "\n",
    "\n",
    "Majority of the cars were coming from the North and South East. The second majority were coming from the East and West"
   ]
  },
  {
   "cell_type": "code",
   "execution_count": 29,
   "id": "fea36d95",
   "metadata": {},
   "outputs": [
    {
     "data": {
      "image/png": "[encoded data removed]",
      "text/plain": [
       "<Figure size 576x576 with 1 Axes>"
      ]
     },
     "metadata": {
      "needs_background": "light"
     },
     "output_type": "display_data"
    }
   ],
   "source": [
    "#plot a bar chart to view the most common direction cars were going towards \n",
    "cars.vehicle_direction_to.value_counts().plot(kind='bar', figsize=(8,8))\n",
    "plt.xlabel('Direction cars were driving towards')\n",
    "plt.ylabel('Count')\n",
    "plt.title('Direction Cars where going towards');"
   ]
  },
  {
   "cell_type": "markdown",
   "id": "aedd9cf7",
   "metadata": {},
   "source": [
    "Interpretation of Values - Same with Vehicle Direction From\n",
    "\n",
    "Majority of the cars were driving towards the same direction majority of the cars that had accicdents were driving from\n",
    "\n",
    "Therefore, the North, South East, East and West are accident prone zones"
   ]
  },
  {
   "cell_type": "markdown",
   "id": "6816bf40",
   "metadata": {},
   "source": [
    "#### If the accidents happened at junctions, where did they happen?"
   ]
  },
  {
   "cell_type": "code",
   "execution_count": 30,
   "id": "7b55d81c",
   "metadata": {},
   "outputs": [
    {
     "data": {
      "text/plain": [
       "array([ 8,  0,  6,  2,  1,  5,  3,  7,  4, -1,  9], dtype=int64)"
      ]
     },
     "execution_count": 30,
     "metadata": {},
     "output_type": "execute_result"
    }
   ],
   "source": [
    "#check for the the unique values of junction locations\n",
    "cars.junction_location.unique()"
   ]
  },
  {
   "cell_type": "code",
   "execution_count": 31,
   "id": "6be88ed4",
   "metadata": {},
   "outputs": [
    {
     "data": {
      "text/plain": [
       " 0    844213\n",
       " 1    471276\n",
       " 8    385397\n",
       " 2    117367\n",
       " 6    103512\n",
       " 4     62397\n",
       " 5     58474\n",
       " 3     29390\n",
       " 9     25963\n",
       " 7      8388\n",
       "-1      1117\n",
       "Name: junction_location, dtype: int64"
      ]
     },
     "execution_count": 31,
     "metadata": {},
     "output_type": "execute_result"
    }
   ],
   "source": [
    "# derive the common junction locations where accidents happened\n",
    "cars.junction_location.value_counts()"
   ]
  },
  {
   "cell_type": "markdown",
   "id": "717d281d",
   "metadata": {},
   "source": [
    "Majority of the accidents did not happen at the junction or they happened at the begining of a junction"
   ]
  },
  {
   "cell_type": "markdown",
   "id": "d2889dad",
   "metadata": {},
   "source": [
    "#### What was the first point of impact on the cars?"
   ]
  },
  {
   "cell_type": "code",
   "execution_count": 32,
   "id": "d42638bc",
   "metadata": {},
   "outputs": [
    {
     "data": {
      "text/plain": [
       "array([ 1,  4,  2,  3,  0, -1,  9], dtype=int64)"
      ]
     },
     "execution_count": 32,
     "metadata": {},
     "output_type": "execute_result"
    }
   ],
   "source": [
    "#view the unique values of first point of impact\n",
    "cars.first_point_of_impact.unique()"
   ]
  },
  {
   "cell_type": "markdown",
   "id": "2a4f97cd",
   "metadata": {},
   "source": [
    "Interpretation of the values\n",
    "\n",
    "0 - Did not impact\n",
    "\n",
    "1 - Front\n",
    "\n",
    "2 - Back\n",
    "\n",
    "3 - Offside\n",
    "\n",
    "4 - Nearside\n",
    "\n",
    "9 - Unknown(self reported)\n",
    "\n",
    "-1 - Data Missing or out of range"
   ]
  },
  {
   "cell_type": "code",
   "execution_count": 33,
   "id": "5626342e",
   "metadata": {},
   "outputs": [
    {
     "data": {
      "text/plain": [
       " 1    1036178\n",
       " 2     410527\n",
       " 3     290233\n",
       " 4     256946\n",
       " 0      93761\n",
       " 9      16202\n",
       "-1       3647\n",
       "Name: first_point_of_impact, dtype: int64"
      ]
     },
     "execution_count": 33,
     "metadata": {},
     "output_type": "execute_result"
    }
   ],
   "source": [
    "cars.first_point_of_impact.value_counts()"
   ]
  },
  {
   "cell_type": "markdown",
   "id": "eb521143",
   "metadata": {},
   "source": [
    "Majority of the cars were hit in the front, this had a total count of 1036178 hits. The second majority of cars were hit at the back, a total of 410527 hits happened. \n",
    "\n",
    "Next, which cars got hit the most and where was the most frequent point of impact for both car categories?"
   ]
  },
  {
   "cell_type": "code",
   "execution_count": 34,
   "id": "d8315cc4",
   "metadata": {},
   "outputs": [
    {
     "data": {
      "image/png": "[encoded data removed]",
      "text/plain": [
       "<Figure size 1080x1440 with 1 Axes>"
      ]
     },
     "metadata": {
      "needs_background": "light"
     },
     "output_type": "display_data"
    }
   ],
   "source": [
    "#plot using a countplot to see which cars performed each action at the point of accident\n",
    "plt.figure(figsize = (15, 20))\n",
    "sns.countplot(data = cars, x = 'vehicle_type', hue = 'first_point_of_impact')\n",
    "plt.title('Point of Impact on the Cars');"
   ]
  },
  {
   "cell_type": "markdown",
   "id": "1cda65d0",
   "metadata": {},
   "source": [
    "The Same conclusion given above implies to Cars(9), but for Taxi/private hire cars their first impact was mostly the front of the car, then the back, Offside and Nearside hit seem to have close or equal counts"
   ]
  },
  {
   "cell_type": "markdown",
   "id": "ccc55ed7",
   "metadata": {},
   "source": [
    "#### What are the wheel positions in the cars?"
   ]
  },
  {
   "cell_type": "code",
   "execution_count": 35,
   "id": "7f0f6520",
   "metadata": {},
   "outputs": [
    {
     "data": {
      "text/plain": [
       "array([ 1,  2, -1,  9], dtype=int64)"
      ]
     },
     "execution_count": 35,
     "metadata": {},
     "output_type": "execute_result"
    }
   ],
   "source": [
    "#view the unique values for vehicle left hand drive\n",
    "cars.vehicle_left_hand_drive.unique()"
   ]
  },
  {
   "cell_type": "code",
   "execution_count": 36,
   "id": "108a9d5e",
   "metadata": {},
   "outputs": [
    {
     "data": {
      "text/plain": [
       " 1    2055635\n",
       " 9      41091\n",
       " 2       9273\n",
       "-1       1495\n",
       "Name: vehicle_left_hand_drive, dtype: int64"
      ]
     },
     "execution_count": 36,
     "metadata": {},
     "output_type": "execute_result"
    }
   ],
   "source": [
    "cars.vehicle_left_hand_drive.value_counts()"
   ]
  },
  {
   "cell_type": "markdown",
   "id": "f8737a36",
   "metadata": {},
   "source": [
    "Interpretation of values\n",
    "\n",
    "1 -  No\n",
    "\n",
    "2 - Yes\n",
    "\n",
    "9 - Unknown\n",
    "\n",
    "-1 - Data missing or out of range\n",
    "\n",
    "Majority of the cars do not have the wheels by the left"
   ]
  },
  {
   "cell_type": "markdown",
   "id": "11ffcfbb",
   "metadata": {},
   "source": [
    "#### Could the journey purpose have any impact on car accidents"
   ]
  },
  {
   "cell_type": "code",
   "execution_count": 37,
   "id": "5fc155aa",
   "metadata": {},
   "outputs": [
    {
     "data": {
      "text/plain": [
       "array([ 1, 15,  2,  3,  4, -1,  6,  5], dtype=int64)"
      ]
     },
     "execution_count": 37,
     "metadata": {},
     "output_type": "execute_result"
    }
   ],
   "source": [
    "#view the unique values\n",
    "cars.journey_purpose_of_driver.unique()"
   ]
  },
  {
   "cell_type": "code",
   "execution_count": 38,
   "id": "d70a1212",
   "metadata": {},
   "outputs": [
    {
     "data": {
      "text/plain": [
       " 6     1349507\n",
       " 1      218171\n",
       " 2      205252\n",
       " 15     164684\n",
       " 5      139181\n",
       " 3       27684\n",
       " 4        2758\n",
       "-1         257\n",
       "Name: journey_purpose_of_driver, dtype: int64"
      ]
     },
     "execution_count": 38,
     "metadata": {},
     "output_type": "execute_result"
    }
   ],
   "source": [
    "cars.journey_purpose_of_driver.value_counts()"
   ]
  },
  {
   "cell_type": "markdown",
   "id": "2cca30ec",
   "metadata": {},
   "source": [
    "6 - Not known\n",
    "\n",
    "\n",
    "Majority of the car accidents that occured did not have a journey purpose"
   ]
  },
  {
   "cell_type": "markdown",
   "id": "2138bb21",
   "metadata": {},
   "source": [
    "#### Who got into accidents the most, Males or Females?"
   ]
  },
  {
   "cell_type": "code",
   "execution_count": 39,
   "id": "c0ddef0d",
   "metadata": {},
   "outputs": [
    {
     "data": {
      "text/plain": [
       "array([ 1,  2,  3, -1], dtype=int64)"
      ]
     },
     "execution_count": 39,
     "metadata": {},
     "output_type": "execute_result"
    }
   ],
   "source": [
    "#view the unique values\n",
    "cars.sex_of_driver.unique()"
   ]
  },
  {
   "cell_type": "code",
   "execution_count": 40,
   "id": "9accc8bb",
   "metadata": {},
   "outputs": [
    {
     "data": {
      "text/plain": [
       " 1    1201452\n",
       " 2     725985\n",
       " 3     179997\n",
       "-1         60\n",
       "Name: sex_of_driver, dtype: int64"
      ]
     },
     "execution_count": 40,
     "metadata": {},
     "output_type": "execute_result"
    }
   ],
   "source": [
    "cars.sex_of_driver.value_counts()"
   ]
  },
  {
   "cell_type": "markdown",
   "id": "d66b7ada",
   "metadata": {},
   "source": [
    "Interpretation of Values\n",
    "\n",
    "1 - Males\n",
    "\n",
    "2 - Females\n",
    "\n",
    "3 - Not known\n",
    "\n",
    "-1 - Data missing or out of range\n",
    "\n",
    "\n",
    "Majority of the drivers were males\n",
    "\n",
    "Next, what cars were the males driving the most?"
   ]
  },
  {
   "cell_type": "code",
   "execution_count": 41,
   "id": "e54c6bcb",
   "metadata": {},
   "outputs": [
    {
     "data": {
      "text/plain": [
       "vehicle_type  sex_of_driver\n",
       "8              1                 50455\n",
       "               3                  4709\n",
       "               2                  2062\n",
       "              -1                     3\n",
       "9              1               1150997\n",
       "               2                723923\n",
       "               3                175288\n",
       "              -1                    57\n",
       "Name: sex_of_driver, dtype: int64"
      ]
     },
     "execution_count": 41,
     "metadata": {},
     "output_type": "execute_result"
    }
   ],
   "source": [
    "cars.groupby('vehicle_type')['sex_of_driver'].value_counts()"
   ]
  },
  {
   "cell_type": "markdown",
   "id": "b329c2d4",
   "metadata": {},
   "source": [
    "Majority of the males were driving their Cars(9)"
   ]
  },
  {
   "cell_type": "markdown",
   "id": "f0d9ce54",
   "metadata": {},
   "source": [
    "#### What age band were mostly involved in accidents?"
   ]
  },
  {
   "cell_type": "code",
   "execution_count": 42,
   "id": "949234e2",
   "metadata": {},
   "outputs": [
    {
     "data": {
      "text/plain": [
       "array([ 8,  5,  7,  6,  4, 10, -1,  9, 11,  3,  1,  2], dtype=int64)"
      ]
     },
     "execution_count": 42,
     "metadata": {},
     "output_type": "execute_result"
    }
   ],
   "source": [
    "cars.age_band_of_driver.unique()"
   ]
  },
  {
   "cell_type": "code",
   "execution_count": 43,
   "id": "44003dd4",
   "metadata": {},
   "outputs": [
    {
     "data": {
      "image/png": "[encoded data removed]",
      "text/plain": [
       "<Figure size 864x576 with 1 Axes>"
      ]
     },
     "metadata": {
      "needs_background": "light"
     },
     "output_type": "display_data"
    }
   ],
   "source": [
    "cars.age_band_of_driver.value_counts().plot(kind='barh', figsize=(12, 8))\n",
    "plt.xlabel('count')\n",
    "plt.ylabel('Age Band')\n",
    "plt.title('Age Groups Involved in Car Accidents');"
   ]
  },
  {
   "cell_type": "markdown",
   "id": "00d07653",
   "metadata": {},
   "source": [
    "The top 5 age groups are 6, 7, 8, -1 and 5. The least age group is 11\n",
    "\n",
    "6 - 26-35\n",
    "\n",
    "7 - 36-45\n",
    "\n",
    "8 - 46-55\n",
    "\n",
    "-1 - Data Missing or out of range\n",
    "\n",
    "5 - 21-25\n",
    "\n",
    "11 - Over 75\n",
    "\n",
    "\n",
    "Age groups of 26-35  have been recorded to have encountered the most accidents, what could be the possible cause of this? It could be said that this age group is the most populous in the work force and therefore get to move around more than other age groups.\n",
    "\n",
    "Could more males than females still fall into this age bracket?\n",
    "\n",
    "\n",
    "Age groups over 75 experience the least amount of accidents, these are the elderly in the community, they most likely do not get to drive so much or move around so often."
   ]
  },
  {
   "cell_type": "code",
   "execution_count": 44,
   "id": "b70ef445",
   "metadata": {},
   "outputs": [
    {
     "data": {
      "image/png": "[encoded data removed]",
      "text/plain": [
       "<Figure size 1080x1440 with 1 Axes>"
      ]
     },
     "metadata": {
      "needs_background": "light"
     },
     "output_type": "display_data"
    }
   ],
   "source": [
    "#plot using a countplot to see which gender got into accidents more especially age group 26-35\n",
    "plt.figure(figsize = (15, 20))\n",
    "sns.countplot(data = cars, x = 'age_band_of_driver', hue = 'sex_of_driver')\n",
    "plt.title('What Age Group got into Accidents More');"
   ]
  },
  {
   "cell_type": "markdown",
   "id": "7bab4326",
   "metadata": {},
   "source": [
    "Again, males got into accidents more"
   ]
  },
  {
   "cell_type": "markdown",
   "id": "00787e28",
   "metadata": {},
   "source": [
    "#### What are the major locations of the Drivers?"
   ]
  },
  {
   "cell_type": "code",
   "execution_count": 45,
   "id": "421554cf",
   "metadata": {},
   "outputs": [
    {
     "data": {
      "text/plain": [
       "array([ 1,  3, -1,  2], dtype=int64)"
      ]
     },
     "execution_count": 45,
     "metadata": {},
     "output_type": "execute_result"
    }
   ],
   "source": [
    "cars.driver_home_area_type.unique()"
   ]
  },
  {
   "cell_type": "code",
   "execution_count": 46,
   "id": "f532e8c0",
   "metadata": {},
   "outputs": [
    {
     "data": {
      "image/png": "[encoded data removed]",
      "text/plain": [
       "<Figure size 576x576 with 1 Axes>"
      ]
     },
     "metadata": {
      "needs_background": "light"
     },
     "output_type": "display_data"
    }
   ],
   "source": [
    "cars.driver_home_area_type.value_counts().plot(kind='bar', figsize=(8,8))\n",
    "plt.xlabel('Home Location')\n",
    "plt.ylabel('Frquency')\n",
    "plt.title('Home Locations of the Drivers');"
   ]
  },
  {
   "cell_type": "markdown",
   "id": "76cf54ac",
   "metadata": {},
   "source": [
    "1 - Urban\n",
    "\n",
    "2 - Small Town\n",
    "\n",
    "3 - Rural\n",
    "\n",
    "4 - Data missing or out of range\n",
    "\n",
    "\n",
    "Majority of the drivers lived in the urban Areas"
   ]
  },
  {
   "cell_type": "markdown",
   "id": "047fb30b",
   "metadata": {},
   "source": [
    "#### What lane was the car at the point of impact?"
   ]
  },
  {
   "cell_type": "code",
   "execution_count": 47,
   "id": "6838fa8e",
   "metadata": {},
   "outputs": [
    {
     "data": {
      "text/plain": [
       "array([ 0,  2,  4,  3,  8,  7,  9,  5,  6,  1, -1, 99], dtype=int64)"
      ]
     },
     "execution_count": 47,
     "metadata": {},
     "output_type": "execute_result"
    }
   ],
   "source": [
    "cars.vehicle_location_restricted_lane.unique()"
   ]
  },
  {
   "cell_type": "code",
   "execution_count": 48,
   "id": "aed018d0",
   "metadata": {},
   "outputs": [
    {
     "data": {
      "text/plain": [
       " 0     2036522\n",
       " 99      33617\n",
       " 9       17896\n",
       " 6        5606\n",
       " 2        3719\n",
       "-1        2715\n",
       " 8        2608\n",
       " 4        1673\n",
       " 7        1103\n",
       " 5         994\n",
       " 1         689\n",
       " 3         352\n",
       "Name: vehicle_location_restricted_lane, dtype: int64"
      ]
     },
     "execution_count": 48,
     "metadata": {},
     "output_type": "execute_result"
    }
   ],
   "source": [
    "cars.vehicle_location_restricted_lane.value_counts()"
   ]
  },
  {
   "cell_type": "markdown",
   "id": "85f308c5",
   "metadata": {},
   "source": [
    "0 - On main c'way - not in restricted lane\n",
    "\n",
    "\n",
    "Most accidents did not occur in restricted lanes"
   ]
  },
  {
   "cell_type": "markdown",
   "id": "834a86ef",
   "metadata": {},
   "source": [
    "#### What happened after car impact?"
   ]
  },
  {
   "cell_type": "code",
   "execution_count": 49,
   "id": "fa9e33ee",
   "metadata": {},
   "outputs": [
    {
     "data": {
      "text/plain": [
       "array([ 0,  1,  2,  5,  4,  3, -1,  9], dtype=int64)"
      ]
     },
     "execution_count": 49,
     "metadata": {},
     "output_type": "execute_result"
    }
   ],
   "source": [
    "cars.skidding_and_overturning.unique()"
   ]
  },
  {
   "cell_type": "code",
   "execution_count": 50,
   "id": "7bdcb97d",
   "metadata": {},
   "outputs": [
    {
     "data": {
      "text/plain": [
       " 0    1855151\n",
       " 1     146107\n",
       " 9      35661\n",
       " 2      35279\n",
       " 5      32258\n",
       "-1       2516\n",
       " 3        275\n",
       " 4        247\n",
       "Name: skidding_and_overturning, dtype: int64"
      ]
     },
     "execution_count": 50,
     "metadata": {},
     "output_type": "execute_result"
    }
   ],
   "source": [
    "cars.skidding_and_overturning.value_counts()"
   ]
  },
  {
   "cell_type": "markdown",
   "id": "1a6ddfce",
   "metadata": {},
   "source": [
    "0 - None\n",
    "\n",
    "Majority of the cars did not skid or overturn"
   ]
  },
  {
   "cell_type": "markdown",
   "id": "1941ef7e",
   "metadata": {},
   "source": [
    "#### Can the type of fuel used by the vehicle be linked to the accident cause?"
   ]
  },
  {
   "cell_type": "code",
   "execution_count": 51,
   "id": "e197b85e",
   "metadata": {},
   "outputs": [
    {
     "data": {
      "text/plain": [
       "array([ 2,  1, -1,  8,  6,  7,  3,  9,  5, 11, 10, 12], dtype=int64)"
      ]
     },
     "execution_count": 51,
     "metadata": {},
     "output_type": "execute_result"
    }
   ],
   "source": [
    "cars.propulsion_code.unique()"
   ]
  },
  {
   "cell_type": "code",
   "execution_count": 52,
   "id": "a4b18a1d",
   "metadata": {},
   "outputs": [
    {
     "data": {
      "text/plain": [
       " 1     1078116\n",
       " 2      639602\n",
       "-1      355319\n",
       " 8       29109\n",
       " 3        2210\n",
       " 7        1842\n",
       " 6         640\n",
       " 12        595\n",
       " 5          42\n",
       " 10         11\n",
       " 9           5\n",
       " 11          3\n",
       "Name: propulsion_code, dtype: int64"
      ]
     },
     "execution_count": 52,
     "metadata": {},
     "output_type": "execute_result"
    }
   ],
   "source": [
    "cars.propulsion_code.value_counts()"
   ]
  },
  {
   "cell_type": "markdown",
   "id": "d2cffb3a",
   "metadata": {},
   "source": [
    "Interpretation of First 5 values\n",
    "\n",
    "1 - Petrol\n",
    "\n",
    "2 - Heavy oil\n",
    "\n",
    "-1 - Undefined\n",
    "\n",
    "8 - Hybrid Electric\n",
    "\n",
    "3 - Electric\n",
    "\n",
    "7 - Gas/Bi-fuel\n",
    "\n",
    "6 - Petrol/Gas (LPG)\n",
    "\n",
    "12 - Electric Diesel\n",
    "\n",
    "5 - Gas\n",
    "\n",
    "10 - New fuel technology\n",
    "\n",
    "9 - Gas Diesel\n",
    "\n",
    "11 - Fuel Cells\n",
    "\n",
    "\n",
    "Cars which use Petrol have been in accidents more than others, it had a count of 1078116 accidents. The second majority of cars are the cars that used Heavy Oils. These are the 2 group of cars mostly involved in accidents.\n",
    "\n",
    "Cars which use Fuel cells are the cars that have accidents the least."
   ]
  },
  {
   "cell_type": "code",
   "execution_count": 53,
   "id": "b87ef54a",
   "metadata": {},
   "outputs": [
    {
     "data": {
      "text/plain": [
       "Index(['Unnamed: 0', 'accident_index', 'accident_year', 'accident_reference',\n",
       "       'vehicle_reference', 'vehicle_type', 'towing_and_articulation',\n",
       "       'vehicle_manoeuvre', 'vehicle_direction_from', 'vehicle_direction_to',\n",
       "       'vehicle_location_restricted_lane', 'junction_location',\n",
       "       'skidding_and_overturning', 'hit_object_in_carriageway',\n",
       "       'vehicle_leaving_carriageway', 'hit_object_off_carriageway',\n",
       "       'first_point_of_impact', 'vehicle_left_hand_drive',\n",
       "       'journey_purpose_of_driver', 'sex_of_driver', 'age_of_driver',\n",
       "       'age_band_of_driver', 'engine_capacity_cc', 'propulsion_code',\n",
       "       'age_of_vehicle', 'generic_make_model', 'driver_imd_decile',\n",
       "       'driver_home_area_type', 'lsoa_of_driver'],\n",
       "      dtype='object')"
      ]
     },
     "execution_count": 53,
     "metadata": {},
     "output_type": "execute_result"
    }
   ],
   "source": [
    "cars.columns"
   ]
  },
  {
   "cell_type": "code",
   "execution_count": 54,
   "id": "7b29e27a",
   "metadata": {},
   "outputs": [
    {
     "data": {
      "text/plain": [
       " 0    1823511\n",
       " 1     127089\n",
       " 7      65254\n",
       " 9      34009\n",
       " 2      17493\n",
       " 4       9737\n",
       " 3       9460\n",
       " 8       9017\n",
       " 5       7174\n",
       "-1       2773\n",
       " 6       1977\n",
       "Name: vehicle_leaving_carriageway, dtype: int64"
      ]
     },
     "execution_count": 54,
     "metadata": {},
     "output_type": "execute_result"
    }
   ],
   "source": [
    "#vehicle leaving carriageway\n",
    "cars.vehicle_leaving_carriageway.value_counts()"
   ]
  },
  {
   "cell_type": "markdown",
   "id": "62b0bd22",
   "metadata": {},
   "source": [
    "Majority of the car accidents did not leave carriageway"
   ]
  },
  {
   "cell_type": "code",
   "execution_count": 55,
   "id": "51867a27",
   "metadata": {},
   "outputs": [
    {
     "data": {
      "text/plain": [
       " 0     1977741\n",
       " 99      35048\n",
       " 10      33027\n",
       " 4       32928\n",
       " 7       11303\n",
       " 11       5730\n",
       "-1        2678\n",
       " 9        2289\n",
       " 12       2112\n",
       " 6        1447\n",
       " 8        1147\n",
       " 1        1029\n",
       " 2         960\n",
       " 5          55\n",
       "Name: hit_object_in_carriageway, dtype: int64"
      ]
     },
     "execution_count": 55,
     "metadata": {},
     "output_type": "execute_result"
    }
   ],
   "source": [
    "#hit object in carriageway and off carriageway\n",
    "\n",
    "cars.hit_object_in_carriageway.value_counts()"
   ]
  },
  {
   "cell_type": "code",
   "execution_count": 56,
   "id": "20e1103c",
   "metadata": {},
   "outputs": [
    {
     "data": {
      "text/plain": [
       " 0     1895618\n",
       " 10      44244\n",
       " 99      33635\n",
       " 4       30196\n",
       " 11      20715\n",
       " 1       16846\n",
       " 9       16084\n",
       " 2       14764\n",
       " 6       14298\n",
       " 7       13630\n",
       " 3        5842\n",
       " 5        1131\n",
       "-1         284\n",
       " 8         207\n",
       "Name: hit_object_off_carriageway, dtype: int64"
      ]
     },
     "execution_count": 56,
     "metadata": {},
     "output_type": "execute_result"
    }
   ],
   "source": [
    "cars.hit_object_off_carriageway.value_counts()"
   ]
  },
  {
   "cell_type": "markdown",
   "id": "f982e329",
   "metadata": {},
   "source": [
    "Majority of the car accidents did not hit objects in and off the carriageway"
   ]
  },
  {
   "cell_type": "code",
   "execution_count": 57,
   "id": "4b458b9c",
   "metadata": {},
   "outputs": [
    {
     "name": "stderr",
     "output_type": "stream",
     "text": [
      "C:\\Users\\Haywh\\Anaconda3\\lib\\site-packages\\pandas\\core\\frame.py:4906: SettingWithCopyWarning: \n",
      "A value is trying to be set on a copy of a slice from a DataFrame\n",
      "\n",
      "See the caveats in the documentation: https://pandas.pydata.org/pandas-docs/stable/user_guide/indexing.html#returning-a-view-versus-a-copy\n",
      "  return super().drop(\n"
     ]
    }
   ],
   "source": [
    "#drop columns that won't be needed\n",
    "cars.drop(['Unnamed: 0', 'accident_year', 'accident_reference', 'vehicle_reference', 'towing_and_articulation', \n",
    "           'vehicle_location_restricted_lane', 'junction_location', 'skidding_and_overturning', 'hit_object_in_carriageway', \n",
    "           'vehicle_leaving_carriageway', 'hit_object_off_carriageway', 'vehicle_left_hand_drive', 'journey_purpose_of_driver', \n",
    "           'age_of_driver', 'lsoa_of_driver'], axis=1, inplace=True)"
   ]
  },
  {
   "cell_type": "code",
   "execution_count": 58,
   "id": "0dd4833c",
   "metadata": {},
   "outputs": [
    {
     "data": {
      "text/plain": [
       "Index(['accident_index', 'vehicle_type', 'vehicle_manoeuvre',\n",
       "       'vehicle_direction_from', 'vehicle_direction_to',\n",
       "       'first_point_of_impact', 'sex_of_driver', 'age_band_of_driver',\n",
       "       'engine_capacity_cc', 'propulsion_code', 'age_of_vehicle',\n",
       "       'generic_make_model', 'driver_imd_decile', 'driver_home_area_type'],\n",
       "      dtype='object')"
      ]
     },
     "execution_count": 58,
     "metadata": {},
     "output_type": "execute_result"
    }
   ],
   "source": [
    "cars.columns"
   ]
  },
  {
   "cell_type": "code",
   "execution_count": 59,
   "id": "54dbdcac",
   "metadata": {},
   "outputs": [],
   "source": [
    "#export the cleaned data for cars\n",
    "cars.to_csv('updated_vehi_data.csv', index=False)"
   ]
  }
 ],
 "metadata": {
  "kernelspec": {
   "display_name": "Python 3 (ipykernel)",
   "language": "python",
   "name": "python3"
  },
  "language_info": {
   "codemirror_mode": {
    "name": "ipython",
    "version": 3
   },
   "file_extension": ".py",
   "mimetype": "text/x-python",
   "name": "python",
   "nbconvert_exporter": "python",
   "pygments_lexer": "ipython3",
   "version": "3.9.7"
  }
 },
 "nbformat": 4,
 "nbformat_minor": 5
}
