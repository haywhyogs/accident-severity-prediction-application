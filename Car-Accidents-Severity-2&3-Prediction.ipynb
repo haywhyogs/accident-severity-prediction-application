{
 "cells": [
  {
   "cell_type": "code",
   "execution_count": 1,
   "metadata": {},
   "outputs": [],
   "source": [
    "#import necessary libraries\n",
    "import pandas as pd\n",
    "import matplotlib.pyplot as plt\n",
    "import seaborn as sns "
   ]
  },
  {
   "cell_type": "code",
   "execution_count": 2,
   "metadata": {},
   "outputs": [
    {
     "name": "stderr",
     "output_type": "stream",
     "text": [
      "C:\\Users\\Haywh\\Anaconda3\\lib\\site-packages\\IPython\\core\\interactiveshell.py:3444: DtypeWarning: Columns (1,3,36) have mixed types.Specify dtype option on import or set low_memory=False.\n",
      "  exec(code_obj, self.user_global_ns, self.user_ns)\n"
     ]
    }
   ],
   "source": [
    "#load the dataset\n",
    "road_accidents = pd.read_csv('dft-road-casualty-statistics-accident-2010-2021.csv')"
   ]
  },
  {
   "cell_type": "code",
   "execution_count": 3,
   "metadata": {},
   "outputs": [
    {
     "data": {
      "text/html": [
       "<div>\n",
       "<style scoped>\n",
       "    .dataframe tbody tr th:only-of-type {\n",
       "        vertical-align: middle;\n",
       "    }\n",
       "\n",
       "    .dataframe tbody tr th {\n",
       "        vertical-align: top;\n",
       "    }\n",
       "\n",
       "    .dataframe thead th {\n",
       "        text-align: right;\n",
       "    }\n",
       "</style>\n",
       "<table border=\"1\" class=\"dataframe\">\n",
       "  <thead>\n",
       "    <tr style=\"text-align: right;\">\n",
       "      <th></th>\n",
       "      <th>Unnamed: 0</th>\n",
       "      <th>accident_index</th>\n",
       "      <th>accident_year</th>\n",
       "      <th>accident_reference</th>\n",
       "      <th>location_easting_osgr</th>\n",
       "      <th>location_northing_osgr</th>\n",
       "      <th>longitude</th>\n",
       "      <th>latitude</th>\n",
       "      <th>police_force</th>\n",
       "      <th>accident_severity</th>\n",
       "      <th>...</th>\n",
       "      <th>pedestrian_crossing_physical_facilities</th>\n",
       "      <th>light_conditions</th>\n",
       "      <th>weather_conditions</th>\n",
       "      <th>road_surface_conditions</th>\n",
       "      <th>special_conditions_at_site</th>\n",
       "      <th>carriageway_hazards</th>\n",
       "      <th>urban_or_rural_area</th>\n",
       "      <th>did_police_officer_attend_scene_of_accident</th>\n",
       "      <th>trunk_road_flag</th>\n",
       "      <th>lsoa_of_accident_location</th>\n",
       "    </tr>\n",
       "  </thead>\n",
       "  <tbody>\n",
       "    <tr>\n",
       "      <th>0</th>\n",
       "      <td>7128354</td>\n",
       "      <td>201001BS70003</td>\n",
       "      <td>2010</td>\n",
       "      <td>01BS70003</td>\n",
       "      <td>527580.0</td>\n",
       "      <td>177730.0</td>\n",
       "      <td>-0.164002</td>\n",
       "      <td>51.484087</td>\n",
       "      <td>1</td>\n",
       "      <td>3</td>\n",
       "      <td>...</td>\n",
       "      <td>0</td>\n",
       "      <td>1</td>\n",
       "      <td>8</td>\n",
       "      <td>2</td>\n",
       "      <td>0</td>\n",
       "      <td>0</td>\n",
       "      <td>1</td>\n",
       "      <td>1</td>\n",
       "      <td>2</td>\n",
       "      <td>E01002900</td>\n",
       "    </tr>\n",
       "    <tr>\n",
       "      <th>1</th>\n",
       "      <td>7128355</td>\n",
       "      <td>201001BS70004</td>\n",
       "      <td>2010</td>\n",
       "      <td>01BS70004</td>\n",
       "      <td>525340.0</td>\n",
       "      <td>180470.0</td>\n",
       "      <td>-0.195273</td>\n",
       "      <td>51.509212</td>\n",
       "      <td>1</td>\n",
       "      <td>3</td>\n",
       "      <td>...</td>\n",
       "      <td>5</td>\n",
       "      <td>4</td>\n",
       "      <td>2</td>\n",
       "      <td>2</td>\n",
       "      <td>0</td>\n",
       "      <td>0</td>\n",
       "      <td>1</td>\n",
       "      <td>1</td>\n",
       "      <td>2</td>\n",
       "      <td>E01002884</td>\n",
       "    </tr>\n",
       "    <tr>\n",
       "      <th>2</th>\n",
       "      <td>7128356</td>\n",
       "      <td>201001BS70006</td>\n",
       "      <td>2010</td>\n",
       "      <td>01BS70006</td>\n",
       "      <td>524800.0</td>\n",
       "      <td>180300.0</td>\n",
       "      <td>-0.203110</td>\n",
       "      <td>51.507804</td>\n",
       "      <td>1</td>\n",
       "      <td>3</td>\n",
       "      <td>...</td>\n",
       "      <td>5</td>\n",
       "      <td>1</td>\n",
       "      <td>1</td>\n",
       "      <td>1</td>\n",
       "      <td>0</td>\n",
       "      <td>0</td>\n",
       "      <td>1</td>\n",
       "      <td>1</td>\n",
       "      <td>2</td>\n",
       "      <td>E01002871</td>\n",
       "    </tr>\n",
       "    <tr>\n",
       "      <th>3</th>\n",
       "      <td>7128357</td>\n",
       "      <td>201001BS70007</td>\n",
       "      <td>2010</td>\n",
       "      <td>01BS70007</td>\n",
       "      <td>525080.0</td>\n",
       "      <td>180920.0</td>\n",
       "      <td>-0.198858</td>\n",
       "      <td>51.513314</td>\n",
       "      <td>1</td>\n",
       "      <td>3</td>\n",
       "      <td>...</td>\n",
       "      <td>0</td>\n",
       "      <td>4</td>\n",
       "      <td>1</td>\n",
       "      <td>1</td>\n",
       "      <td>0</td>\n",
       "      <td>0</td>\n",
       "      <td>1</td>\n",
       "      <td>1</td>\n",
       "      <td>2</td>\n",
       "      <td>E01002886</td>\n",
       "    </tr>\n",
       "    <tr>\n",
       "      <th>4</th>\n",
       "      <td>7128358</td>\n",
       "      <td>201001BS70008</td>\n",
       "      <td>2010</td>\n",
       "      <td>01BS70008</td>\n",
       "      <td>526760.0</td>\n",
       "      <td>177740.0</td>\n",
       "      <td>-0.175802</td>\n",
       "      <td>51.484361</td>\n",
       "      <td>1</td>\n",
       "      <td>3</td>\n",
       "      <td>...</td>\n",
       "      <td>0</td>\n",
       "      <td>4</td>\n",
       "      <td>1</td>\n",
       "      <td>2</td>\n",
       "      <td>0</td>\n",
       "      <td>0</td>\n",
       "      <td>1</td>\n",
       "      <td>1</td>\n",
       "      <td>2</td>\n",
       "      <td>E01002845</td>\n",
       "    </tr>\n",
       "  </tbody>\n",
       "</table>\n",
       "<p>5 rows × 37 columns</p>\n",
       "</div>"
      ],
      "text/plain": [
       "   Unnamed: 0 accident_index  accident_year accident_reference  \\\n",
       "0     7128354  201001BS70003           2010          01BS70003   \n",
       "1     7128355  201001BS70004           2010          01BS70004   \n",
       "2     7128356  201001BS70006           2010          01BS70006   \n",
       "3     7128357  201001BS70007           2010          01BS70007   \n",
       "4     7128358  201001BS70008           2010          01BS70008   \n",
       "\n",
       "   location_easting_osgr  location_northing_osgr  longitude   latitude  \\\n",
       "0               527580.0                177730.0  -0.164002  51.484087   \n",
       "1               525340.0                180470.0  -0.195273  51.509212   \n",
       "2               524800.0                180300.0  -0.203110  51.507804   \n",
       "3               525080.0                180920.0  -0.198858  51.513314   \n",
       "4               526760.0                177740.0  -0.175802  51.484361   \n",
       "\n",
       "   police_force  accident_severity  ...  \\\n",
       "0             1                  3  ...   \n",
       "1             1                  3  ...   \n",
       "2             1                  3  ...   \n",
       "3             1                  3  ...   \n",
       "4             1                  3  ...   \n",
       "\n",
       "   pedestrian_crossing_physical_facilities  light_conditions  \\\n",
       "0                                        0                 1   \n",
       "1                                        5                 4   \n",
       "2                                        5                 1   \n",
       "3                                        0                 4   \n",
       "4                                        0                 4   \n",
       "\n",
       "  weather_conditions  road_surface_conditions special_conditions_at_site  \\\n",
       "0                  8                        2                          0   \n",
       "1                  2                        2                          0   \n",
       "2                  1                        1                          0   \n",
       "3                  1                        1                          0   \n",
       "4                  1                        2                          0   \n",
       "\n",
       "   carriageway_hazards urban_or_rural_area  \\\n",
       "0                    0                   1   \n",
       "1                    0                   1   \n",
       "2                    0                   1   \n",
       "3                    0                   1   \n",
       "4                    0                   1   \n",
       "\n",
       "  did_police_officer_attend_scene_of_accident  trunk_road_flag  \\\n",
       "0                                           1                2   \n",
       "1                                           1                2   \n",
       "2                                           1                2   \n",
       "3                                           1                2   \n",
       "4                                           1                2   \n",
       "\n",
       "   lsoa_of_accident_location  \n",
       "0                  E01002900  \n",
       "1                  E01002884  \n",
       "2                  E01002871  \n",
       "3                  E01002886  \n",
       "4                  E01002845  \n",
       "\n",
       "[5 rows x 37 columns]"
      ]
     },
     "execution_count": 3,
     "metadata": {},
     "output_type": "execute_result"
    }
   ],
   "source": [
    "road_accidents.head()"
   ]
  },
  {
   "cell_type": "code",
   "execution_count": 4,
   "metadata": {},
   "outputs": [
    {
     "data": {
      "text/plain": [
       "(1575557, 37)"
      ]
     },
     "execution_count": 4,
     "metadata": {},
     "output_type": "execute_result"
    }
   ],
   "source": [
    "road_accidents.shape"
   ]
  },
  {
   "cell_type": "code",
   "execution_count": 5,
   "metadata": {},
   "outputs": [
    {
     "data": {
      "text/plain": [
       "Index(['Unnamed: 0', 'accident_index', 'accident_year', 'accident_reference',\n",
       "       'location_easting_osgr', 'location_northing_osgr', 'longitude',\n",
       "       'latitude', 'police_force', 'accident_severity', 'number_of_vehicles',\n",
       "       'number_of_casualties', 'date', 'day_of_week', 'time',\n",
       "       'local_authority_district', 'local_authority_ons_district',\n",
       "       'local_authority_highway', 'first_road_class', 'first_road_number',\n",
       "       'road_type', 'speed_limit', 'junction_detail', 'junction_control',\n",
       "       'second_road_class', 'second_road_number',\n",
       "       'pedestrian_crossing_human_control',\n",
       "       'pedestrian_crossing_physical_facilities', 'light_conditions',\n",
       "       'weather_conditions', 'road_surface_conditions',\n",
       "       'special_conditions_at_site', 'carriageway_hazards',\n",
       "       'urban_or_rural_area', 'did_police_officer_attend_scene_of_accident',\n",
       "       'trunk_road_flag', 'lsoa_of_accident_location'],\n",
       "      dtype='object')"
      ]
     },
     "execution_count": 5,
     "metadata": {},
     "output_type": "execute_result"
    }
   ],
   "source": [
    "road_accidents.columns"
   ]
  },
  {
   "cell_type": "code",
   "execution_count": 6,
   "metadata": {},
   "outputs": [],
   "source": [
    "road_accidents = road_accidents.loc[:, ~road_accidents.columns.str.contains('^Unnamed')]"
   ]
  },
  {
   "cell_type": "code",
   "execution_count": 7,
   "metadata": {
    "scrolled": false
   },
   "outputs": [
    {
     "data": {
      "text/html": [
       "<div>\n",
       "<style scoped>\n",
       "    .dataframe tbody tr th:only-of-type {\n",
       "        vertical-align: middle;\n",
       "    }\n",
       "\n",
       "    .dataframe tbody tr th {\n",
       "        vertical-align: top;\n",
       "    }\n",
       "\n",
       "    .dataframe thead th {\n",
       "        text-align: right;\n",
       "    }\n",
       "</style>\n",
       "<table border=\"1\" class=\"dataframe\">\n",
       "  <thead>\n",
       "    <tr style=\"text-align: right;\">\n",
       "      <th></th>\n",
       "      <th>accident_index</th>\n",
       "      <th>accident_year</th>\n",
       "      <th>accident_reference</th>\n",
       "      <th>location_easting_osgr</th>\n",
       "      <th>location_northing_osgr</th>\n",
       "      <th>longitude</th>\n",
       "      <th>latitude</th>\n",
       "      <th>police_force</th>\n",
       "      <th>accident_severity</th>\n",
       "      <th>number_of_vehicles</th>\n",
       "      <th>...</th>\n",
       "      <th>pedestrian_crossing_physical_facilities</th>\n",
       "      <th>light_conditions</th>\n",
       "      <th>weather_conditions</th>\n",
       "      <th>road_surface_conditions</th>\n",
       "      <th>special_conditions_at_site</th>\n",
       "      <th>carriageway_hazards</th>\n",
       "      <th>urban_or_rural_area</th>\n",
       "      <th>did_police_officer_attend_scene_of_accident</th>\n",
       "      <th>trunk_road_flag</th>\n",
       "      <th>lsoa_of_accident_location</th>\n",
       "    </tr>\n",
       "  </thead>\n",
       "  <tbody>\n",
       "    <tr>\n",
       "      <th>0</th>\n",
       "      <td>201001BS70003</td>\n",
       "      <td>2010</td>\n",
       "      <td>01BS70003</td>\n",
       "      <td>527580.0</td>\n",
       "      <td>177730.0</td>\n",
       "      <td>-0.164002</td>\n",
       "      <td>51.484087</td>\n",
       "      <td>1</td>\n",
       "      <td>3</td>\n",
       "      <td>2</td>\n",
       "      <td>...</td>\n",
       "      <td>0</td>\n",
       "      <td>1</td>\n",
       "      <td>8</td>\n",
       "      <td>2</td>\n",
       "      <td>0</td>\n",
       "      <td>0</td>\n",
       "      <td>1</td>\n",
       "      <td>1</td>\n",
       "      <td>2</td>\n",
       "      <td>E01002900</td>\n",
       "    </tr>\n",
       "    <tr>\n",
       "      <th>1</th>\n",
       "      <td>201001BS70004</td>\n",
       "      <td>2010</td>\n",
       "      <td>01BS70004</td>\n",
       "      <td>525340.0</td>\n",
       "      <td>180470.0</td>\n",
       "      <td>-0.195273</td>\n",
       "      <td>51.509212</td>\n",
       "      <td>1</td>\n",
       "      <td>3</td>\n",
       "      <td>1</td>\n",
       "      <td>...</td>\n",
       "      <td>5</td>\n",
       "      <td>4</td>\n",
       "      <td>2</td>\n",
       "      <td>2</td>\n",
       "      <td>0</td>\n",
       "      <td>0</td>\n",
       "      <td>1</td>\n",
       "      <td>1</td>\n",
       "      <td>2</td>\n",
       "      <td>E01002884</td>\n",
       "    </tr>\n",
       "  </tbody>\n",
       "</table>\n",
       "<p>2 rows × 36 columns</p>\n",
       "</div>"
      ],
      "text/plain": [
       "  accident_index  accident_year accident_reference  location_easting_osgr  \\\n",
       "0  201001BS70003           2010          01BS70003               527580.0   \n",
       "1  201001BS70004           2010          01BS70004               525340.0   \n",
       "\n",
       "   location_northing_osgr  longitude   latitude  police_force  \\\n",
       "0                177730.0  -0.164002  51.484087             1   \n",
       "1                180470.0  -0.195273  51.509212             1   \n",
       "\n",
       "   accident_severity  number_of_vehicles  ...  \\\n",
       "0                  3                   2  ...   \n",
       "1                  3                   1  ...   \n",
       "\n",
       "   pedestrian_crossing_physical_facilities light_conditions  \\\n",
       "0                                        0                1   \n",
       "1                                        5                4   \n",
       "\n",
       "   weather_conditions road_surface_conditions  special_conditions_at_site  \\\n",
       "0                   8                       2                           0   \n",
       "1                   2                       2                           0   \n",
       "\n",
       "  carriageway_hazards urban_or_rural_area  \\\n",
       "0                   0                   1   \n",
       "1                   0                   1   \n",
       "\n",
       "   did_police_officer_attend_scene_of_accident  trunk_road_flag  \\\n",
       "0                                            1                2   \n",
       "1                                            1                2   \n",
       "\n",
       "   lsoa_of_accident_location  \n",
       "0                  E01002900  \n",
       "1                  E01002884  \n",
       "\n",
       "[2 rows x 36 columns]"
      ]
     },
     "execution_count": 7,
     "metadata": {},
     "output_type": "execute_result"
    }
   ],
   "source": [
    "road_accidents.head(2)"
   ]
  },
  {
   "cell_type": "markdown",
   "metadata": {},
   "source": [
    "#### EDA"
   ]
  },
  {
   "cell_type": "code",
   "execution_count": 8,
   "metadata": {},
   "outputs": [
    {
     "name": "stdout",
     "output_type": "stream",
     "text": [
      "<class 'pandas.core.frame.DataFrame'>\n",
      "RangeIndex: 1575557 entries, 0 to 1575556\n",
      "Data columns (total 36 columns):\n",
      " #   Column                                       Non-Null Count    Dtype  \n",
      "---  ------                                       --------------    -----  \n",
      " 0   accident_index                               1575557 non-null  object \n",
      " 1   accident_year                                1575557 non-null  int64  \n",
      " 2   accident_reference                           1575557 non-null  object \n",
      " 3   location_easting_osgr                        1575390 non-null  float64\n",
      " 4   location_northing_osgr                       1575390 non-null  float64\n",
      " 5   longitude                                    1575380 non-null  float64\n",
      " 6   latitude                                     1575380 non-null  float64\n",
      " 7   police_force                                 1575557 non-null  int64  \n",
      " 8   accident_severity                            1575557 non-null  int64  \n",
      " 9   number_of_vehicles                           1575557 non-null  int64  \n",
      " 10  number_of_casualties                         1575557 non-null  int64  \n",
      " 11  date                                         1575557 non-null  object \n",
      " 12  day_of_week                                  1575557 non-null  int64  \n",
      " 13  time                                         1575557 non-null  object \n",
      " 14  local_authority_district                     1575557 non-null  int64  \n",
      " 15  local_authority_ons_district                 1575557 non-null  object \n",
      " 16  local_authority_highway                      1575557 non-null  object \n",
      " 17  first_road_class                             1575557 non-null  int64  \n",
      " 18  first_road_number                            1575557 non-null  int64  \n",
      " 19  road_type                                    1575557 non-null  int64  \n",
      " 20  speed_limit                                  1575520 non-null  float64\n",
      " 21  junction_detail                              1575557 non-null  int64  \n",
      " 22  junction_control                             1575557 non-null  int64  \n",
      " 23  second_road_class                            1575557 non-null  int64  \n",
      " 24  second_road_number                           1575557 non-null  int64  \n",
      " 25  pedestrian_crossing_human_control            1575557 non-null  int64  \n",
      " 26  pedestrian_crossing_physical_facilities      1575557 non-null  int64  \n",
      " 27  light_conditions                             1575557 non-null  int64  \n",
      " 28  weather_conditions                           1575557 non-null  int64  \n",
      " 29  road_surface_conditions                      1575557 non-null  int64  \n",
      " 30  special_conditions_at_site                   1575557 non-null  int64  \n",
      " 31  carriageway_hazards                          1575557 non-null  int64  \n",
      " 32  urban_or_rural_area                          1575557 non-null  int64  \n",
      " 33  did_police_officer_attend_scene_of_accident  1575557 non-null  int64  \n",
      " 34  trunk_road_flag                              1575557 non-null  int64  \n",
      " 35  lsoa_of_accident_location                    1575557 non-null  object \n",
      "dtypes: float64(5), int64(24), object(7)\n",
      "memory usage: 432.7+ MB\n"
     ]
    }
   ],
   "source": [
    "road_accidents.info()"
   ]
  },
  {
   "cell_type": "code",
   "execution_count": 9,
   "metadata": {},
   "outputs": [
    {
     "data": {
      "text/plain": [
       "accident_index                                   0\n",
       "accident_year                                    0\n",
       "accident_reference                               0\n",
       "location_easting_osgr                          167\n",
       "location_northing_osgr                         167\n",
       "longitude                                      177\n",
       "latitude                                       177\n",
       "police_force                                     0\n",
       "accident_severity                                0\n",
       "number_of_vehicles                               0\n",
       "number_of_casualties                             0\n",
       "date                                             0\n",
       "day_of_week                                      0\n",
       "time                                             0\n",
       "local_authority_district                         0\n",
       "local_authority_ons_district                     0\n",
       "local_authority_highway                          0\n",
       "first_road_class                                 0\n",
       "first_road_number                                0\n",
       "road_type                                        0\n",
       "speed_limit                                     37\n",
       "junction_detail                                  0\n",
       "junction_control                                 0\n",
       "second_road_class                                0\n",
       "second_road_number                               0\n",
       "pedestrian_crossing_human_control                0\n",
       "pedestrian_crossing_physical_facilities          0\n",
       "light_conditions                                 0\n",
       "weather_conditions                               0\n",
       "road_surface_conditions                          0\n",
       "special_conditions_at_site                       0\n",
       "carriageway_hazards                              0\n",
       "urban_or_rural_area                              0\n",
       "did_police_officer_attend_scene_of_accident      0\n",
       "trunk_road_flag                                  0\n",
       "lsoa_of_accident_location                        0\n",
       "dtype: int64"
      ]
     },
     "execution_count": 9,
     "metadata": {},
     "output_type": "execute_result"
    }
   ],
   "source": [
    "road_accidents.isna().sum()"
   ]
  },
  {
   "cell_type": "code",
   "execution_count": 10,
   "metadata": {},
   "outputs": [],
   "source": [
    "#drop null values\n",
    "road_accidents.dropna(inplace=True)"
   ]
  },
  {
   "cell_type": "code",
   "execution_count": 11,
   "metadata": {},
   "outputs": [
    {
     "data": {
      "text/plain": [
       "<AxesSubplot:>"
      ]
     },
     "execution_count": 11,
     "metadata": {},
     "output_type": "execute_result"
    },
    {
     "data": {
      "image/png": "[encoded data removed]",
      "text/plain": [
       "<Figure size 1080x720 with 1 Axes>"
      ]
     },
     "metadata": {
      "needs_background": "light"
     },
     "output_type": "display_data"
    }
   ],
   "source": [
    "plt.figure(figsize=(15, 10))\n",
    "road_accidents['road_type'].value_counts().sort_values().plot.bar()"
   ]
  },
  {
   "cell_type": "code",
   "execution_count": 12,
   "metadata": {},
   "outputs": [
    {
     "data": {
      "text/plain": [
       "Text(0.5, 1.0, 'Number of accidents per year')"
      ]
     },
     "execution_count": 12,
     "metadata": {},
     "output_type": "execute_result"
    },
    {
     "data": {
      "image/png": "[encoded data removed]",
      "text/plain": [
       "<Figure size 1080x720 with 1 Axes>"
      ]
     },
     "metadata": {
      "needs_background": "light"
     },
     "output_type": "display_data"
    }
   ],
   "source": [
    "plt.figure(figsize=(15, 10))\n",
    "road_accidents['accident_year'].value_counts().plot.bar()\n",
    "plt.title('Number of accidents per year')"
   ]
  },
  {
   "cell_type": "code",
   "execution_count": 13,
   "metadata": {},
   "outputs": [
    {
     "data": {
      "text/plain": [
       "<AxesSubplot:>"
      ]
     },
     "execution_count": 13,
     "metadata": {},
     "output_type": "execute_result"
    },
    {
     "data": {
      "image/png": "[encoded data removed]",
      "text/plain": [
       "<Figure size 1080x720 with 1 Axes>"
      ]
     },
     "metadata": {
      "needs_background": "light"
     },
     "output_type": "display_data"
    }
   ],
   "source": [
    "plt.figure(figsize=(15, 10))\n",
    "road_accidents['weather_conditions'].value_counts().sort_values().plot.bar()"
   ]
  },
  {
   "cell_type": "code",
   "execution_count": 14,
   "metadata": {},
   "outputs": [
    {
     "data": {
      "text/plain": [
       "<AxesSubplot:>"
      ]
     },
     "execution_count": 14,
     "metadata": {},
     "output_type": "execute_result"
    },
    {
     "data": {
      "image/png": "[encoded data removed]",
      "text/plain": [
       "<Figure size 1080x720 with 1 Axes>"
      ]
     },
     "metadata": {
      "needs_background": "light"
     },
     "output_type": "display_data"
    }
   ],
   "source": [
    "plt.figure(figsize=(15, 10))\n",
    "road_accidents['road_surface_conditions'].value_counts().sort_values().plot.bar()"
   ]
  },
  {
   "cell_type": "code",
   "execution_count": 15,
   "metadata": {},
   "outputs": [
    {
     "data": {
      "text/plain": [
       "<AxesSubplot:>"
      ]
     },
     "execution_count": 15,
     "metadata": {},
     "output_type": "execute_result"
    },
    {
     "data": {
      "image/png": "[encoded data removed]",
      "text/plain": [
       "<Figure size 1080x720 with 1 Axes>"
      ]
     },
     "metadata": {
      "needs_background": "light"
     },
     "output_type": "display_data"
    }
   ],
   "source": [
    "plt.figure(figsize=(15, 10))\n",
    "road_accidents['accident_severity'].value_counts().sort_values().plot.bar()"
   ]
  },
  {
   "cell_type": "code",
   "execution_count": 16,
   "metadata": {},
   "outputs": [
    {
     "data": {
      "text/plain": [
       "<AxesSubplot:>"
      ]
     },
     "execution_count": 16,
     "metadata": {},
     "output_type": "execute_result"
    },
    {
     "data": {
      "image/png": "[encoded data removed]",
      "text/plain": [
       "<Figure size 1080x720 with 1 Axes>"
      ]
     },
     "metadata": {
      "needs_background": "light"
     },
     "output_type": "display_data"
    }
   ],
   "source": [
    "plt.figure(figsize=(15, 10))\n",
    "road_accidents['number_of_vehicles'].value_counts().sort_values().plot.bar()"
   ]
  },
  {
   "cell_type": "code",
   "execution_count": 17,
   "metadata": {},
   "outputs": [
    {
     "data": {
      "text/plain": [
       "<AxesSubplot:>"
      ]
     },
     "execution_count": 17,
     "metadata": {},
     "output_type": "execute_result"
    },
    {
     "data": {
      "image/png": "[encoded data removed]",
      "text/plain": [
       "<Figure size 1080x720 with 1 Axes>"
      ]
     },
     "metadata": {
      "needs_background": "light"
     },
     "output_type": "display_data"
    }
   ],
   "source": [
    "plt.figure(figsize=(15, 10))\n",
    "road_accidents['number_of_casualties'].value_counts().sort_values().plot.bar()"
   ]
  },
  {
   "cell_type": "code",
   "execution_count": 18,
   "metadata": {},
   "outputs": [
    {
     "data": {
      "text/plain": [
       "<AxesSubplot:>"
      ]
     },
     "execution_count": 18,
     "metadata": {},
     "output_type": "execute_result"
    },
    {
     "data": {
      "image/png": "[encoded data removed]",
      "text/plain": [
       "<Figure size 1080x720 with 1 Axes>"
      ]
     },
     "metadata": {
      "needs_background": "light"
     },
     "output_type": "display_data"
    }
   ],
   "source": [
    "plt.figure(figsize=(15, 10))\n",
    "road_accidents['day_of_week'].value_counts().sort_values().plot.bar()"
   ]
  },
  {
   "cell_type": "code",
   "execution_count": 19,
   "metadata": {},
   "outputs": [
    {
     "data": {
      "text/plain": [
       "(array([0, 1, 2, 3, 4, 5]),\n",
       " [Text(0, 0, '1'),\n",
       "  Text(1, 0, '2'),\n",
       "  Text(2, 0, '3'),\n",
       "  Text(3, 0, '6'),\n",
       "  Text(4, 0, '7'),\n",
       "  Text(5, 0, '9')])"
      ]
     },
     "execution_count": 19,
     "metadata": {},
     "output_type": "execute_result"
    },
    {
     "data": {
      "image/png": "[encoded data removed]",
      "text/plain": [
       "<Figure size 1080x720 with 1 Axes>"
      ]
     },
     "metadata": {
      "needs_background": "light"
     },
     "output_type": "display_data"
    }
   ],
   "source": [
    "plt.figure(figsize=(15, 10))\n",
    "sns.barplot(x = \"road_type\", y = \"number_of_casualties\", data = road_accidents)\n",
    "plt.ylabel(\"Number of Casualities\", fontsize = 30)\n",
    "plt.xlabel(\"Road Type\", fontsize = 30)\n",
    "plt.xticks(rotation = 45, fontsize = 15)"
   ]
  },
  {
   "cell_type": "code",
   "execution_count": 20,
   "metadata": {
    "scrolled": true
   },
   "outputs": [
    {
     "data": {
      "text/plain": [
       "<AxesSubplot:xlabel='road_type', ylabel='count'>"
      ]
     },
     "execution_count": 20,
     "metadata": {},
     "output_type": "execute_result"
    },
    {
     "data": {
      "image/png": "[encoded data removed]",
      "text/plain": [
       "<Figure size 1080x720 with 1 Axes>"
      ]
     },
     "metadata": {
      "needs_background": "light"
     },
     "output_type": "display_data"
    }
   ],
   "source": [
    "plt.figure(figsize=(15, 10))\n",
    "sns.countplot(x='road_type', hue='accident_severity', data=road_accidents)"
   ]
  },
  {
   "cell_type": "code",
   "execution_count": 21,
   "metadata": {},
   "outputs": [],
   "source": [
    "#drop columns that won't be needed\n",
    "cols_remove = [\n",
    "    'accident_reference', 'location_easting_osgr', 'location_northing_osgr', 'longitude','latitude',\n",
    "    'local_authority_ons_district', 'local_authority_highway','lsoa_of_accident_location'\n",
    "]\n",
    "\n",
    "new_road_acc_df = road_accidents.drop(cols_remove, axis=1)"
   ]
  },
  {
   "cell_type": "code",
   "execution_count": 22,
   "metadata": {},
   "outputs": [],
   "source": [
    "#convert date and time columns to datetime series\n",
    "new_road_acc_df['date'] = pd.to_datetime(new_road_acc_df['date'])\n",
    "new_road_acc_df['time'] = pd.to_datetime(new_road_acc_df['time'])"
   ]
  },
  {
   "cell_type": "code",
   "execution_count": 23,
   "metadata": {},
   "outputs": [],
   "source": [
    "new_road_acc_df['accident_month'] = new_road_acc_df['date'].dt.month"
   ]
  },
  {
   "cell_type": "code",
   "execution_count": 24,
   "metadata": {},
   "outputs": [],
   "source": [
    "new_road_acc_df['hour'] = new_road_acc_df['time'].dt.hour"
   ]
  },
  {
   "cell_type": "code",
   "execution_count": 25,
   "metadata": {
    "scrolled": true
   },
   "outputs": [
    {
     "data": {
      "text/plain": [
       "3    1303812\n",
       "2     251921\n",
       "1      19610\n",
       "Name: accident_severity, dtype: int64"
      ]
     },
     "execution_count": 25,
     "metadata": {},
     "output_type": "execute_result"
    }
   ],
   "source": [
    "road_accidents.accident_severity.value_counts()"
   ]
  },
  {
   "cell_type": "markdown",
   "metadata": {},
   "source": [
    "Since 1 has the lowest count, it will be dropped"
   ]
  },
  {
   "cell_type": "code",
   "execution_count": 26,
   "metadata": {},
   "outputs": [],
   "source": [
    "new_road_acc_df.drop(new_road_acc_df[new_road_acc_df['accident_severity'] == 1].index, inplace=True)"
   ]
  },
  {
   "cell_type": "code",
   "execution_count": 27,
   "metadata": {
    "scrolled": true
   },
   "outputs": [
    {
     "data": {
      "text/plain": [
       "3    1303812\n",
       "2     251921\n",
       "Name: accident_severity, dtype: int64"
      ]
     },
     "execution_count": 27,
     "metadata": {},
     "output_type": "execute_result"
    }
   ],
   "source": [
    "new_road_acc_df.accident_severity.value_counts()"
   ]
  },
  {
   "cell_type": "code",
   "execution_count": 28,
   "metadata": {},
   "outputs": [],
   "source": [
    "#change to the correct data types\n",
    "new_road_acc_df['police_force'] = new_road_acc_df['police_force'].astype('category')\n",
    "new_road_acc_df['accident_severity'] = new_road_acc_df['accident_severity'].astype('category')\n",
    "new_road_acc_df['local_authority_district'] = new_road_acc_df['local_authority_district'].astype('category')\n",
    "new_road_acc_df['first_road_class'] = new_road_acc_df['first_road_class'].astype('category')\n",
    "new_road_acc_df['first_road_number'] = new_road_acc_df['first_road_number'].astype('category')\n",
    "new_road_acc_df['road_type'] = new_road_acc_df['road_type'].astype('category')\n",
    "new_road_acc_df['junction_detail'] = new_road_acc_df['junction_detail'].astype('category')\n",
    "new_road_acc_df['junction_control'] = new_road_acc_df['junction_control'].astype('category')\n",
    "new_road_acc_df['second_road_class'] = new_road_acc_df['second_road_class'].astype('category')\n",
    "new_road_acc_df['second_road_number'] = new_road_acc_df['second_road_number'].astype('category')\n",
    "new_road_acc_df['pedestrian_crossing_human_control'] = new_road_acc_df['pedestrian_crossing_human_control'].astype('category')\n",
    "new_road_acc_df['pedestrian_crossing_physical_facilities'] = new_road_acc_df['pedestrian_crossing_physical_facilities'].astype('category')\n",
    "new_road_acc_df['light_conditions'] = new_road_acc_df['light_conditions'].astype('category')\n",
    "new_road_acc_df['weather_conditions'] = new_road_acc_df['weather_conditions'].astype('category')\n",
    "new_road_acc_df['road_surface_conditions'] = new_road_acc_df['road_surface_conditions'].astype('category')\n",
    "new_road_acc_df['special_conditions_at_site'] = new_road_acc_df['special_conditions_at_site'].astype('category')\n",
    "new_road_acc_df['carriageway_hazards'] = new_road_acc_df['carriageway_hazards'].astype('category')\n",
    "new_road_acc_df['urban_or_rural_area'] = new_road_acc_df['urban_or_rural_area'].astype('category')\n",
    "new_road_acc_df['did_police_officer_attend_scene_of_accident'] = new_road_acc_df['did_police_officer_attend_scene_of_accident'].astype('category')\n",
    "new_road_acc_df['trunk_road_flag'] = new_road_acc_df['trunk_road_flag'].astype('category')\n",
    "new_road_acc_df['accident_month'] = new_road_acc_df['accident_month'].astype('category')\n",
    "new_road_acc_df['hour'] = new_road_acc_df['hour'].astype('category')"
   ]
  },
  {
   "cell_type": "code",
   "execution_count": 29,
   "metadata": {},
   "outputs": [],
   "source": [
    "new_road_acc_df.to_csv('updated_acc_data.csv', index=False)"
   ]
  },
  {
   "cell_type": "markdown",
   "metadata": {},
   "source": [
    "### modelling"
   ]
  },
  {
   "cell_type": "code",
   "execution_count": 30,
   "metadata": {},
   "outputs": [],
   "source": [
    "from sklearn.model_selection import train_test_split\n",
    "from sklearn.linear_model import LogisticRegression\n",
    "from sklearn.metrics import accuracy_score\n",
    "from sklearn.metrics import classification_report\n",
    "from sklearn.tree import DecisionTreeClassifier\n",
    "from sklearn.ensemble import RandomForestClassifier\n",
    "from sklearn.svm import SVC, LinearSVC\n",
    "from sklearn.metrics import log_loss"
   ]
  },
  {
   "cell_type": "code",
   "execution_count": 31,
   "metadata": {},
   "outputs": [],
   "source": [
    "#split the dataset \n",
    "features = new_road_acc_df.drop(['accident_index', 'date','accident_severity','time', 'accident_year'], axis=1)\n",
    "target = new_road_acc_df[['accident_severity']]"
   ]
  },
  {
   "cell_type": "code",
   "execution_count": 32,
   "metadata": {},
   "outputs": [
    {
     "data": {
      "text/plain": [
       "Index(['police_force', 'number_of_vehicles', 'number_of_casualties',\n",
       "       'day_of_week', 'local_authority_district', 'first_road_class',\n",
       "       'first_road_number', 'road_type', 'speed_limit', 'junction_detail',\n",
       "       'junction_control', 'second_road_class', 'second_road_number',\n",
       "       'pedestrian_crossing_human_control',\n",
       "       'pedestrian_crossing_physical_facilities', 'light_conditions',\n",
       "       'weather_conditions', 'road_surface_conditions',\n",
       "       'special_conditions_at_site', 'carriageway_hazards',\n",
       "       'urban_or_rural_area', 'did_police_officer_attend_scene_of_accident',\n",
       "       'trunk_road_flag', 'accident_month', 'hour'],\n",
       "      dtype='object')"
      ]
     },
     "execution_count": 32,
     "metadata": {},
     "output_type": "execute_result"
    }
   ],
   "source": [
    "features.columns"
   ]
  },
  {
   "cell_type": "code",
   "execution_count": 33,
   "metadata": {},
   "outputs": [
    {
     "data": {
      "text/plain": [
       "(1555733, 25)"
      ]
     },
     "execution_count": 33,
     "metadata": {},
     "output_type": "execute_result"
    }
   ],
   "source": [
    "features.shape"
   ]
  },
  {
   "cell_type": "code",
   "execution_count": 34,
   "metadata": {},
   "outputs": [
    {
     "data": {
      "text/plain": [
       "(1555733, 1)"
      ]
     },
     "execution_count": 34,
     "metadata": {},
     "output_type": "execute_result"
    }
   ],
   "source": [
    "target.shape"
   ]
  },
  {
   "cell_type": "code",
   "execution_count": 35,
   "metadata": {
    "scrolled": true
   },
   "outputs": [
    {
     "data": {
      "text/html": [
       "<div>\n",
       "<style scoped>\n",
       "    .dataframe tbody tr th:only-of-type {\n",
       "        vertical-align: middle;\n",
       "    }\n",
       "\n",
       "    .dataframe tbody tr th {\n",
       "        vertical-align: top;\n",
       "    }\n",
       "\n",
       "    .dataframe thead th {\n",
       "        text-align: right;\n",
       "    }\n",
       "</style>\n",
       "<table border=\"1\" class=\"dataframe\">\n",
       "  <thead>\n",
       "    <tr style=\"text-align: right;\">\n",
       "      <th></th>\n",
       "      <th>accident_severity</th>\n",
       "    </tr>\n",
       "  </thead>\n",
       "  <tbody>\n",
       "    <tr>\n",
       "      <th>0</th>\n",
       "      <td>3</td>\n",
       "    </tr>\n",
       "    <tr>\n",
       "      <th>1</th>\n",
       "      <td>3</td>\n",
       "    </tr>\n",
       "    <tr>\n",
       "      <th>2</th>\n",
       "      <td>3</td>\n",
       "    </tr>\n",
       "    <tr>\n",
       "      <th>3</th>\n",
       "      <td>3</td>\n",
       "    </tr>\n",
       "    <tr>\n",
       "      <th>4</th>\n",
       "      <td>3</td>\n",
       "    </tr>\n",
       "  </tbody>\n",
       "</table>\n",
       "</div>"
      ],
      "text/plain": [
       "  accident_severity\n",
       "0                 3\n",
       "1                 3\n",
       "2                 3\n",
       "3                 3\n",
       "4                 3"
      ]
     },
     "execution_count": 35,
     "metadata": {},
     "output_type": "execute_result"
    }
   ],
   "source": [
    "target.head()"
   ]
  },
  {
   "cell_type": "code",
   "execution_count": 36,
   "metadata": {},
   "outputs": [],
   "source": [
    "#split for modeling\n",
    "x_train, x_test, y_train, y_test = train_test_split(features,target, test_size=0.5, shuffle=True, random_state=42)\n",
    "\n",
    "x_test, x_val, y_test, y_val = train_test_split(x_test, y_test,\n",
    "    test_size=0.5, random_state= 42)"
   ]
  },
  {
   "cell_type": "code",
   "execution_count": 37,
   "metadata": {},
   "outputs": [
    {
     "data": {
      "text/plain": [
       "(777866, 25)"
      ]
     },
     "execution_count": 37,
     "metadata": {},
     "output_type": "execute_result"
    }
   ],
   "source": [
    "x_train.shape"
   ]
  },
  {
   "cell_type": "code",
   "execution_count": 38,
   "metadata": {},
   "outputs": [
    {
     "data": {
      "text/plain": [
       "(777866, 1)"
      ]
     },
     "execution_count": 38,
     "metadata": {},
     "output_type": "execute_result"
    }
   ],
   "source": [
    "y_train.shape"
   ]
  },
  {
   "cell_type": "code",
   "execution_count": 39,
   "metadata": {},
   "outputs": [
    {
     "data": {
      "text/plain": [
       "(388933, 1)"
      ]
     },
     "execution_count": 39,
     "metadata": {},
     "output_type": "execute_result"
    }
   ],
   "source": [
    "y_test.shape"
   ]
  },
  {
   "cell_type": "code",
   "execution_count": 40,
   "metadata": {},
   "outputs": [],
   "source": [
    "# creating a RF classifier\n",
    "clf = RandomForestClassifier(n_estimators = 100, class_weight='balanced') \n",
    "\n"
   ]
  },
  {
   "cell_type": "code",
   "execution_count": 41,
   "metadata": {},
   "outputs": [
    {
     "data": {
      "text/plain": [
       "RandomForestClassifier(class_weight='balanced')"
      ]
     },
     "execution_count": 41,
     "metadata": {},
     "output_type": "execute_result"
    }
   ],
   "source": [
    "# Training the model on the training dataset\n",
    "clf.fit(x_train, y_train.values.ravel())"
   ]
  },
  {
   "cell_type": "code",
   "execution_count": 42,
   "metadata": {},
   "outputs": [],
   "source": [
    "# performing predictions on the test dataset\n",
    "y_pred = clf.predict(x_test)"
   ]
  },
  {
   "cell_type": "code",
   "execution_count": 43,
   "metadata": {},
   "outputs": [
    {
     "name": "stdout",
     "output_type": "stream",
     "text": [
      "ACCURACY OF THE MODEL:  0.8334031825532933\n"
     ]
    }
   ],
   "source": [
    "print(\"ACCURACY OF THE MODEL: \", accuracy_score(y_test, y_pred))\n"
   ]
  },
  {
   "cell_type": "code",
   "execution_count": 44,
   "metadata": {
    "scrolled": false
   },
   "outputs": [
    {
     "name": "stdout",
     "output_type": "stream",
     "text": [
      "              precision    recall  f1-score   support\n",
      "\n",
      "           2       0.35      0.03      0.05     63269\n",
      "           3       0.84      0.99      0.91    325664\n",
      "\n",
      "    accuracy                           0.83    388933\n",
      "   macro avg       0.59      0.51      0.48    388933\n",
      "weighted avg       0.76      0.83      0.77    388933\n",
      "\n"
     ]
    }
   ],
   "source": [
    "#create a classification report\n",
    "print(classification_report(y_test, y_pred))"
   ]
  },
  {
   "cell_type": "markdown",
   "metadata": {},
   "source": [
    "It has been observed that the model does not seem to be predicting accurately, this could be due to the large difference between the different accident severity levels. This can be resolved by downsampling the accident severity levels\n",
    "\n",
    "\n",
    "#### Downsampling the Accident Severity"
   ]
  },
  {
   "cell_type": "code",
   "execution_count": 45,
   "metadata": {},
   "outputs": [],
   "source": [
    "import numpy as np"
   ]
  },
  {
   "cell_type": "code",
   "execution_count": 46,
   "metadata": {},
   "outputs": [
    {
     "data": {
      "text/plain": [
       "3    1303812\n",
       "2     251921\n",
       "Name: accident_severity, dtype: int64"
      ]
     },
     "execution_count": 46,
     "metadata": {},
     "output_type": "execute_result"
    }
   ],
   "source": [
    "#get the value count\n",
    "num_class = new_road_acc_df['accident_severity'].value_counts()\n",
    "num_class"
   ]
  },
  {
   "cell_type": "code",
   "execution_count": 47,
   "metadata": {
    "scrolled": true
   },
   "outputs": [
    {
     "data": {
      "text/plain": [
       "2    251921\n",
       "3    251921\n",
       "Name: accident_severity, dtype: int64"
      ]
     },
     "execution_count": 47,
     "metadata": {},
     "output_type": "execute_result"
    }
   ],
   "source": [
    "new_road_acc_df= pd.concat([new_road_acc_df[new_road_acc_df['accident_severity']==num_class.idxmin()],\\\n",
    "new_road_acc_df[new_road_acc_df['accident_severity']!=num_class.idxmin()].sample(min(num_class))])\n",
    "\n",
    "new_road_acc_df.accident_severity.value_counts()"
   ]
  },
  {
   "cell_type": "markdown",
   "metadata": {},
   "source": [
    "The accident severity levels have been downsized, the dataset will be split and a model will be built again"
   ]
  },
  {
   "cell_type": "code",
   "execution_count": 48,
   "metadata": {},
   "outputs": [],
   "source": [
    "features = new_road_acc_df.drop(['accident_index', 'date','accident_severity','time', 'accident_year'], axis=1)\n",
    "target = new_road_acc_df[['accident_severity']]"
   ]
  },
  {
   "cell_type": "code",
   "execution_count": 49,
   "metadata": {},
   "outputs": [
    {
     "data": {
      "text/plain": [
       "Index(['police_force', 'number_of_vehicles', 'number_of_casualties',\n",
       "       'day_of_week', 'local_authority_district', 'first_road_class',\n",
       "       'first_road_number', 'road_type', 'speed_limit', 'junction_detail',\n",
       "       'junction_control', 'second_road_class', 'second_road_number',\n",
       "       'pedestrian_crossing_human_control',\n",
       "       'pedestrian_crossing_physical_facilities', 'light_conditions',\n",
       "       'weather_conditions', 'road_surface_conditions',\n",
       "       'special_conditions_at_site', 'carriageway_hazards',\n",
       "       'urban_or_rural_area', 'did_police_officer_attend_scene_of_accident',\n",
       "       'trunk_road_flag', 'accident_month', 'hour'],\n",
       "      dtype='object')"
      ]
     },
     "execution_count": 49,
     "metadata": {},
     "output_type": "execute_result"
    }
   ],
   "source": [
    "features.columns"
   ]
  },
  {
   "cell_type": "code",
   "execution_count": 50,
   "metadata": {},
   "outputs": [
    {
     "data": {
      "text/plain": [
       "(503842, 25)"
      ]
     },
     "execution_count": 50,
     "metadata": {},
     "output_type": "execute_result"
    }
   ],
   "source": [
    "features.shape"
   ]
  },
  {
   "cell_type": "code",
   "execution_count": 51,
   "metadata": {},
   "outputs": [
    {
     "data": {
      "text/plain": [
       "(503842, 1)"
      ]
     },
     "execution_count": 51,
     "metadata": {},
     "output_type": "execute_result"
    }
   ],
   "source": [
    "target.shape"
   ]
  },
  {
   "cell_type": "code",
   "execution_count": 52,
   "metadata": {},
   "outputs": [],
   "source": [
    "X_train, X_test, y_train, y_test = train_test_split(features,target, test_size=0.5, shuffle=True, random_state=42)\n",
    "\n",
    "X_test, X_val, y_test, y_val = train_test_split(X_test, y_test,\n",
    "    test_size=0.5, random_state= 42)"
   ]
  },
  {
   "cell_type": "code",
   "execution_count": 53,
   "metadata": {},
   "outputs": [
    {
     "data": {
      "text/plain": [
       "(251921, 25)"
      ]
     },
     "execution_count": 53,
     "metadata": {},
     "output_type": "execute_result"
    }
   ],
   "source": [
    "X_train.shape"
   ]
  },
  {
   "cell_type": "code",
   "execution_count": 54,
   "metadata": {},
   "outputs": [
    {
     "data": {
      "text/plain": [
       "(251921, 1)"
      ]
     },
     "execution_count": 54,
     "metadata": {},
     "output_type": "execute_result"
    }
   ],
   "source": [
    "y_train.shape"
   ]
  },
  {
   "cell_type": "code",
   "execution_count": 55,
   "metadata": {},
   "outputs": [
    {
     "data": {
      "text/plain": [
       "(125960, 1)"
      ]
     },
     "execution_count": 55,
     "metadata": {},
     "output_type": "execute_result"
    }
   ],
   "source": [
    "y_test.shape"
   ]
  },
  {
   "cell_type": "code",
   "execution_count": 56,
   "metadata": {},
   "outputs": [],
   "source": [
    "# creating a RF classifier\n",
    "clf = RandomForestClassifier(n_estimators = 100, class_weight='balanced') \n"
   ]
  },
  {
   "cell_type": "code",
   "execution_count": 57,
   "metadata": {},
   "outputs": [
    {
     "data": {
      "text/plain": [
       "RandomForestClassifier(class_weight='balanced')"
      ]
     },
     "execution_count": 57,
     "metadata": {},
     "output_type": "execute_result"
    }
   ],
   "source": [
    "# Training the model on the training dataset\n",
    "clf.fit(X_train, y_train.values.ravel())"
   ]
  },
  {
   "cell_type": "code",
   "execution_count": 58,
   "metadata": {},
   "outputs": [],
   "source": [
    "# performing predictions on the test dataset\n",
    "y_pred = clf.predict(X_test)"
   ]
  },
  {
   "cell_type": "code",
   "execution_count": 59,
   "metadata": {},
   "outputs": [
    {
     "name": "stdout",
     "output_type": "stream",
     "text": [
      "ACCURACY OF THE MODEL:  0.605612892981899\n"
     ]
    }
   ],
   "source": [
    "print(\"ACCURACY OF THE MODEL: \", accuracy_score(y_test, y_pred))"
   ]
  },
  {
   "cell_type": "code",
   "execution_count": 60,
   "metadata": {},
   "outputs": [
    {
     "name": "stdout",
     "output_type": "stream",
     "text": [
      "              precision    recall  f1-score   support\n",
      "\n",
      "           2       0.61      0.62      0.61     63262\n",
      "           3       0.61      0.59      0.60     62698\n",
      "\n",
      "    accuracy                           0.61    125960\n",
      "   macro avg       0.61      0.61      0.61    125960\n",
      "weighted avg       0.61      0.61      0.61    125960\n",
      "\n"
     ]
    }
   ],
   "source": [
    "#create a classification report\n",
    "print(classification_report(y_test, y_pred))"
   ]
  },
  {
   "cell_type": "code",
   "execution_count": 61,
   "metadata": {},
   "outputs": [
    {
     "data": {
      "text/plain": [
       "array([[38991, 24271],\n",
       "       [25406, 37292]], dtype=int64)"
      ]
     },
     "execution_count": 61,
     "metadata": {},
     "output_type": "execute_result"
    }
   ],
   "source": [
    "# Create a confusion matrix using the confusion_matrix function\n",
    "from sklearn.metrics import confusion_matrix\n",
    "\n",
    "confusion_matrix(y_test, y_pred)"
   ]
  },
  {
   "cell_type": "code",
   "execution_count": 62,
   "metadata": {},
   "outputs": [
    {
     "data": {
      "image/png": "[encoded data removed]",
      "text/plain": [
       "<Figure size 216x216 with 1 Axes>"
      ]
     },
     "metadata": {
      "needs_background": "light"
     },
     "output_type": "display_data"
    }
   ],
   "source": [
    "# Create a more visual confusion matrix\n",
    "import seaborn as sns\n",
    "\n",
    "def plot_conf_mat(y_test, y_pred):\n",
    "    \"\"\"\n",
    "    Plots a confusion matrix using seaborn's heatmap()\n",
    "    \"\"\"\n",
    "    fix, ax = plt.subplots(figsize=(3, 3))\n",
    "    ax = sns.heatmap(confusion_matrix(y_test, y_pred),\n",
    "                     annot=True,\n",
    "                     cbar=False)\n",
    "    plt.xlabel(\"Predicted label\")\n",
    "    plt.ylabel(\"True label\")\n",
    "    \n",
    "plot_conf_mat(y_test, y_pred)"
   ]
  },
  {
   "cell_type": "code",
   "execution_count": 63,
   "metadata": {},
   "outputs": [
    {
     "data": {
      "text/plain": [
       "local_authority_district                       0.138555\n",
       "hour                                           0.113774\n",
       "accident_month                                 0.106615\n",
       "first_road_number                              0.096839\n",
       "police_force                                   0.088802\n",
       "day_of_week                                    0.083139\n",
       "number_of_vehicles                             0.037405\n",
       "first_road_class                               0.030776\n",
       "junction_detail                                0.029748\n",
       "speed_limit                                    0.029694\n",
       "number_of_casualties                           0.025462\n",
       "pedestrian_crossing_physical_facilities        0.024110\n",
       "second_road_number                             0.023734\n",
       "weather_conditions                             0.022530\n",
       "road_surface_conditions                        0.021087\n",
       "did_police_officer_attend_scene_of_accident    0.020873\n",
       "light_conditions                               0.019876\n",
       "road_type                                      0.019821\n",
       "second_road_class                              0.019293\n",
       "junction_control                               0.013219\n",
       "urban_or_rural_area                            0.010741\n",
       "trunk_road_flag                                0.007635\n",
       "special_conditions_at_site                     0.007090\n",
       "carriageway_hazards                            0.005928\n",
       "pedestrian_crossing_human_control              0.003252\n",
       "dtype: float64"
      ]
     },
     "execution_count": 63,
     "metadata": {},
     "output_type": "execute_result"
    }
   ],
   "source": [
    "# Find the most important features using feature importance\n",
    "\n",
    "feature_scores = pd.Series(clf.feature_importances_, index=x_train.columns).sort_values(ascending=False)\n",
    "feature_scores"
   ]
  },
  {
   "cell_type": "markdown",
   "metadata": {},
   "source": [
    "#### Use the scaled features to train a model"
   ]
  },
  {
   "cell_type": "code",
   "execution_count": 64,
   "metadata": {},
   "outputs": [],
   "source": [
    "#standardize the features data\n",
    "from sklearn.preprocessing import StandardScaler\n",
    "\n",
    "scaler =  StandardScaler()\n",
    "\n",
    "feature_scaled = pd.DataFrame(scaler.fit_transform(features), columns=features.columns)"
   ]
  },
  {
   "cell_type": "code",
   "execution_count": 65,
   "metadata": {},
   "outputs": [],
   "source": [
    "x_train, x_test, y_train, y_test = train_test_split(feature_scaled,target, test_size=0.5, shuffle=True, random_state=42)\n",
    "\n",
    "x_test, x_val, y_test, y_val = train_test_split(x_test, y_test,\n",
    "    test_size=0.5, random_state= 42)"
   ]
  },
  {
   "cell_type": "code",
   "execution_count": 66,
   "metadata": {},
   "outputs": [
    {
     "data": {
      "text/plain": [
       "(251921, 25)"
      ]
     },
     "execution_count": 66,
     "metadata": {},
     "output_type": "execute_result"
    }
   ],
   "source": [
    "x_train.shape"
   ]
  },
  {
   "cell_type": "code",
   "execution_count": 67,
   "metadata": {},
   "outputs": [],
   "source": [
    "# creating a RF classifier\n",
    "clf = RandomForestClassifier(n_estimators = 100, class_weight='balanced') "
   ]
  },
  {
   "cell_type": "code",
   "execution_count": 68,
   "metadata": {},
   "outputs": [
    {
     "data": {
      "text/plain": [
       "RandomForestClassifier(class_weight='balanced')"
      ]
     },
     "execution_count": 68,
     "metadata": {},
     "output_type": "execute_result"
    }
   ],
   "source": [
    "# Training the model on the training dataset\n",
    "clf.fit(x_train, y_train.values.ravel())"
   ]
  },
  {
   "cell_type": "code",
   "execution_count": 69,
   "metadata": {},
   "outputs": [],
   "source": [
    "# performing predictions on the test dataset\n",
    "y_pred = clf.predict(x_test)"
   ]
  },
  {
   "cell_type": "code",
   "execution_count": 70,
   "metadata": {
    "scrolled": false
   },
   "outputs": [
    {
     "name": "stdout",
     "output_type": "stream",
     "text": [
      "ACCURACY OF THE MODEL:  0.607359479199746\n"
     ]
    }
   ],
   "source": [
    "print(\"ACCURACY OF THE MODEL: \", accuracy_score(y_test, y_pred))"
   ]
  },
  {
   "cell_type": "markdown",
   "metadata": {},
   "source": [
    "There is no much difference between the unscaled features and scaled features\n",
    "\n",
    "Next, the parameters of random forest will be tuned"
   ]
  },
  {
   "cell_type": "markdown",
   "metadata": {},
   "source": [
    "#### Hyperparameter Tuning"
   ]
  },
  {
   "cell_type": "code",
   "execution_count": 71,
   "metadata": {},
   "outputs": [],
   "source": [
    "#tune with Randomized Search CV\n",
    "n_estimators = [5,20,50,100] # number of trees in the random forest\n",
    "max_features = ['auto', 'sqrt'] # number of features in consideration at every split\n",
    "max_depth = [int(x) for x in np.linspace(10, 120, num = 12)] # maximum number of levels allowed in each decision tree\n",
    "min_samples_split= [2, 6, 10] # minimum sample number to split a node\n",
    "min_samples_leaf = [1, 3, 4] # minimum sample number that can be stored in a leaf node\n",
    "bootstrap = [True, False] # method used to sample data points\n",
    "\n",
    "random_grid = {'n_estimators': n_estimators,\n",
    "\n",
    "'max_features': max_features,\n",
    "\n",
    "'max_depth': max_depth,\n",
    "\n",
    "'min_samples_split': min_samples_split,\n",
    "\n",
    "'min_samples_leaf': min_samples_leaf,\n",
    "\n",
    "'bootstrap': bootstrap}"
   ]
  },
  {
   "cell_type": "code",
   "execution_count": 72,
   "metadata": {},
   "outputs": [],
   "source": [
    "from sklearn.model_selection import RandomizedSearchCV\n",
    "rf_random = RandomizedSearchCV(estimator = clf,param_distributions = random_grid,\n",
    "               n_iter = 10, cv = 3, verbose=2, random_state=35, n_jobs = -1)"
   ]
  },
  {
   "cell_type": "code",
   "execution_count": 73,
   "metadata": {},
   "outputs": [
    {
     "name": "stdout",
     "output_type": "stream",
     "text": [
      "Fitting 3 folds for each of 10 candidates, totalling 30 fits\n"
     ]
    },
    {
     "data": {
      "text/plain": [
       "RandomizedSearchCV(cv=3,\n",
       "                   estimator=RandomForestClassifier(class_weight='balanced'),\n",
       "                   n_jobs=-1,\n",
       "                   param_distributions={'bootstrap': [True, False],\n",
       "                                        'max_depth': [10, 20, 30, 40, 50, 60,\n",
       "                                                      70, 80, 90, 100, 110,\n",
       "                                                      120],\n",
       "                                        'max_features': ['auto', 'sqrt'],\n",
       "                                        'min_samples_leaf': [1, 3, 4],\n",
       "                                        'min_samples_split': [2, 6, 10],\n",
       "                                        'n_estimators': [5, 20, 50, 100]},\n",
       "                   random_state=35, verbose=2)"
      ]
     },
     "execution_count": 73,
     "metadata": {},
     "output_type": "execute_result"
    }
   ],
   "source": [
    "rf_random.fit(X_train, y_train.values.ravel())"
   ]
  },
  {
   "cell_type": "code",
   "execution_count": 74,
   "metadata": {},
   "outputs": [
    {
     "data": {
      "text/plain": [
       "{'n_estimators': 100,\n",
       " 'min_samples_split': 10,\n",
       " 'min_samples_leaf': 3,\n",
       " 'max_features': 'auto',\n",
       " 'max_depth': 20,\n",
       " 'bootstrap': False}"
      ]
     },
     "execution_count": 74,
     "metadata": {},
     "output_type": "execute_result"
    }
   ],
   "source": [
    "#get the best parameters\n",
    "rf_random.best_params_"
   ]
  },
  {
   "cell_type": "code",
   "execution_count": 75,
   "metadata": {},
   "outputs": [
    {
     "data": {
      "text/plain": [
       "RandomForestClassifier(bootstrap=False, max_depth=20, min_samples_leaf=3,\n",
       "                       min_samples_split=10)"
      ]
     },
     "execution_count": 75,
     "metadata": {},
     "output_type": "execute_result"
    }
   ],
   "source": [
    "#fix in the best parameters into random forest and build a new model\n",
    "\n",
    "rf2 = RandomForestClassifier(n_estimators=100, min_samples_split=10, min_samples_leaf=3, max_features='auto', max_depth=20, bootstrap=False)\n",
    "\n",
    "rf2.fit(X_train, y_train.values.ravel())"
   ]
  },
  {
   "cell_type": "code",
   "execution_count": 76,
   "metadata": {},
   "outputs": [],
   "source": [
    "y_pred2 = rf2.predict(X_test)"
   ]
  },
  {
   "cell_type": "code",
   "execution_count": 77,
   "metadata": {},
   "outputs": [
    {
     "name": "stdout",
     "output_type": "stream",
     "text": [
      "ACCURACY OF THE MODEL:  0.6215147665925691\n"
     ]
    }
   ],
   "source": [
    "print(\"ACCURACY OF THE MODEL: \", accuracy_score(y_test, y_pred2))"
   ]
  },
  {
   "cell_type": "code",
   "execution_count": 78,
   "metadata": {},
   "outputs": [
    {
     "name": "stdout",
     "output_type": "stream",
     "text": [
      "              precision    recall  f1-score   support\n",
      "\n",
      "           2       0.63      0.61      0.62     63262\n",
      "           3       0.62      0.63      0.63     62698\n",
      "\n",
      "    accuracy                           0.62    125960\n",
      "   macro avg       0.62      0.62      0.62    125960\n",
      "weighted avg       0.62      0.62      0.62    125960\n",
      "\n"
     ]
    }
   ],
   "source": [
    "#create a classification report\n",
    "print(classification_report(y_test, y_pred2))"
   ]
  },
  {
   "cell_type": "code",
   "execution_count": 79,
   "metadata": {},
   "outputs": [
    {
     "data": {
      "text/plain": [
       "array([[38474, 24788],\n",
       "       [22886, 39812]], dtype=int64)"
      ]
     },
     "execution_count": 79,
     "metadata": {},
     "output_type": "execute_result"
    }
   ],
   "source": [
    "# Create a confusion matrix using the confusion_matrix function\n",
    "from sklearn.metrics import confusion_matrix\n",
    "\n",
    "confusion_matrix(y_test, y_pred2)"
   ]
  },
  {
   "cell_type": "code",
   "execution_count": 80,
   "metadata": {},
   "outputs": [
    {
     "data": {
      "image/png": "[encoded data removed]",
      "text/plain": [
       "<Figure size 216x216 with 1 Axes>"
      ]
     },
     "metadata": {
      "needs_background": "light"
     },
     "output_type": "display_data"
    }
   ],
   "source": [
    "# Create a more visual confusion matrix\n",
    "import seaborn as sns\n",
    "\n",
    "def plot_conf_mat(y_test, y_pred2):\n",
    "    \"\"\"\n",
    "    Plots a confusion matrix using seaborn's heatmap()\n",
    "    \"\"\"\n",
    "    fix, ax = plt.subplots(figsize=(3, 3))\n",
    "    ax = sns.heatmap(confusion_matrix(y_test, y_pred2),\n",
    "                     annot=True,\n",
    "                     cbar=False)\n",
    "    plt.xlabel(\"Predicted label\")\n",
    "    plt.ylabel(\"True label\")\n",
    "    \n",
    "plot_conf_mat(y_test, y_pred2)"
   ]
  }
 ],
 "metadata": {
  "kernelspec": {
   "display_name": "Python 3 (ipykernel)",
   "language": "python",
   "name": "python3"
  },
  "language_info": {
   "codemirror_mode": {
    "name": "ipython",
    "version": 3
   },
   "file_extension": ".py",
   "mimetype": "text/x-python",
   "name": "python",
   "nbconvert_exporter": "python",
   "pygments_lexer": "ipython3",
   "version": "3.9.7"
  },
  "vscode": {
   "interpreter": {
    "hash": "c52f21c0e45e43aaae613551711b1456b3c8683bbdae05cd409751d45cdf7d30"
   }
  }
 },
 "nbformat": 4,
 "nbformat_minor": 2
}
