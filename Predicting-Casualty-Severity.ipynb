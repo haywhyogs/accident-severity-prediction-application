{
 "cells": [
  {
   "cell_type": "code",
   "execution_count": 1,
   "id": "5c4d1bfc",
   "metadata": {},
   "outputs": [],
   "source": [
    "#import necessary libraries\n",
    "import pandas as pd\n",
    "import numpy as np\n",
    "import matplotlib.pyplot as plt\n",
    "import seaborn as sns\n",
    "%matplotlib inline"
   ]
  },
  {
   "cell_type": "code",
   "execution_count": 2,
   "id": "77b36087",
   "metadata": {},
   "outputs": [
    {
     "data": {
      "text/html": [
       "<div>\n",
       "<style scoped>\n",
       "    .dataframe tbody tr th:only-of-type {\n",
       "        vertical-align: middle;\n",
       "    }\n",
       "\n",
       "    .dataframe tbody tr th {\n",
       "        vertical-align: top;\n",
       "    }\n",
       "\n",
       "    .dataframe thead th {\n",
       "        text-align: right;\n",
       "    }\n",
       "</style>\n",
       "<table border=\"1\" class=\"dataframe\">\n",
       "  <thead>\n",
       "    <tr style=\"text-align: right;\">\n",
       "      <th></th>\n",
       "      <th>Unnamed: 0</th>\n",
       "      <th>accident_index</th>\n",
       "      <th>accident_year</th>\n",
       "      <th>accident_reference</th>\n",
       "      <th>vehicle_reference</th>\n",
       "      <th>casualty_reference</th>\n",
       "      <th>casualty_class</th>\n",
       "      <th>sex_of_casualty</th>\n",
       "      <th>age_of_casualty</th>\n",
       "      <th>age_band_of_casualty</th>\n",
       "      <th>casualty_severity</th>\n",
       "      <th>pedestrian_location</th>\n",
       "      <th>pedestrian_movement</th>\n",
       "      <th>car_passenger</th>\n",
       "      <th>bus_or_coach_passenger</th>\n",
       "      <th>pedestrian_road_maintenance_worker</th>\n",
       "      <th>casualty_type</th>\n",
       "      <th>casualty_home_area_type</th>\n",
       "      <th>casualty_imd_decile</th>\n",
       "      <th>lsoa_of_casualty</th>\n",
       "    </tr>\n",
       "  </thead>\n",
       "  <tbody>\n",
       "    <tr>\n",
       "      <th>0</th>\n",
       "      <td>9494939</td>\n",
       "      <td>201001BS70003</td>\n",
       "      <td>2010</td>\n",
       "      <td>01BS70003</td>\n",
       "      <td>2</td>\n",
       "      <td>1</td>\n",
       "      <td>1</td>\n",
       "      <td>1</td>\n",
       "      <td>26</td>\n",
       "      <td>6</td>\n",
       "      <td>3</td>\n",
       "      <td>0</td>\n",
       "      <td>0</td>\n",
       "      <td>0</td>\n",
       "      <td>0</td>\n",
       "      <td>0</td>\n",
       "      <td>1</td>\n",
       "      <td>1</td>\n",
       "      <td>-1</td>\n",
       "      <td>E01002911</td>\n",
       "    </tr>\n",
       "    <tr>\n",
       "      <th>1</th>\n",
       "      <td>9494940</td>\n",
       "      <td>201001BS70004</td>\n",
       "      <td>2010</td>\n",
       "      <td>01BS70004</td>\n",
       "      <td>1</td>\n",
       "      <td>1</td>\n",
       "      <td>3</td>\n",
       "      <td>1</td>\n",
       "      <td>49</td>\n",
       "      <td>8</td>\n",
       "      <td>3</td>\n",
       "      <td>4</td>\n",
       "      <td>3</td>\n",
       "      <td>0</td>\n",
       "      <td>0</td>\n",
       "      <td>2</td>\n",
       "      <td>0</td>\n",
       "      <td>1</td>\n",
       "      <td>-1</td>\n",
       "      <td>E01002884</td>\n",
       "    </tr>\n",
       "    <tr>\n",
       "      <th>2</th>\n",
       "      <td>9494941</td>\n",
       "      <td>201001BS70006</td>\n",
       "      <td>2010</td>\n",
       "      <td>01BS70006</td>\n",
       "      <td>2</td>\n",
       "      <td>1</td>\n",
       "      <td>1</td>\n",
       "      <td>1</td>\n",
       "      <td>33</td>\n",
       "      <td>6</td>\n",
       "      <td>3</td>\n",
       "      <td>0</td>\n",
       "      <td>0</td>\n",
       "      <td>0</td>\n",
       "      <td>0</td>\n",
       "      <td>0</td>\n",
       "      <td>1</td>\n",
       "      <td>1</td>\n",
       "      <td>-1</td>\n",
       "      <td>E01001374</td>\n",
       "    </tr>\n",
       "    <tr>\n",
       "      <th>3</th>\n",
       "      <td>9494942</td>\n",
       "      <td>201001BS70007</td>\n",
       "      <td>2010</td>\n",
       "      <td>01BS70007</td>\n",
       "      <td>1</td>\n",
       "      <td>1</td>\n",
       "      <td>2</td>\n",
       "      <td>1</td>\n",
       "      <td>-1</td>\n",
       "      <td>-1</td>\n",
       "      <td>3</td>\n",
       "      <td>0</td>\n",
       "      <td>0</td>\n",
       "      <td>1</td>\n",
       "      <td>0</td>\n",
       "      <td>0</td>\n",
       "      <td>9</td>\n",
       "      <td>1</td>\n",
       "      <td>-1</td>\n",
       "      <td>E01002829</td>\n",
       "    </tr>\n",
       "    <tr>\n",
       "      <th>4</th>\n",
       "      <td>9494943</td>\n",
       "      <td>201001BS70008</td>\n",
       "      <td>2010</td>\n",
       "      <td>01BS70008</td>\n",
       "      <td>2</td>\n",
       "      <td>1</td>\n",
       "      <td>2</td>\n",
       "      <td>1</td>\n",
       "      <td>28</td>\n",
       "      <td>6</td>\n",
       "      <td>3</td>\n",
       "      <td>0</td>\n",
       "      <td>0</td>\n",
       "      <td>0</td>\n",
       "      <td>0</td>\n",
       "      <td>0</td>\n",
       "      <td>5</td>\n",
       "      <td>1</td>\n",
       "      <td>-1</td>\n",
       "      <td>E01001934</td>\n",
       "    </tr>\n",
       "  </tbody>\n",
       "</table>\n",
       "</div>"
      ],
      "text/plain": [
       "   Unnamed: 0 accident_index  accident_year accident_reference  \\\n",
       "0     9494939  201001BS70003           2010          01BS70003   \n",
       "1     9494940  201001BS70004           2010          01BS70004   \n",
       "2     9494941  201001BS70006           2010          01BS70006   \n",
       "3     9494942  201001BS70007           2010          01BS70007   \n",
       "4     9494943  201001BS70008           2010          01BS70008   \n",
       "\n",
       "   vehicle_reference  casualty_reference  casualty_class  sex_of_casualty  \\\n",
       "0                  2                   1               1                1   \n",
       "1                  1                   1               3                1   \n",
       "2                  2                   1               1                1   \n",
       "3                  1                   1               2                1   \n",
       "4                  2                   1               2                1   \n",
       "\n",
       "   age_of_casualty  age_band_of_casualty  casualty_severity  \\\n",
       "0               26                     6                  3   \n",
       "1               49                     8                  3   \n",
       "2               33                     6                  3   \n",
       "3               -1                    -1                  3   \n",
       "4               28                     6                  3   \n",
       "\n",
       "   pedestrian_location  pedestrian_movement  car_passenger  \\\n",
       "0                    0                    0              0   \n",
       "1                    4                    3              0   \n",
       "2                    0                    0              0   \n",
       "3                    0                    0              1   \n",
       "4                    0                    0              0   \n",
       "\n",
       "   bus_or_coach_passenger  pedestrian_road_maintenance_worker  casualty_type  \\\n",
       "0                       0                                   0              1   \n",
       "1                       0                                   2              0   \n",
       "2                       0                                   0              1   \n",
       "3                       0                                   0              9   \n",
       "4                       0                                   0              5   \n",
       "\n",
       "   casualty_home_area_type  casualty_imd_decile lsoa_of_casualty  \n",
       "0                        1                   -1        E01002911  \n",
       "1                        1                   -1        E01002884  \n",
       "2                        1                   -1        E01001374  \n",
       "3                        1                   -1        E01002829  \n",
       "4                        1                   -1        E01001934  "
      ]
     },
     "execution_count": 2,
     "metadata": {},
     "output_type": "execute_result"
    }
   ],
   "source": [
    "#read casualty data using pandas\n",
    "dfc = pd.read_csv('dft-road-casualty-statistics-casualty-2010-2021.csv', low_memory=False)\n",
    "dfc.head()"
   ]
  },
  {
   "cell_type": "markdown",
   "id": "0d7339b4",
   "metadata": {},
   "source": [
    "## Data Wrangling\n",
    "\n",
    "Check the properties"
   ]
  },
  {
   "cell_type": "code",
   "execution_count": 3,
   "id": "4ca51644",
   "metadata": {},
   "outputs": [
    {
     "data": {
      "text/plain": [
       "(2082582, 20)"
      ]
     },
     "execution_count": 3,
     "metadata": {},
     "output_type": "execute_result"
    }
   ],
   "source": [
    "dfc.shape"
   ]
  },
  {
   "cell_type": "code",
   "execution_count": 4,
   "id": "798cd44e",
   "metadata": {},
   "outputs": [
    {
     "name": "stdout",
     "output_type": "stream",
     "text": [
      "<class 'pandas.core.frame.DataFrame'>\n",
      "RangeIndex: 2082582 entries, 0 to 2082581\n",
      "Data columns (total 20 columns):\n",
      " #   Column                              Dtype \n",
      "---  ------                              ----- \n",
      " 0   Unnamed: 0                          int64 \n",
      " 1   accident_index                      object\n",
      " 2   accident_year                       int64 \n",
      " 3   accident_reference                  object\n",
      " 4   vehicle_reference                   int64 \n",
      " 5   casualty_reference                  int64 \n",
      " 6   casualty_class                      int64 \n",
      " 7   sex_of_casualty                     int64 \n",
      " 8   age_of_casualty                     int64 \n",
      " 9   age_band_of_casualty                int64 \n",
      " 10  casualty_severity                   int64 \n",
      " 11  pedestrian_location                 int64 \n",
      " 12  pedestrian_movement                 int64 \n",
      " 13  car_passenger                       int64 \n",
      " 14  bus_or_coach_passenger              int64 \n",
      " 15  pedestrian_road_maintenance_worker  int64 \n",
      " 16  casualty_type                       int64 \n",
      " 17  casualty_home_area_type             int64 \n",
      " 18  casualty_imd_decile                 int64 \n",
      " 19  lsoa_of_casualty                    object\n",
      "dtypes: int64(17), object(3)\n",
      "memory usage: 317.8+ MB\n"
     ]
    }
   ],
   "source": [
    "dfc.info()"
   ]
  },
  {
   "cell_type": "code",
   "execution_count": 5,
   "id": "d06c389c",
   "metadata": {},
   "outputs": [
    {
     "data": {
      "text/html": [
       "<div>\n",
       "<style scoped>\n",
       "    .dataframe tbody tr th:only-of-type {\n",
       "        vertical-align: middle;\n",
       "    }\n",
       "\n",
       "    .dataframe tbody tr th {\n",
       "        vertical-align: top;\n",
       "    }\n",
       "\n",
       "    .dataframe thead th {\n",
       "        text-align: right;\n",
       "    }\n",
       "</style>\n",
       "<table border=\"1\" class=\"dataframe\">\n",
       "  <thead>\n",
       "    <tr style=\"text-align: right;\">\n",
       "      <th></th>\n",
       "      <th>Unnamed: 0</th>\n",
       "      <th>accident_year</th>\n",
       "      <th>vehicle_reference</th>\n",
       "      <th>casualty_reference</th>\n",
       "      <th>casualty_class</th>\n",
       "      <th>sex_of_casualty</th>\n",
       "      <th>age_of_casualty</th>\n",
       "      <th>age_band_of_casualty</th>\n",
       "      <th>casualty_severity</th>\n",
       "      <th>pedestrian_location</th>\n",
       "      <th>pedestrian_movement</th>\n",
       "      <th>car_passenger</th>\n",
       "      <th>bus_or_coach_passenger</th>\n",
       "      <th>pedestrian_road_maintenance_worker</th>\n",
       "      <th>casualty_type</th>\n",
       "      <th>casualty_home_area_type</th>\n",
       "      <th>casualty_imd_decile</th>\n",
       "    </tr>\n",
       "  </thead>\n",
       "  <tbody>\n",
       "    <tr>\n",
       "      <th>count</th>\n",
       "      <td>2.082582e+06</td>\n",
       "      <td>2.082582e+06</td>\n",
       "      <td>2.082582e+06</td>\n",
       "      <td>2.082582e+06</td>\n",
       "      <td>2.082582e+06</td>\n",
       "      <td>2.082582e+06</td>\n",
       "      <td>2.082582e+06</td>\n",
       "      <td>2.082582e+06</td>\n",
       "      <td>2.082582e+06</td>\n",
       "      <td>2.082582e+06</td>\n",
       "      <td>2.082582e+06</td>\n",
       "      <td>2.082582e+06</td>\n",
       "      <td>2.082582e+06</td>\n",
       "      <td>2.082582e+06</td>\n",
       "      <td>2.082582e+06</td>\n",
       "      <td>2.082582e+06</td>\n",
       "      <td>2.082582e+06</td>\n",
       "    </tr>\n",
       "    <tr>\n",
       "      <th>mean</th>\n",
       "      <td>1.053623e+07</td>\n",
       "      <td>2.014979e+03</td>\n",
       "      <td>1.484319e+00</td>\n",
       "      <td>1.410671e+00</td>\n",
       "      <td>1.485119e+00</td>\n",
       "      <td>1.403051e+00</td>\n",
       "      <td>3.596976e+01</td>\n",
       "      <td>6.224207e+00</td>\n",
       "      <td>2.846566e+00</td>\n",
       "      <td>6.990135e-01</td>\n",
       "      <td>5.239208e-01</td>\n",
       "      <td>2.593579e-01</td>\n",
       "      <td>7.821781e-02</td>\n",
       "      <td>6.211184e-02</td>\n",
       "      <td>7.334604e+00</td>\n",
       "      <td>1.039393e+00</td>\n",
       "      <td>1.290521e+00</td>\n",
       "    </tr>\n",
       "    <tr>\n",
       "      <th>std</th>\n",
       "      <td>6.011898e+05</td>\n",
       "      <td>3.354569e+00</td>\n",
       "      <td>1.191239e+00</td>\n",
       "      <td>1.944591e+00</td>\n",
       "      <td>7.155521e-01</td>\n",
       "      <td>4.991050e-01</td>\n",
       "      <td>1.918886e+01</td>\n",
       "      <td>2.400743e+00</td>\n",
       "      <td>3.872039e-01</td>\n",
       "      <td>2.017798e+00</td>\n",
       "      <td>1.770948e+00</td>\n",
       "      <td>6.024195e-01</td>\n",
       "      <td>5.308431e-01</td>\n",
       "      <td>3.482715e-01</td>\n",
       "      <td>8.027525e+00</td>\n",
       "      <td>9.687978e-01</td>\n",
       "      <td>3.382715e+00</td>\n",
       "    </tr>\n",
       "    <tr>\n",
       "      <th>min</th>\n",
       "      <td>9.494939e+06</td>\n",
       "      <td>2.010000e+03</td>\n",
       "      <td>1.000000e+00</td>\n",
       "      <td>1.000000e+00</td>\n",
       "      <td>1.000000e+00</td>\n",
       "      <td>-1.000000e+00</td>\n",
       "      <td>-1.000000e+00</td>\n",
       "      <td>-1.000000e+00</td>\n",
       "      <td>1.000000e+00</td>\n",
       "      <td>-1.000000e+00</td>\n",
       "      <td>-1.000000e+00</td>\n",
       "      <td>-1.000000e+00</td>\n",
       "      <td>-1.000000e+00</td>\n",
       "      <td>-1.000000e+00</td>\n",
       "      <td>-1.000000e+00</td>\n",
       "      <td>-1.000000e+00</td>\n",
       "      <td>-1.000000e+00</td>\n",
       "    </tr>\n",
       "    <tr>\n",
       "      <th>25%</th>\n",
       "      <td>1.001558e+07</td>\n",
       "      <td>2.012000e+03</td>\n",
       "      <td>1.000000e+00</td>\n",
       "      <td>1.000000e+00</td>\n",
       "      <td>1.000000e+00</td>\n",
       "      <td>1.000000e+00</td>\n",
       "      <td>2.200000e+01</td>\n",
       "      <td>5.000000e+00</td>\n",
       "      <td>3.000000e+00</td>\n",
       "      <td>0.000000e+00</td>\n",
       "      <td>0.000000e+00</td>\n",
       "      <td>0.000000e+00</td>\n",
       "      <td>0.000000e+00</td>\n",
       "      <td>0.000000e+00</td>\n",
       "      <td>3.000000e+00</td>\n",
       "      <td>1.000000e+00</td>\n",
       "      <td>-1.000000e+00</td>\n",
       "    </tr>\n",
       "    <tr>\n",
       "      <th>50%</th>\n",
       "      <td>1.053623e+07</td>\n",
       "      <td>2.015000e+03</td>\n",
       "      <td>1.000000e+00</td>\n",
       "      <td>1.000000e+00</td>\n",
       "      <td>1.000000e+00</td>\n",
       "      <td>1.000000e+00</td>\n",
       "      <td>3.300000e+01</td>\n",
       "      <td>6.000000e+00</td>\n",
       "      <td>3.000000e+00</td>\n",
       "      <td>0.000000e+00</td>\n",
       "      <td>0.000000e+00</td>\n",
       "      <td>0.000000e+00</td>\n",
       "      <td>0.000000e+00</td>\n",
       "      <td>0.000000e+00</td>\n",
       "      <td>9.000000e+00</td>\n",
       "      <td>1.000000e+00</td>\n",
       "      <td>-1.000000e+00</td>\n",
       "    </tr>\n",
       "    <tr>\n",
       "      <th>75%</th>\n",
       "      <td>1.105687e+07</td>\n",
       "      <td>2.018000e+03</td>\n",
       "      <td>2.000000e+00</td>\n",
       "      <td>1.000000e+00</td>\n",
       "      <td>2.000000e+00</td>\n",
       "      <td>2.000000e+00</td>\n",
       "      <td>4.900000e+01</td>\n",
       "      <td>8.000000e+00</td>\n",
       "      <td>3.000000e+00</td>\n",
       "      <td>0.000000e+00</td>\n",
       "      <td>0.000000e+00</td>\n",
       "      <td>0.000000e+00</td>\n",
       "      <td>0.000000e+00</td>\n",
       "      <td>0.000000e+00</td>\n",
       "      <td>9.000000e+00</td>\n",
       "      <td>1.000000e+00</td>\n",
       "      <td>3.000000e+00</td>\n",
       "    </tr>\n",
       "    <tr>\n",
       "      <th>max</th>\n",
       "      <td>1.157752e+07</td>\n",
       "      <td>2.021000e+03</td>\n",
       "      <td>9.990000e+02</td>\n",
       "      <td>9.920000e+02</td>\n",
       "      <td>3.000000e+00</td>\n",
       "      <td>9.000000e+00</td>\n",
       "      <td>1.040000e+02</td>\n",
       "      <td>1.100000e+01</td>\n",
       "      <td>3.000000e+00</td>\n",
       "      <td>1.000000e+01</td>\n",
       "      <td>9.000000e+00</td>\n",
       "      <td>9.000000e+00</td>\n",
       "      <td>9.000000e+00</td>\n",
       "      <td>3.000000e+00</td>\n",
       "      <td>9.900000e+01</td>\n",
       "      <td>3.000000e+00</td>\n",
       "      <td>1.000000e+01</td>\n",
       "    </tr>\n",
       "  </tbody>\n",
       "</table>\n",
       "</div>"
      ],
      "text/plain": [
       "         Unnamed: 0  accident_year  vehicle_reference  casualty_reference  \\\n",
       "count  2.082582e+06   2.082582e+06       2.082582e+06        2.082582e+06   \n",
       "mean   1.053623e+07   2.014979e+03       1.484319e+00        1.410671e+00   \n",
       "std    6.011898e+05   3.354569e+00       1.191239e+00        1.944591e+00   \n",
       "min    9.494939e+06   2.010000e+03       1.000000e+00        1.000000e+00   \n",
       "25%    1.001558e+07   2.012000e+03       1.000000e+00        1.000000e+00   \n",
       "50%    1.053623e+07   2.015000e+03       1.000000e+00        1.000000e+00   \n",
       "75%    1.105687e+07   2.018000e+03       2.000000e+00        1.000000e+00   \n",
       "max    1.157752e+07   2.021000e+03       9.990000e+02        9.920000e+02   \n",
       "\n",
       "       casualty_class  sex_of_casualty  age_of_casualty  age_band_of_casualty  \\\n",
       "count    2.082582e+06     2.082582e+06     2.082582e+06          2.082582e+06   \n",
       "mean     1.485119e+00     1.403051e+00     3.596976e+01          6.224207e+00   \n",
       "std      7.155521e-01     4.991050e-01     1.918886e+01          2.400743e+00   \n",
       "min      1.000000e+00    -1.000000e+00    -1.000000e+00         -1.000000e+00   \n",
       "25%      1.000000e+00     1.000000e+00     2.200000e+01          5.000000e+00   \n",
       "50%      1.000000e+00     1.000000e+00     3.300000e+01          6.000000e+00   \n",
       "75%      2.000000e+00     2.000000e+00     4.900000e+01          8.000000e+00   \n",
       "max      3.000000e+00     9.000000e+00     1.040000e+02          1.100000e+01   \n",
       "\n",
       "       casualty_severity  pedestrian_location  pedestrian_movement  \\\n",
       "count       2.082582e+06         2.082582e+06         2.082582e+06   \n",
       "mean        2.846566e+00         6.990135e-01         5.239208e-01   \n",
       "std         3.872039e-01         2.017798e+00         1.770948e+00   \n",
       "min         1.000000e+00        -1.000000e+00        -1.000000e+00   \n",
       "25%         3.000000e+00         0.000000e+00         0.000000e+00   \n",
       "50%         3.000000e+00         0.000000e+00         0.000000e+00   \n",
       "75%         3.000000e+00         0.000000e+00         0.000000e+00   \n",
       "max         3.000000e+00         1.000000e+01         9.000000e+00   \n",
       "\n",
       "       car_passenger  bus_or_coach_passenger  \\\n",
       "count   2.082582e+06            2.082582e+06   \n",
       "mean    2.593579e-01            7.821781e-02   \n",
       "std     6.024195e-01            5.308431e-01   \n",
       "min    -1.000000e+00           -1.000000e+00   \n",
       "25%     0.000000e+00            0.000000e+00   \n",
       "50%     0.000000e+00            0.000000e+00   \n",
       "75%     0.000000e+00            0.000000e+00   \n",
       "max     9.000000e+00            9.000000e+00   \n",
       "\n",
       "       pedestrian_road_maintenance_worker  casualty_type  \\\n",
       "count                        2.082582e+06   2.082582e+06   \n",
       "mean                         6.211184e-02   7.334604e+00   \n",
       "std                          3.482715e-01   8.027525e+00   \n",
       "min                         -1.000000e+00  -1.000000e+00   \n",
       "25%                          0.000000e+00   3.000000e+00   \n",
       "50%                          0.000000e+00   9.000000e+00   \n",
       "75%                          0.000000e+00   9.000000e+00   \n",
       "max                          3.000000e+00   9.900000e+01   \n",
       "\n",
       "       casualty_home_area_type  casualty_imd_decile  \n",
       "count             2.082582e+06         2.082582e+06  \n",
       "mean              1.039393e+00         1.290521e+00  \n",
       "std               9.687978e-01         3.382715e+00  \n",
       "min              -1.000000e+00        -1.000000e+00  \n",
       "25%               1.000000e+00        -1.000000e+00  \n",
       "50%               1.000000e+00        -1.000000e+00  \n",
       "75%               1.000000e+00         3.000000e+00  \n",
       "max               3.000000e+00         1.000000e+01  "
      ]
     },
     "execution_count": 5,
     "metadata": {},
     "output_type": "execute_result"
    }
   ],
   "source": [
    "dfc.describe()"
   ]
  },
  {
   "cell_type": "code",
   "execution_count": 6,
   "id": "89fd36c6",
   "metadata": {},
   "outputs": [
    {
     "data": {
      "text/plain": [
       "Unnamed: 0                             int64\n",
       "accident_index                        object\n",
       "accident_year                          int64\n",
       "accident_reference                    object\n",
       "vehicle_reference                      int64\n",
       "casualty_reference                     int64\n",
       "casualty_class                         int64\n",
       "sex_of_casualty                        int64\n",
       "age_of_casualty                        int64\n",
       "age_band_of_casualty                   int64\n",
       "casualty_severity                      int64\n",
       "pedestrian_location                    int64\n",
       "pedestrian_movement                    int64\n",
       "car_passenger                          int64\n",
       "bus_or_coach_passenger                 int64\n",
       "pedestrian_road_maintenance_worker     int64\n",
       "casualty_type                          int64\n",
       "casualty_home_area_type                int64\n",
       "casualty_imd_decile                    int64\n",
       "lsoa_of_casualty                      object\n",
       "dtype: object"
      ]
     },
     "execution_count": 6,
     "metadata": {},
     "output_type": "execute_result"
    }
   ],
   "source": [
    "dfc.dtypes"
   ]
  },
  {
   "cell_type": "code",
   "execution_count": 7,
   "id": "535286cd",
   "metadata": {},
   "outputs": [
    {
     "data": {
      "text/plain": [
       "0"
      ]
     },
     "execution_count": 7,
     "metadata": {},
     "output_type": "execute_result"
    }
   ],
   "source": [
    "dfc.duplicated().sum()"
   ]
  },
  {
   "cell_type": "code",
   "execution_count": 8,
   "id": "d323f21f",
   "metadata": {},
   "outputs": [
    {
     "data": {
      "text/plain": [
       "Unnamed: 0                            0\n",
       "accident_index                        0\n",
       "accident_year                         0\n",
       "accident_reference                    0\n",
       "vehicle_reference                     0\n",
       "casualty_reference                    0\n",
       "casualty_class                        0\n",
       "sex_of_casualty                       0\n",
       "age_of_casualty                       0\n",
       "age_band_of_casualty                  0\n",
       "casualty_severity                     0\n",
       "pedestrian_location                   0\n",
       "pedestrian_movement                   0\n",
       "car_passenger                         0\n",
       "bus_or_coach_passenger                0\n",
       "pedestrian_road_maintenance_worker    0\n",
       "casualty_type                         0\n",
       "casualty_home_area_type               0\n",
       "casualty_imd_decile                   0\n",
       "lsoa_of_casualty                      0\n",
       "dtype: int64"
      ]
     },
     "execution_count": 8,
     "metadata": {},
     "output_type": "execute_result"
    }
   ],
   "source": [
    "dfc.isna().sum()"
   ]
  },
  {
   "cell_type": "markdown",
   "id": "e3e76397",
   "metadata": {},
   "source": [
    "Brief summary of analysis done\n",
    "\n",
    "- There are 2082582 rows and 20 columns in this dataset\n",
    "- There are no duplicated and null values\n",
    "- Worng data types will be changed and columns not needed will be dropped\n",
    "\n",
    "\n",
    "#### Visualization"
   ]
  },
  {
   "cell_type": "code",
   "execution_count": 9,
   "id": "b9087657",
   "metadata": {},
   "outputs": [
    {
     "data": {
      "text/plain": [
       "1    1345346\n",
       "2     464172\n",
       "3     273064\n",
       "Name: casualty_class, dtype: int64"
      ]
     },
     "execution_count": 9,
     "metadata": {},
     "output_type": "execute_result"
    }
   ],
   "source": [
    "#check the value count of the values in casualty class and present in a plot\n",
    "dfc.casualty_class.value_counts()"
   ]
  },
  {
   "cell_type": "markdown",
   "id": "19555fc8",
   "metadata": {},
   "source": [
    "1 - Driver or Rider\n",
    "\n",
    "2 - Passenger\n",
    "\n",
    "3 - Pedestrian"
   ]
  },
  {
   "cell_type": "code",
   "execution_count": 10,
   "id": "9143b4ce",
   "metadata": {},
   "outputs": [
    {
     "data": {
      "image/png": "[encoded data removed]",
      "text/plain": [
       "<Figure size 576x576 with 1 Axes>"
      ]
     },
     "metadata": {
      "needs_background": "light"
     },
     "output_type": "display_data"
    }
   ],
   "source": [
    "\n",
    "dfc.casualty_class.value_counts().plot(kind='bar', figsize=(8,8))\n",
    "plt.xlabel('Casualty Class')\n",
    "plt.ylabel('Count')\n",
    "plt.title('Casualty Class Frequency');"
   ]
  },
  {
   "cell_type": "markdown",
   "id": "3476acb5",
   "metadata": {},
   "source": [
    "Casualties mostly happened to drivers/riders compared to passengers and pedestrians"
   ]
  },
  {
   "cell_type": "code",
   "execution_count": 11,
   "id": "f04e7a76",
   "metadata": {},
   "outputs": [
    {
     "data": {
      "text/plain": [
       " 1    1235180\n",
       " 2     844650\n",
       "-1       2728\n",
       " 9         24\n",
       "Name: sex_of_casualty, dtype: int64"
      ]
     },
     "execution_count": 11,
     "metadata": {},
     "output_type": "execute_result"
    }
   ],
   "source": [
    "#check the value count of the values in sex_of_casualty and present in a plot\n",
    "dfc.sex_of_casualty.value_counts()"
   ]
  },
  {
   "cell_type": "code",
   "execution_count": 12,
   "id": "aa0c7faa",
   "metadata": {},
   "outputs": [
    {
     "data": {
      "image/png": "[encoded data removed]",
      "text/plain": [
       "<Figure size 576x576 with 1 Axes>"
      ]
     },
     "metadata": {
      "needs_background": "light"
     },
     "output_type": "display_data"
    }
   ],
   "source": [
    "dfc.sex_of_casualty.value_counts().plot(kind='bar', figsize=(8,8))\n",
    "plt.xlabel('Sex')\n",
    "plt.ylabel('Count')\n",
    "plt.title('Frequency');"
   ]
  },
  {
   "cell_type": "markdown",
   "id": "8ad6cdc3",
   "metadata": {},
   "source": [
    "1 - Male\n",
    "\n",
    "2 - Female\n",
    "\n",
    "-1 - Missing Data\n",
    "\n",
    "9 - Unknown\n",
    "\n",
    "\n",
    "Majority of accidents happened to males compared to females\n",
    "\n",
    "Next, the similarity between casualty class and sex of driver will be looked at"
   ]
  },
  {
   "cell_type": "code",
   "execution_count": 13,
   "id": "ca0317e3",
   "metadata": {},
   "outputs": [
    {
     "data": {
      "image/png": "[encoded data removed]",
      "text/plain": [
       "<Figure size 1440x2160 with 1 Axes>"
      ]
     },
     "metadata": {
      "needs_background": "light"
     },
     "output_type": "display_data"
    }
   ],
   "source": [
    "#plot the relationship between casualty class and sex\n",
    "plt.figure(figsize = (20, 30))\n",
    "sns.countplot(data = dfc, x = 'casualty_class', hue = 'sex_of_casualty')\n",
    "plt.title('Relationship Between Casualty Class and Sex');"
   ]
  },
  {
   "cell_type": "markdown",
   "id": "764ac37f",
   "metadata": {},
   "source": [
    "For Drivers/Rider, a huge majority involved in car accidents were males compared to females\n",
    "\n",
    "For Passengers, more females compared to men were involved in casualties"
   ]
  },
  {
   "cell_type": "code",
   "execution_count": 14,
   "id": "71145f99",
   "metadata": {},
   "outputs": [
    {
     "data": {
      "text/plain": [
       " 6     416687\n",
       " 7     322666\n",
       " 8     278751\n",
       " 5     260063\n",
       " 4     243038\n",
       " 9     166867\n",
       " 10     95276\n",
       " 3      89195\n",
       " 11     78457\n",
       " 2      56935\n",
       " 1      38382\n",
       "-1      36265\n",
       "Name: age_band_of_casualty, dtype: int64"
      ]
     },
     "execution_count": 14,
     "metadata": {},
     "output_type": "execute_result"
    }
   ],
   "source": [
    "#check the value count of the values in age band and present in a plot\n",
    "dfc.age_band_of_casualty.value_counts()"
   ]
  },
  {
   "cell_type": "code",
   "execution_count": 15,
   "id": "d6b0392d",
   "metadata": {},
   "outputs": [
    {
     "data": {
      "image/png": "[encoded data removed]",
      "text/plain": [
       "<Figure size 576x576 with 1 Axes>"
      ]
     },
     "metadata": {
      "needs_background": "light"
     },
     "output_type": "display_data"
    }
   ],
   "source": [
    "dfc.age_band_of_casualty.value_counts().plot(kind='bar', figsize=(8,8))\n",
    "plt.xlabel('Age Band')\n",
    "plt.ylabel('Count')\n",
    "plt.title('Frequency');"
   ]
  },
  {
   "cell_type": "markdown",
   "id": "98164bb5",
   "metadata": {},
   "source": [
    "1 - 0 - 5\n",
    "\n",
    "2 - 6 - 10\n",
    "\n",
    "3 - 11 - 15\n",
    "\n",
    "4 - 16 - 20\n",
    "\n",
    "5 - 21 - 25\n",
    "\n",
    "6 - 26 - 35\n",
    "\n",
    "7 - 36 - 45\n",
    "\n",
    "8 - 46 - 55\n",
    "\n",
    "9 - 56 - 65\n",
    "\n",
    "10 - 66 - 75\n",
    "\n",
    "11 - Over 75\n",
    "\n",
    "-1 - Data missing or out of range\n",
    "\n",
    "\n",
    "\n",
    "\n",
    "Ages 26-35 got into the most casualties. The age group with the least casualties is 0-5"
   ]
  },
  {
   "cell_type": "code",
   "execution_count": 16,
   "id": "ec7f36ae",
   "metadata": {},
   "outputs": [
    {
     "data": {
      "text/plain": [
       "3    1783905\n",
       "2     277815\n",
       "1      20862\n",
       "Name: casualty_severity, dtype: int64"
      ]
     },
     "execution_count": 16,
     "metadata": {},
     "output_type": "execute_result"
    }
   ],
   "source": [
    "#check the value count of the values in age band and present in a plot\n",
    "dfc.casualty_severity.value_counts()"
   ]
  },
  {
   "cell_type": "code",
   "execution_count": 17,
   "id": "f27de2c2",
   "metadata": {},
   "outputs": [
    {
     "data": {
      "image/png": "[encoded data removed]",
      "text/plain": [
       "<Figure size 576x576 with 1 Axes>"
      ]
     },
     "metadata": {
      "needs_background": "light"
     },
     "output_type": "display_data"
    }
   ],
   "source": [
    "dfc.casualty_severity.value_counts().plot(kind='bar', figsize=(8,8))\n",
    "plt.xlabel('Casualty Severity')\n",
    "plt.ylabel('Count')\n",
    "plt.title('Frequency');"
   ]
  },
  {
   "cell_type": "markdown",
   "id": "df0283ee",
   "metadata": {},
   "source": [
    "1 - Fatal\n",
    "\n",
    "2 - Serious\n",
    "\n",
    "3 - Slight\n",
    "\n",
    "Majority of the casualties had slight severity"
   ]
  },
  {
   "cell_type": "code",
   "execution_count": 18,
   "id": "0288b053",
   "metadata": {},
   "outputs": [
    {
     "data": {
      "text/plain": [
       "Index(['Unnamed: 0', 'accident_index', 'accident_year', 'accident_reference',\n",
       "       'vehicle_reference', 'casualty_reference', 'casualty_class',\n",
       "       'sex_of_casualty', 'age_of_casualty', 'age_band_of_casualty',\n",
       "       'casualty_severity', 'pedestrian_location', 'pedestrian_movement',\n",
       "       'car_passenger', 'bus_or_coach_passenger',\n",
       "       'pedestrian_road_maintenance_worker', 'casualty_type',\n",
       "       'casualty_home_area_type', 'casualty_imd_decile', 'lsoa_of_casualty'],\n",
       "      dtype='object')"
      ]
     },
     "execution_count": 18,
     "metadata": {},
     "output_type": "execute_result"
    }
   ],
   "source": [
    "#drop columns that won't be needed\n",
    "dfc.columns"
   ]
  },
  {
   "cell_type": "code",
   "execution_count": 19,
   "id": "def872fa",
   "metadata": {},
   "outputs": [],
   "source": [
    "dfc.drop(['Unnamed: 0', 'accident_reference', 'vehicle_reference', 'casualty_reference', 'age_of_casualty', 'lsoa_of_casualty'], axis=1, inplace=True)"
   ]
  },
  {
   "cell_type": "code",
   "execution_count": 20,
   "id": "59c27f93",
   "metadata": {},
   "outputs": [
    {
     "data": {
      "text/plain": [
       "Index(['accident_index', 'accident_year', 'casualty_class', 'sex_of_casualty',\n",
       "       'age_band_of_casualty', 'casualty_severity', 'pedestrian_location',\n",
       "       'pedestrian_movement', 'car_passenger', 'bus_or_coach_passenger',\n",
       "       'pedestrian_road_maintenance_worker', 'casualty_type',\n",
       "       'casualty_home_area_type', 'casualty_imd_decile'],\n",
       "      dtype='object')"
      ]
     },
     "execution_count": 20,
     "metadata": {},
     "output_type": "execute_result"
    }
   ],
   "source": [
    "dfc.columns"
   ]
  },
  {
   "cell_type": "code",
   "execution_count": 21,
   "id": "d78d842d",
   "metadata": {},
   "outputs": [],
   "source": [
    "#convert columns to the right data type\n",
    "dfc['casualty_class'] = dfc['casualty_class'].astype('category')\n",
    "dfc['sex_of_casualty'] = dfc['sex_of_casualty'].astype('category')\n",
    "dfc['age_band_of_casualty'] = dfc['age_band_of_casualty'].astype('category')\n",
    "dfc['casualty_severity'] = dfc['casualty_severity'].astype('category')\n",
    "dfc['pedestrian_location'] = dfc['pedestrian_location'].astype('category')\n",
    "dfc['pedestrian_movement'] = dfc['pedestrian_movement'].astype('category')\n",
    "dfc['car_passenger'] = dfc['car_passenger'].astype('category')\n",
    "dfc['bus_or_coach_passenger'] = dfc['bus_or_coach_passenger'].astype('category')\n",
    "dfc['pedestrian_road_maintenance_worker'] = dfc['pedestrian_road_maintenance_worker'].astype('category')\n",
    "dfc['casualty_type'] = dfc['casualty_type'].astype('category')\n",
    "dfc['casualty_home_area_type'] = dfc['casualty_home_area_type'].astype('category')\n",
    "dfc['casualty_imd_decile'] = dfc['casualty_imd_decile'].astype('category')"
   ]
  },
  {
   "cell_type": "code",
   "execution_count": 22,
   "id": "03886661",
   "metadata": {
    "scrolled": true
   },
   "outputs": [
    {
     "data": {
      "text/plain": [
       "accident_index                          object\n",
       "accident_year                            int64\n",
       "casualty_class                        category\n",
       "sex_of_casualty                       category\n",
       "age_band_of_casualty                  category\n",
       "casualty_severity                     category\n",
       "pedestrian_location                   category\n",
       "pedestrian_movement                   category\n",
       "car_passenger                         category\n",
       "bus_or_coach_passenger                category\n",
       "pedestrian_road_maintenance_worker    category\n",
       "casualty_type                         category\n",
       "casualty_home_area_type               category\n",
       "casualty_imd_decile                   category\n",
       "dtype: object"
      ]
     },
     "execution_count": 22,
     "metadata": {},
     "output_type": "execute_result"
    }
   ],
   "source": [
    "dfc.dtypes"
   ]
  },
  {
   "cell_type": "code",
   "execution_count": 23,
   "id": "5d30c7e5",
   "metadata": {},
   "outputs": [],
   "source": [
    "dfc.to_csv('updated_casu_data.csv', index=False)"
   ]
  },
  {
   "cell_type": "markdown",
   "id": "af15af98",
   "metadata": {},
   "source": [
    "### Model Building"
   ]
  },
  {
   "cell_type": "code",
   "execution_count": 24,
   "id": "8919a00b",
   "metadata": {},
   "outputs": [],
   "source": [
    "from sklearn.model_selection import train_test_split\n",
    "from sklearn.linear_model import LogisticRegression\n",
    "from sklearn.metrics import accuracy_score\n",
    "from sklearn.metrics import classification_report\n",
    "from sklearn.tree import DecisionTreeClassifier\n",
    "from sklearn.ensemble import RandomForestClassifier\n",
    "from sklearn.svm import SVC, LinearSVC\n",
    "from sklearn.metrics import log_loss"
   ]
  },
  {
   "cell_type": "code",
   "execution_count": 25,
   "id": "efa68b1d",
   "metadata": {},
   "outputs": [],
   "source": [
    "features = dfc.drop(['casualty_severity', 'accident_year', 'accident_index'], axis=1)\n",
    "target = dfc[['casualty_severity']]"
   ]
  },
  {
   "cell_type": "code",
   "execution_count": 26,
   "id": "2f770d93",
   "metadata": {},
   "outputs": [
    {
     "data": {
      "text/plain": [
       "Index(['casualty_class', 'sex_of_casualty', 'age_band_of_casualty',\n",
       "       'pedestrian_location', 'pedestrian_movement', 'car_passenger',\n",
       "       'bus_or_coach_passenger', 'pedestrian_road_maintenance_worker',\n",
       "       'casualty_type', 'casualty_home_area_type', 'casualty_imd_decile'],\n",
       "      dtype='object')"
      ]
     },
     "execution_count": 26,
     "metadata": {},
     "output_type": "execute_result"
    }
   ],
   "source": [
    "features.columns"
   ]
  },
  {
   "cell_type": "code",
   "execution_count": 27,
   "id": "72fd32e9",
   "metadata": {},
   "outputs": [
    {
     "data": {
      "text/plain": [
       "(2082582, 11)"
      ]
     },
     "execution_count": 27,
     "metadata": {},
     "output_type": "execute_result"
    }
   ],
   "source": [
    "features.shape"
   ]
  },
  {
   "cell_type": "code",
   "execution_count": 28,
   "id": "dadc03f8",
   "metadata": {},
   "outputs": [
    {
     "data": {
      "text/plain": [
       "(2082582, 1)"
      ]
     },
     "execution_count": 28,
     "metadata": {},
     "output_type": "execute_result"
    }
   ],
   "source": [
    "target.shape"
   ]
  },
  {
   "cell_type": "code",
   "execution_count": 29,
   "id": "65ccc3be",
   "metadata": {},
   "outputs": [
    {
     "data": {
      "text/html": [
       "<div>\n",
       "<style scoped>\n",
       "    .dataframe tbody tr th:only-of-type {\n",
       "        vertical-align: middle;\n",
       "    }\n",
       "\n",
       "    .dataframe tbody tr th {\n",
       "        vertical-align: top;\n",
       "    }\n",
       "\n",
       "    .dataframe thead th {\n",
       "        text-align: right;\n",
       "    }\n",
       "</style>\n",
       "<table border=\"1\" class=\"dataframe\">\n",
       "  <thead>\n",
       "    <tr style=\"text-align: right;\">\n",
       "      <th></th>\n",
       "      <th>casualty_severity</th>\n",
       "    </tr>\n",
       "  </thead>\n",
       "  <tbody>\n",
       "    <tr>\n",
       "      <th>0</th>\n",
       "      <td>3</td>\n",
       "    </tr>\n",
       "    <tr>\n",
       "      <th>1</th>\n",
       "      <td>3</td>\n",
       "    </tr>\n",
       "    <tr>\n",
       "      <th>2</th>\n",
       "      <td>3</td>\n",
       "    </tr>\n",
       "    <tr>\n",
       "      <th>3</th>\n",
       "      <td>3</td>\n",
       "    </tr>\n",
       "    <tr>\n",
       "      <th>4</th>\n",
       "      <td>3</td>\n",
       "    </tr>\n",
       "  </tbody>\n",
       "</table>\n",
       "</div>"
      ],
      "text/plain": [
       "  casualty_severity\n",
       "0                 3\n",
       "1                 3\n",
       "2                 3\n",
       "3                 3\n",
       "4                 3"
      ]
     },
     "execution_count": 29,
     "metadata": {},
     "output_type": "execute_result"
    }
   ],
   "source": [
    "target.head()"
   ]
  },
  {
   "cell_type": "code",
   "execution_count": 30,
   "id": "92f93369",
   "metadata": {},
   "outputs": [
    {
     "data": {
      "text/plain": [
       "casualty_severity\n",
       "3                    1783905\n",
       "2                     277815\n",
       "1                      20862\n",
       "dtype: int64"
      ]
     },
     "execution_count": 30,
     "metadata": {},
     "output_type": "execute_result"
    }
   ],
   "source": [
    "target.value_counts()"
   ]
  },
  {
   "cell_type": "markdown",
   "id": "5eacfbc6",
   "metadata": {},
   "source": [
    "From the value count of the target variable, there is an imbalance in the data.\n",
    "\n",
    "Therefore, it will be downsized."
   ]
  },
  {
   "cell_type": "code",
   "execution_count": 31,
   "id": "709fb292",
   "metadata": {},
   "outputs": [
    {
     "data": {
      "text/html": [
       "<div>\n",
       "<style scoped>\n",
       "    .dataframe tbody tr th:only-of-type {\n",
       "        vertical-align: middle;\n",
       "    }\n",
       "\n",
       "    .dataframe tbody tr th {\n",
       "        vertical-align: top;\n",
       "    }\n",
       "\n",
       "    .dataframe thead th {\n",
       "        text-align: right;\n",
       "    }\n",
       "</style>\n",
       "<table border=\"1\" class=\"dataframe\">\n",
       "  <thead>\n",
       "    <tr style=\"text-align: right;\">\n",
       "      <th></th>\n",
       "      <th>accident_index</th>\n",
       "      <th>accident_year</th>\n",
       "      <th>casualty_class</th>\n",
       "      <th>sex_of_casualty</th>\n",
       "      <th>age_band_of_casualty</th>\n",
       "      <th>casualty_severity</th>\n",
       "      <th>pedestrian_location</th>\n",
       "      <th>pedestrian_movement</th>\n",
       "      <th>car_passenger</th>\n",
       "      <th>bus_or_coach_passenger</th>\n",
       "      <th>pedestrian_road_maintenance_worker</th>\n",
       "      <th>casualty_type</th>\n",
       "      <th>casualty_home_area_type</th>\n",
       "      <th>casualty_imd_decile</th>\n",
       "    </tr>\n",
       "  </thead>\n",
       "  <tbody>\n",
       "    <tr>\n",
       "      <th>0</th>\n",
       "      <td>2017140253345</td>\n",
       "      <td>2017</td>\n",
       "      <td>3</td>\n",
       "      <td>2</td>\n",
       "      <td>11</td>\n",
       "      <td>1</td>\n",
       "      <td>5</td>\n",
       "      <td>9</td>\n",
       "      <td>0</td>\n",
       "      <td>0</td>\n",
       "      <td>0</td>\n",
       "      <td>0</td>\n",
       "      <td>-1</td>\n",
       "      <td>-1</td>\n",
       "    </tr>\n",
       "    <tr>\n",
       "      <th>1</th>\n",
       "      <td>2011130177960</td>\n",
       "      <td>2011</td>\n",
       "      <td>1</td>\n",
       "      <td>1</td>\n",
       "      <td>6</td>\n",
       "      <td>1</td>\n",
       "      <td>0</td>\n",
       "      <td>0</td>\n",
       "      <td>0</td>\n",
       "      <td>0</td>\n",
       "      <td>0</td>\n",
       "      <td>5</td>\n",
       "      <td>1</td>\n",
       "      <td>-1</td>\n",
       "    </tr>\n",
       "    <tr>\n",
       "      <th>2</th>\n",
       "      <td>2010350089910</td>\n",
       "      <td>2010</td>\n",
       "      <td>1</td>\n",
       "      <td>2</td>\n",
       "      <td>9</td>\n",
       "      <td>1</td>\n",
       "      <td>0</td>\n",
       "      <td>0</td>\n",
       "      <td>0</td>\n",
       "      <td>0</td>\n",
       "      <td>0</td>\n",
       "      <td>9</td>\n",
       "      <td>-1</td>\n",
       "      <td>-1</td>\n",
       "    </tr>\n",
       "    <tr>\n",
       "      <th>3</th>\n",
       "      <td>2020991006537</td>\n",
       "      <td>2020</td>\n",
       "      <td>1</td>\n",
       "      <td>1</td>\n",
       "      <td>4</td>\n",
       "      <td>1</td>\n",
       "      <td>0</td>\n",
       "      <td>0</td>\n",
       "      <td>0</td>\n",
       "      <td>0</td>\n",
       "      <td>0</td>\n",
       "      <td>9</td>\n",
       "      <td>3</td>\n",
       "      <td>6</td>\n",
       "    </tr>\n",
       "    <tr>\n",
       "      <th>4</th>\n",
       "      <td>201045TA48109</td>\n",
       "      <td>2010</td>\n",
       "      <td>1</td>\n",
       "      <td>1</td>\n",
       "      <td>7</td>\n",
       "      <td>1</td>\n",
       "      <td>0</td>\n",
       "      <td>0</td>\n",
       "      <td>0</td>\n",
       "      <td>0</td>\n",
       "      <td>0</td>\n",
       "      <td>9</td>\n",
       "      <td>-1</td>\n",
       "      <td>-1</td>\n",
       "    </tr>\n",
       "  </tbody>\n",
       "</table>\n",
       "</div>"
      ],
      "text/plain": [
       "  accident_index  accident_year casualty_class sex_of_casualty  \\\n",
       "0  2017140253345           2017              3               2   \n",
       "1  2011130177960           2011              1               1   \n",
       "2  2010350089910           2010              1               2   \n",
       "3  2020991006537           2020              1               1   \n",
       "4  201045TA48109           2010              1               1   \n",
       "\n",
       "  age_band_of_casualty casualty_severity pedestrian_location  \\\n",
       "0                   11                 1                   5   \n",
       "1                    6                 1                   0   \n",
       "2                    9                 1                   0   \n",
       "3                    4                 1                   0   \n",
       "4                    7                 1                   0   \n",
       "\n",
       "  pedestrian_movement car_passenger bus_or_coach_passenger  \\\n",
       "0                   9             0                      0   \n",
       "1                   0             0                      0   \n",
       "2                   0             0                      0   \n",
       "3                   0             0                      0   \n",
       "4                   0             0                      0   \n",
       "\n",
       "  pedestrian_road_maintenance_worker casualty_type casualty_home_area_type  \\\n",
       "0                                  0             0                      -1   \n",
       "1                                  0             5                       1   \n",
       "2                                  0             9                      -1   \n",
       "3                                  0             9                       3   \n",
       "4                                  0             9                      -1   \n",
       "\n",
       "  casualty_imd_decile  \n",
       "0                  -1  \n",
       "1                  -1  \n",
       "2                  -1  \n",
       "3                   6  \n",
       "4                  -1  "
      ]
     },
     "execution_count": 31,
     "metadata": {},
     "output_type": "execute_result"
    }
   ],
   "source": [
    "#downsize the causalty severity\n",
    "import numpy as np\n",
    "label = 'casualty_severity'\n",
    "\n",
    "g = dfc.groupby(label, group_keys=False)\n",
    "balanced_df = pd.DataFrame(g.apply(lambda x: x.sample(g.size().min()))).reset_index(drop=True)\n",
    "balanced_df.head()"
   ]
  },
  {
   "cell_type": "code",
   "execution_count": 32,
   "id": "754d3210",
   "metadata": {},
   "outputs": [
    {
     "data": {
      "text/plain": [
       "1    20862\n",
       "2    20862\n",
       "3    20862\n",
       "Name: casualty_severity, dtype: int64"
      ]
     },
     "execution_count": 32,
     "metadata": {},
     "output_type": "execute_result"
    }
   ],
   "source": [
    "balanced_df.casualty_severity.value_counts()"
   ]
  },
  {
   "cell_type": "code",
   "execution_count": 33,
   "id": "53048305",
   "metadata": {},
   "outputs": [
    {
     "data": {
      "text/plain": [
       "(62586, 14)"
      ]
     },
     "execution_count": 33,
     "metadata": {},
     "output_type": "execute_result"
    }
   ],
   "source": [
    "balanced_df.shape"
   ]
  },
  {
   "cell_type": "code",
   "execution_count": 34,
   "id": "066eba35",
   "metadata": {},
   "outputs": [],
   "source": [
    "#replit the data\n",
    "features = balanced_df.drop(['casualty_severity', 'accident_year', 'accident_index'], axis=1)\n",
    "target = balanced_df[['casualty_severity']]"
   ]
  },
  {
   "cell_type": "code",
   "execution_count": 35,
   "id": "ff2098ce",
   "metadata": {},
   "outputs": [
    {
     "data": {
      "text/plain": [
       "(62586, 11)"
      ]
     },
     "execution_count": 35,
     "metadata": {},
     "output_type": "execute_result"
    }
   ],
   "source": [
    "features.shape"
   ]
  },
  {
   "cell_type": "code",
   "execution_count": 36,
   "id": "9306caa4",
   "metadata": {},
   "outputs": [
    {
     "data": {
      "text/plain": [
       "(62586, 1)"
      ]
     },
     "execution_count": 36,
     "metadata": {},
     "output_type": "execute_result"
    }
   ],
   "source": [
    "target.shape"
   ]
  },
  {
   "cell_type": "code",
   "execution_count": 37,
   "id": "ec5ef4e3",
   "metadata": {},
   "outputs": [],
   "source": [
    "x_train, x_test, y_train, y_test = train_test_split(features,target, train_size=0.7, test_size=0.3, shuffle=True, stratify=target, random_state=42)\n"
   ]
  },
  {
   "cell_type": "code",
   "execution_count": 38,
   "id": "c006dec6",
   "metadata": {},
   "outputs": [
    {
     "data": {
      "text/plain": [
       "(43810, 11)"
      ]
     },
     "execution_count": 38,
     "metadata": {},
     "output_type": "execute_result"
    }
   ],
   "source": [
    "x_train.shape"
   ]
  },
  {
   "cell_type": "code",
   "execution_count": 39,
   "id": "f2ef0c89",
   "metadata": {},
   "outputs": [
    {
     "data": {
      "text/plain": [
       "(43810, 1)"
      ]
     },
     "execution_count": 39,
     "metadata": {},
     "output_type": "execute_result"
    }
   ],
   "source": [
    "y_train.shape"
   ]
  },
  {
   "cell_type": "code",
   "execution_count": 40,
   "id": "8427aa62",
   "metadata": {},
   "outputs": [
    {
     "data": {
      "text/plain": [
       "(18776, 1)"
      ]
     },
     "execution_count": 40,
     "metadata": {},
     "output_type": "execute_result"
    }
   ],
   "source": [
    "y_test.shape"
   ]
  },
  {
   "cell_type": "code",
   "execution_count": 41,
   "id": "657a6d7c",
   "metadata": {},
   "outputs": [],
   "source": [
    "#scale the data\n",
    "from sklearn.preprocessing import StandardScaler\n",
    "\n",
    "scaler = StandardScaler()"
   ]
  },
  {
   "cell_type": "code",
   "execution_count": 42,
   "id": "efe9e78e",
   "metadata": {},
   "outputs": [],
   "source": [
    "xtrain_scaled = pd.DataFrame(scaler.fit_transform(x_train), columns=x_train.columns)"
   ]
  },
  {
   "cell_type": "code",
   "execution_count": 43,
   "id": "32f49b35",
   "metadata": {},
   "outputs": [],
   "source": [
    "xtest_scaled = pd.DataFrame(scaler.transform(x_test), columns=x_test.columns)"
   ]
  },
  {
   "cell_type": "code",
   "execution_count": 44,
   "id": "1958002a",
   "metadata": {},
   "outputs": [
    {
     "data": {
      "text/plain": [
       "casualty_class                        1.000023\n",
       "sex_of_casualty                       1.000023\n",
       "age_band_of_casualty                  1.000023\n",
       "pedestrian_location                   1.000023\n",
       "pedestrian_movement                   1.000023\n",
       "car_passenger                         1.000023\n",
       "bus_or_coach_passenger                1.000023\n",
       "pedestrian_road_maintenance_worker    1.000023\n",
       "casualty_type                         1.000023\n",
       "casualty_home_area_type               1.000023\n",
       "casualty_imd_decile                   1.000023\n",
       "dtype: float64"
      ]
     },
     "execution_count": 44,
     "metadata": {},
     "output_type": "execute_result"
    }
   ],
   "source": [
    "xtrain_scaled.var()"
   ]
  },
  {
   "cell_type": "code",
   "execution_count": 45,
   "id": "919b50c1",
   "metadata": {},
   "outputs": [
    {
     "data": {
      "text/plain": [
       "casualty_class                        1.010901\n",
       "sex_of_casualty                       0.993262\n",
       "age_band_of_casualty                  1.009757\n",
       "pedestrian_location                   0.979903\n",
       "pedestrian_movement                   0.982814\n",
       "car_passenger                         0.991179\n",
       "bus_or_coach_passenger                0.902377\n",
       "pedestrian_road_maintenance_worker    0.967474\n",
       "casualty_type                         0.960271\n",
       "casualty_home_area_type               0.983995\n",
       "casualty_imd_decile                   1.014900\n",
       "dtype: float64"
      ]
     },
     "execution_count": 45,
     "metadata": {},
     "output_type": "execute_result"
    }
   ],
   "source": [
    "xtest_scaled.var()"
   ]
  },
  {
   "cell_type": "markdown",
   "id": "b752273d",
   "metadata": {},
   "source": [
    "The data has been downsized and scaled, next different algorithms will be tested"
   ]
  },
  {
   "cell_type": "code",
   "execution_count": 46,
   "id": "4b0319fc",
   "metadata": {},
   "outputs": [],
   "source": [
    "# Import KNeighborsClassifier from sklearn's neighbors module and GaussianNB\n",
    "from sklearn.neighbors import KNeighborsClassifier\n",
    "from sklearn.naive_bayes import GaussianNB"
   ]
  },
  {
   "cell_type": "code",
   "execution_count": 47,
   "id": "474d25a7",
   "metadata": {},
   "outputs": [],
   "source": [
    "#downsized unscaled\n",
    "models = {\n",
    "          \"DecisionTreeClassifier\": DecisionTreeClassifier(),\n",
    "          \n",
    "          \"SVC\": SVC(),\n",
    "          \n",
    "          \"LinearSVC\": LinearSVC(), \n",
    "\n",
    "          'LogisticRregression': LogisticRegression(),\n",
    "\n",
    "          'KNeighborsClassifier': KNeighborsClassifier(),\n",
    "\n",
    "          \"RandomForestClassifier\": RandomForestClassifier(),\n",
    "\n",
    "          \"GaussianNB\": GaussianNB()}"
   ]
  },
  {
   "cell_type": "code",
   "execution_count": 48,
   "id": "ac96f139",
   "metadata": {},
   "outputs": [
    {
     "name": "stderr",
     "output_type": "stream",
     "text": [
      "C:\\Users\\Haywh\\Anaconda3\\lib\\site-packages\\sklearn\\svm\\_base.py:985: ConvergenceWarning: Liblinear failed to converge, increase the number of iterations.\n",
      "  warnings.warn(\"Liblinear failed to converge, increase \"\n",
      "C:\\Users\\Haywh\\Anaconda3\\lib\\site-packages\\sklearn\\linear_model\\_logistic.py:763: ConvergenceWarning: lbfgs failed to converge (status=1):\n",
      "STOP: TOTAL NO. of ITERATIONS REACHED LIMIT.\n",
      "\n",
      "Increase the number of iterations (max_iter) or scale the data as shown in:\n",
      "    https://scikit-learn.org/stable/modules/preprocessing.html\n",
      "Please also refer to the documentation for alternative solver options:\n",
      "    https://scikit-learn.org/stable/modules/linear_model.html#logistic-regression\n",
      "  n_iter_i = _check_optimize_result(\n"
     ]
    },
    {
     "data": {
      "text/plain": [
       "{'DecisionTreeClassifier': 0.46910950149126546,\n",
       " 'SVC': 0.49579250106518963,\n",
       " 'LinearSVC': 0.46894972305070304,\n",
       " 'LogisticRregression': 0.4565402641670217,\n",
       " 'KNeighborsClassifier': 0.4396570089475927,\n",
       " 'RandomForestClassifier': 0.4743289305496378,\n",
       " 'GaussianNB': 0.4373668512995313}"
      ]
     },
     "execution_count": 48,
     "metadata": {},
     "output_type": "execute_result"
    }
   ],
   "source": [
    "#building on downsized unscaled data\n",
    "\n",
    "results = {}\n",
    "\n",
    "for model_name, model in models.items():\n",
    "    model.fit(x_train, y_train.values.ravel())\n",
    "    results[model_name] = model.score(x_test, y_test.values.ravel())\n",
    "    \n",
    "results"
   ]
  },
  {
   "cell_type": "code",
   "execution_count": 49,
   "id": "06e63d99",
   "metadata": {},
   "outputs": [],
   "source": [
    "#building on downsized scaled data\n",
    "models2 = {\n",
    "          \"DecisionTreeClassifier\": DecisionTreeClassifier(),\n",
    "          \n",
    "          \"SVC\": SVC(),\n",
    "          \n",
    "          \"LinearSVC\": LinearSVC(), \n",
    "\n",
    "          'LogisticRegression': LogisticRegression(),\n",
    "\n",
    "          'KNeighborsClassifier': KNeighborsClassifier(),\n",
    "\n",
    "          \"RandomForestClassifier\": RandomForestClassifier(),\n",
    "\n",
    "          \"GaussianNB\": GaussianNB()}"
   ]
  },
  {
   "cell_type": "code",
   "execution_count": 50,
   "id": "38bfd232",
   "metadata": {},
   "outputs": [
    {
     "name": "stderr",
     "output_type": "stream",
     "text": [
      "C:\\Users\\Haywh\\Anaconda3\\lib\\site-packages\\sklearn\\svm\\_base.py:985: ConvergenceWarning: Liblinear failed to converge, increase the number of iterations.\n",
      "  warnings.warn(\"Liblinear failed to converge, increase \"\n"
     ]
    },
    {
     "data": {
      "text/plain": [
       "{'DecisionTreeClassifier': 0.4694290583723903,\n",
       " 'SVC': 0.4962185769066894,\n",
       " 'LinearSVC': 0.45211972731146144,\n",
       " 'LogisticRegression': 0.45606092884533445,\n",
       " 'KNeighborsClassifier': 0.4380592245419685,\n",
       " 'RandomForestClassifier': 0.47251810822326373,\n",
       " 'GaussianNB': 0.4373668512995313}"
      ]
     },
     "execution_count": 50,
     "metadata": {},
     "output_type": "execute_result"
    }
   ],
   "source": [
    "results2 = {}\n",
    "\n",
    "for model_name, model in models2.items():\n",
    "    model.fit(xtrain_scaled, y_train.values.ravel())\n",
    "    results2[model_name] = model.score(xtest_scaled, y_test.values.ravel())\n",
    "    \n",
    "results2"
   ]
  },
  {
   "cell_type": "markdown",
   "id": "6b0eaaea",
   "metadata": {},
   "source": [
    "The downsized unscaled data performed better than the scaled data\n",
    "\n",
    "SVC came out to be the model with the highest accuracy. It will then be tuned"
   ]
  },
  {
   "cell_type": "code",
   "execution_count": 51,
   "id": "02a853de",
   "metadata": {},
   "outputs": [],
   "source": [
    "svc = SVC()"
   ]
  },
  {
   "cell_type": "code",
   "execution_count": 52,
   "id": "2082ab57",
   "metadata": {},
   "outputs": [
    {
     "data": {
      "text/plain": [
       "SVC()"
      ]
     },
     "execution_count": 52,
     "metadata": {},
     "output_type": "execute_result"
    }
   ],
   "source": [
    "svc.fit(x_train, y_train.values.ravel())"
   ]
  },
  {
   "cell_type": "code",
   "execution_count": 53,
   "id": "287edede",
   "metadata": {},
   "outputs": [],
   "source": [
    "#performing predictions on the test dataset\n",
    "y_pred = svc.predict(x_test)"
   ]
  },
  {
   "cell_type": "code",
   "execution_count": 54,
   "id": "3adeb633",
   "metadata": {},
   "outputs": [
    {
     "name": "stdout",
     "output_type": "stream",
     "text": [
      "ACCURACY OF THE MODEL:  0.49579250106518963\n"
     ]
    }
   ],
   "source": [
    "print(\"ACCURACY OF THE MODEL: \", accuracy_score(y_test, y_pred))"
   ]
  },
  {
   "cell_type": "code",
   "execution_count": 55,
   "id": "697cd4df",
   "metadata": {},
   "outputs": [
    {
     "name": "stdout",
     "output_type": "stream",
     "text": [
      "              precision    recall  f1-score   support\n",
      "\n",
      "           1       0.53      0.44      0.48      6258\n",
      "           2       0.48      0.42      0.45      6259\n",
      "           3       0.48      0.63      0.54      6259\n",
      "\n",
      "    accuracy                           0.50     18776\n",
      "   macro avg       0.50      0.50      0.49     18776\n",
      "weighted avg       0.50      0.50      0.49     18776\n",
      "\n"
     ]
    }
   ],
   "source": [
    "#create a classification report\n",
    "print(classification_report(y_test, y_pred))"
   ]
  },
  {
   "cell_type": "code",
   "execution_count": 56,
   "id": "16ea4a92",
   "metadata": {},
   "outputs": [
    {
     "data": {
      "text/plain": [
       "array([[2777, 1317, 2164],\n",
       "       [1597, 2616, 2046],\n",
       "       [ 827, 1516, 3916]], dtype=int64)"
      ]
     },
     "execution_count": 56,
     "metadata": {},
     "output_type": "execute_result"
    }
   ],
   "source": [
    "# Create a confusion matrix using the confusion_matrix function\n",
    "from sklearn.metrics import confusion_matrix\n",
    "\n",
    "confusion_matrix(y_test, y_pred)"
   ]
  },
  {
   "cell_type": "code",
   "execution_count": 57,
   "id": "6b632eda",
   "metadata": {},
   "outputs": [
    {
     "data": {
      "image/png": "[encoded data removed]",
      "text/plain": [
       "<Figure size 216x216 with 1 Axes>"
      ]
     },
     "metadata": {
      "needs_background": "light"
     },
     "output_type": "display_data"
    }
   ],
   "source": [
    "# Create a more visual confusion matrix\n",
    "import seaborn as sns\n",
    "\n",
    "def plot_conf_mat(y_test, y_pred):\n",
    "    \"\"\"\n",
    "    Plots a confusion matrix using seaborn's heatmap()\n",
    "    \"\"\"\n",
    "    fix, ax = plt.subplots(figsize=(3, 3))\n",
    "    ax = sns.heatmap(confusion_matrix(y_test, y_pred),\n",
    "                     annot=True,\n",
    "                     cbar=False)\n",
    "    plt.xlabel(\"Predicted label\")\n",
    "    plt.ylabel(\"True label\")\n",
    "    \n",
    "plot_conf_mat(y_test, y_pred)"
   ]
  },
  {
   "cell_type": "markdown",
   "id": "b379042e",
   "metadata": {},
   "source": [
    "#### Hyperparameter tuning"
   ]
  },
  {
   "cell_type": "code",
   "execution_count": 58,
   "id": "2b626c5b",
   "metadata": {},
   "outputs": [],
   "source": [
    "#tune with Grid Search CV\n",
    "kernel = ['rbf', 'poly', 'sigmoid']\n",
    "C = [0.1, 1, 10, 100] \n",
    "gamma = [1, 0.1, 0.01]\n",
    "\n",
    "grid_param = {'kernel': kernel,\n",
    "\n",
    "'C': C}"
   ]
  },
  {
   "cell_type": "code",
   "execution_count": 59,
   "id": "058c57a6",
   "metadata": {},
   "outputs": [],
   "source": [
    "from sklearn.model_selection import GridSearchCV\n",
    "svc_grid = GridSearchCV(estimator = svc, param_grid = grid_param, cv = 5, verbose=2, n_jobs = -1)"
   ]
  },
  {
   "cell_type": "code",
   "execution_count": 60,
   "id": "5c454e1b",
   "metadata": {},
   "outputs": [
    {
     "name": "stdout",
     "output_type": "stream",
     "text": [
      "Fitting 5 folds for each of 12 candidates, totalling 60 fits\n"
     ]
    },
    {
     "data": {
      "text/plain": [
       "GridSearchCV(cv=5, estimator=SVC(), n_jobs=-1,\n",
       "             param_grid={'C': [0.1, 1, 10, 100],\n",
       "                         'kernel': ['rbf', 'poly', 'sigmoid']},\n",
       "             verbose=2)"
      ]
     },
     "execution_count": 60,
     "metadata": {},
     "output_type": "execute_result"
    }
   ],
   "source": [
    "svc_grid.fit(x_train, y_train.values.ravel())"
   ]
  },
  {
   "cell_type": "code",
   "execution_count": 61,
   "id": "d60564dd",
   "metadata": {},
   "outputs": [
    {
     "data": {
      "text/plain": [
       "{'C': 100, 'kernel': 'rbf'}"
      ]
     },
     "execution_count": 61,
     "metadata": {},
     "output_type": "execute_result"
    }
   ],
   "source": [
    "#get the best parameters\n",
    "svc_grid.best_params_"
   ]
  },
  {
   "cell_type": "code",
   "execution_count": 62,
   "id": "33f9d49a",
   "metadata": {},
   "outputs": [
    {
     "data": {
      "text/plain": [
       "SVC(C=100)"
      ]
     },
     "execution_count": 62,
     "metadata": {},
     "output_type": "execute_result"
    }
   ],
   "source": [
    "#fix in the best parameters into svc and build a new model\n",
    "\n",
    "svc2 = SVC(C= 100, kernel = 'rbf')\n",
    "svc2.fit(x_train, y_train.values.ravel())"
   ]
  },
  {
   "cell_type": "code",
   "execution_count": 63,
   "id": "aefca3bc",
   "metadata": {},
   "outputs": [],
   "source": [
    "y_predi = svc2.predict(x_test)"
   ]
  },
  {
   "cell_type": "code",
   "execution_count": 64,
   "id": "f8596fee",
   "metadata": {},
   "outputs": [
    {
     "name": "stdout",
     "output_type": "stream",
     "text": [
      "ACCURACY OF THE MODEL:  0.5017575628461867\n"
     ]
    }
   ],
   "source": [
    "print(\"ACCURACY OF THE MODEL: \", accuracy_score(y_test, y_predi))"
   ]
  },
  {
   "cell_type": "code",
   "execution_count": null,
   "id": "b9e60925",
   "metadata": {},
   "outputs": [],
   "source": []
  }
 ],
 "metadata": {
  "kernelspec": {
   "display_name": "Python 3 (ipykernel)",
   "language": "python",
   "name": "python3"
  },
  "language_info": {
   "codemirror_mode": {
    "name": "ipython",
    "version": 3
   },
   "file_extension": ".py",
   "mimetype": "text/x-python",
   "name": "python",
   "nbconvert_exporter": "python",
   "pygments_lexer": "ipython3",
   "version": "3.9.7"
  }
 },
 "nbformat": 4,
 "nbformat_minor": 5
}
